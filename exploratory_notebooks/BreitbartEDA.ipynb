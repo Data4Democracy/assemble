{
 "cells": [
  {
   "cell_type": "code",
   "execution_count": 1,
   "metadata": {
    "collapsed": true
   },
   "outputs": [],
   "source": [
    "%matplotlib inline\n",
    "import pandas as pd\n",
    "import datetime\n",
    "import ast\n",
    "import tldextract"
   ]
  },
  {
   "cell_type": "code",
   "execution_count": 3,
   "metadata": {
    "collapsed": false
   },
   "outputs": [],
   "source": [
    "# You will need access to D4D data.world organization. Check in slack for more info\n",
    "# 150mb / 240k rows. Give it time, has to download over internet\n",
    "df = pd.read_csv('https://query.data.world/s/bbokc1f08to11j19j5axvkrcv', sep='\\t', parse_dates=['date'])"
   ]
  },
  {
   "cell_type": "code",
   "execution_count": 4,
   "metadata": {
    "collapsed": false
   },
   "outputs": [
    {
     "data": {
      "text/plain": [
       "author      241677\n",
       "title       241677\n",
       "lead        241677\n",
       "category    241677\n",
       "hrefs       241677\n",
       "dtype: int64"
      ]
     },
     "execution_count": 4,
     "metadata": {},
     "output_type": "execute_result"
    }
   ],
   "source": [
    "df.set_index('date', inplace=True)\n",
    "df.count()"
   ]
  },
  {
   "cell_type": "markdown",
   "metadata": {},
   "source": [
    "### Articles by year (2 months of 2012 missing)"
   ]
  },
  {
   "cell_type": "code",
   "execution_count": 5,
   "metadata": {
    "collapsed": false
   },
   "outputs": [
    {
     "data": {
      "text/plain": [
       "date\n",
       "2012-12-31    23935\n",
       "2013-12-31    33542\n",
       "2014-12-31    44966\n",
       "2015-12-31    64252\n",
       "2016-12-31    74982\n",
       "Name: title, dtype: int64"
      ]
     },
     "execution_count": 5,
     "metadata": {},
     "output_type": "execute_result"
    }
   ],
   "source": [
    "by_year=df.groupby([pd.TimeGrouper('A')]).count()['title']\n",
    "by_year"
   ]
  },
  {
   "cell_type": "code",
   "execution_count": 6,
   "metadata": {
    "collapsed": false
   },
   "outputs": [
    {
     "data": {
      "text/plain": [
       "<matplotlib.axes._subplots.AxesSubplot at 0x10f0679b0>"
      ]
     },
     "execution_count": 6,
     "metadata": {},
     "output_type": "execute_result"
    },
    {
     "data": {
      "image/png": "[encoded data removed]",
      "text/plain": [
       "<matplotlib.figure.Figure at 0x10e8e64e0>"
      ]
     },
     "metadata": {},
     "output_type": "display_data"
    }
   ],
   "source": [
    "by_year.plot()"
   ]
  },
  {
   "cell_type": "markdown",
   "metadata": {},
   "source": [
    "## Category publications by year"
   ]
  },
  {
   "cell_type": "code",
   "execution_count": 7,
   "metadata": {
    "collapsed": false
   },
   "outputs": [
    {
     "data": {
      "text/plain": [
       "date        category  \n",
       "2012-12-31  government     7480\n",
       "            hollywood      2940\n",
       "            journalism     1960\n",
       "            natsec         3560\n",
       "            sports           10\n",
       "            videos         7985\n",
       "2013-12-31  government    10389\n",
       "            hollywood      2159\n",
       "            jerusalem         3\n",
       "            journalism     2890\n",
       "            natsec         5074\n",
       "            sports         5382\n",
       "            texas             3\n",
       "            videos         7642\n",
       "2014-12-31  california     3109\n",
       "            government    10436\n",
       "            hollywood      1503\n",
       "            jerusalem      2583\n",
       "            journalism     1340\n",
       "            london         6080\n",
       "            natsec         7265\n",
       "            race2016         79\n",
       "            sports         3716\n",
       "            texas          2584\n",
       "            videos         6271\n",
       "2015-12-31  california     3671\n",
       "            government    15444\n",
       "            hollywood      2143\n",
       "            jerusalem      2679\n",
       "            journalism     2242\n",
       "            london         7219\n",
       "            natsec         8486\n",
       "            race2016       8807\n",
       "            sports         2882\n",
       "            tech            863\n",
       "            texas          2679\n",
       "            videos         7137\n",
       "2016-12-31  california     2987\n",
       "            government    17842\n",
       "            hollywood      1639\n",
       "            jerusalem      2928\n",
       "            journalism     1975\n",
       "            london         7712\n",
       "            natsec         7772\n",
       "            race2016      15779\n",
       "            sports         3027\n",
       "            tech           3449\n",
       "            texas          2928\n",
       "            videos         6944\n",
       "Name: title, dtype: int64"
      ]
     },
     "execution_count": 7,
     "metadata": {},
     "output_type": "execute_result"
    }
   ],
   "source": [
    "df.groupby([pd.TimeGrouper('A'),'category']).count()['title']"
   ]
  },
  {
   "cell_type": "markdown",
   "metadata": {},
   "source": [
    "### Top 25 authors"
   ]
  },
  {
   "cell_type": "code",
   "execution_count": 8,
   "metadata": {
    "collapsed": false
   },
   "outputs": [
    {
     "data": {
      "text/plain": [
       "author\n",
       "Breitbart News               25136\n",
       "Breitbart TV                 22899\n",
       "AWR Hawkins                   7987\n",
       "Ian Hanchett                  6920\n",
       "Pam Key                       6685\n",
       "Joel B. Pollak                6353\n",
       "Tony Lee                      5901\n",
       "William Bigelow               5177\n",
       "Charlie Spiering              5082\n",
       "Warner Todd Huston            4544\n",
       "Alex Swoyer                   4503\n",
       "John Nolte                    4406\n",
       "John Hayward                  3886\n",
       "Breitbart London              3812\n",
       "Bob Price                     3664\n",
       "Mary Chastain                 3388\n",
       "Frances Martel                3316\n",
       "Trent Baker                   3288\n",
       "Dr. Susan Berry               3267\n",
       "Matthew Boyle                 3220\n",
       "Jeff Poor                     2933\n",
       "Thomas D. Williams, Ph.D.     2720\n",
       "Adelle Nazarian               2586\n",
       "Daniel Nussbaum               2584\n",
       "Ildefonso Ortiz               2569\n",
       "Name: title, dtype: int64"
      ]
     },
     "execution_count": 8,
     "metadata": {},
     "output_type": "execute_result"
    }
   ],
   "source": [
    "df.groupby(['author']).count()['title'].sort_values(ascending=0).head(25)"
   ]
  },
  {
   "cell_type": "markdown",
   "metadata": {},
   "source": [
    "### Hacky attempt to explore most common top level domains linked in articles"
   ]
  },
  {
   "cell_type": "code",
   "execution_count": 9,
   "metadata": {
    "collapsed": true
   },
   "outputs": [],
   "source": [
    "from collections import Counter\n",
    "tld_counter = Counter()"
   ]
  },
  {
   "cell_type": "code",
   "execution_count": 10,
   "metadata": {
    "collapsed": true
   },
   "outputs": [],
   "source": [
    "def get_tld(hrefs):\n",
    "    \n",
    "    # Quick and dirty, not thorough yet\n",
    "    for link in ast.literal_eval(hrefs):\n",
    "        top_level = tldextract.extract(link)\n",
    "        top_level = top_level.domain\n",
    "        tld_counter[top_level] += 1"
   ]
  },
  {
   "cell_type": "code",
   "execution_count": 11,
   "metadata": {
    "collapsed": true
   },
   "outputs": [],
   "source": [
    "_ = df[['hrefs']].applymap(get_tld)"
   ]
  },
  {
   "cell_type": "code",
   "execution_count": 12,
   "metadata": {
    "collapsed": false
   },
   "outputs": [
    {
     "data": {
      "text/plain": [
       "[('twitter', 386204),\n",
       " ('breitbart', 367776),\n",
       " ('t', 64162),\n",
       " ('facebook', 25930),\n",
       " ('nytimes', 23036),\n",
       " ('amazon', 22010),\n",
       " ('washingtonpost', 21836),\n",
       " ('politico', 17172),\n",
       " ('cnn', 17096),\n",
       " ('reuters', 16230),\n",
       " ('youtube', 14850),\n",
       " ('wsj', 12216),\n",
       " ('foxnews', 12146),\n",
       " ('dailymail', 11914),\n",
       " ('go', 11774),\n",
       " ('GenerationalDynamics', 11082),\n",
       " ('theguardian', 10556),\n",
       " ('thehill', 10350),\n",
       " ('latimes', 10304),\n",
       " ('bbc', 9502),\n",
       " ('google', 8682),\n",
       " ('telegraph', 8568),\n",
       " ('huffingtonpost', 8288),\n",
       " ('state', 7994),\n",
       " ('scribd', 7514)]"
      ]
     },
     "execution_count": 12,
     "metadata": {},
     "output_type": "execute_result"
    }
   ],
   "source": [
    "tld_counter.most_common(25)"
   ]
  }
 ],
 "metadata": {
  "anaconda-cloud": {},
  "kernelspec": {
   "display_name": "Python [default]",
   "language": "python",
   "name": "python3"
  },
  "language_info": {
   "codemirror_mode": {
    "name": "ipython",
    "version": 3
   },
   "file_extension": ".py",
   "mimetype": "text/x-python",
   "name": "python",
   "nbconvert_exporter": "python",
   "pygments_lexer": "ipython3",
   "version": "3.5.2"
  }
 },
 "nbformat": 4,
 "nbformat_minor": 1
}
