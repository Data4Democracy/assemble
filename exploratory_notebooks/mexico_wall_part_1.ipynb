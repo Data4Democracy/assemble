{
 "cells": [
  {
   "cell_type": "code",
   "execution_count": 47,
   "metadata": {
    "collapsed": true
   },
   "outputs": [],
   "source": [
    "%matplotlib inline\n",
    "import matplotlib.pyplot as plt\n",
    "import pandas as pd\n",
    "import numpy as np\n",
    "from dateutil.relativedelta import relativedelta\n",
    "import datetime"
   ]
  },
  {
   "cell_type": "code",
   "execution_count": 2,
   "metadata": {
    "collapsed": false
   },
   "outputs": [],
   "source": [
    "df = pd.read_json(\"https://s3.amazonaws.com/far-right/twitter/mb_protests.json\")"
   ]
  },
  {
   "cell_type": "code",
   "execution_count": 3,
   "metadata": {
    "collapsed": false
   },
   "outputs": [
    {
     "data": {
      "text/plain": [
       "Index(['created', 'friends_count', 'hashtags', 'id_str', 'text',\n",
       "       'user_created', 'user_description', 'user_followers', 'user_location',\n",
       "       'user_name'],\n",
       "      dtype='object')"
      ]
     },
     "execution_count": 3,
     "metadata": {},
     "output_type": "execute_result"
    }
   ],
   "source": [
    "df.columns"
   ]
  },
  {
   "cell_type": "code",
   "execution_count": 4,
   "metadata": {
    "collapsed": false
   },
   "outputs": [
    {
     "name": "stdout",
     "output_type": "stream",
     "text": [
      "Total number of tweets = 116526\n"
     ]
    }
   ],
   "source": [
    "print(\"Total number of tweets = {}\".format(len(df)))"
   ]
  },
  {
   "cell_type": "markdown",
   "metadata": {},
   "source": [
    "##### How many tweets are about the 'wall'?"
   ]
  },
  {
   "cell_type": "code",
   "execution_count": 5,
   "metadata": {
    "collapsed": true
   },
   "outputs": [],
   "source": [
    "# Lowercase the hashtags and tweet body\n",
    "df['hashtags'] = df['hashtags'].str.lower()\n",
    "df['text'] = df['text'].str.lower()"
   ]
  },
  {
   "cell_type": "code",
   "execution_count": 6,
   "metadata": {
    "collapsed": false
   },
   "outputs": [
    {
     "name": "stdout",
     "output_type": "stream",
     "text": [
      "Total number of tweets containing hashtag 'wall' = 6372\n"
     ]
    }
   ],
   "source": [
    "print(\"Total number of tweets containing hashtag 'wall' = {}\".format(len(df[df['hashtags'].str.contains('wall')])))"
   ]
  },
  {
   "cell_type": "code",
   "execution_count": 7,
   "metadata": {
    "collapsed": false
   },
   "outputs": [
    {
     "name": "stdout",
     "output_type": "stream",
     "text": [
      "Total number of tweets whose body contains 'wall' = 7241\n"
     ]
    }
   ],
   "source": [
    "print(\"Total number of tweets whose body contains 'wall' = {}\".format(len(df[df['text'].str.contains('wall')])))"
   ]
  },
  {
   "cell_type": "code",
   "execution_count": 8,
   "metadata": {
    "collapsed": false
   },
   "outputs": [],
   "source": [
    "wall_tweets = df[(df['hashtags'].str.contains('wall')) | (df['text'].str.contains('wall'))].copy()"
   ]
  },
  {
   "cell_type": "code",
   "execution_count": 9,
   "metadata": {
    "collapsed": false
   },
   "outputs": [
    {
     "name": "stdout",
     "output_type": "stream",
     "text": [
      "Total number of tweets about the 'wall' = 7241\n"
     ]
    }
   ],
   "source": [
    "print(\"Total number of tweets about the 'wall' = {}\".format(len(wall_tweets)))"
   ]
  },
  {
   "cell_type": "markdown",
   "metadata": {},
   "source": [
    "##### What is the average twitter tenure of people who tweeted about the wall?"
   ]
  },
  {
   "cell_type": "code",
   "execution_count": 11,
   "metadata": {
    "collapsed": true
   },
   "outputs": [],
   "source": [
    "def months_between(end, start):\n",
    "    return (end.year - start.year)*12 + end.month - start.month"
   ]
  },
  {
   "cell_type": "code",
   "execution_count": 12,
   "metadata": {
    "collapsed": false
   },
   "outputs": [],
   "source": [
    "wall_tweets['created'] = pd.to_datetime(wall_tweets['created'])\n",
    "wall_tweets['user_created'] = pd.to_datetime(wall_tweets['user_created'])"
   ]
  },
  {
   "cell_type": "code",
   "execution_count": 13,
   "metadata": {
    "collapsed": false
   },
   "outputs": [],
   "source": [
    "wall_tweets['user_tenure'] = wall_tweets[['created', \\\n",
    "                            'user_created']].apply(lambda row: months_between(row[0], row[1]), axis=1)"
   ]
  },
  {
   "cell_type": "code",
   "execution_count": 17,
   "metadata": {
    "collapsed": false
   },
   "outputs": [
    {
     "data": {
      "image/png": "[encoded data removed]",
      "text/plain": [
       "<matplotlib.figure.Figure at 0x1303cb198>"
      ]
     },
     "metadata": {},
     "output_type": "display_data"
    }
   ],
   "source": [
    "tenure_grouping = wall_tweets.groupby('user_tenure').size() / len(wall_tweets) * 100\n",
    "\n",
    "fig, ax = plt.subplots()\n",
    "\n",
    "ax.plot(tenure_grouping.index, tenure_grouping.values)\n",
    "\n",
    "ax.set_ylabel(\"% of tweets\")\n",
    "ax.set_xlabel(\"Acct tenure in months\")\n",
    "\n",
    "plt.show()"
   ]
  },
  {
   "cell_type": "markdown",
   "metadata": {},
   "source": [
    "##### There are a couple of users tweeting multiple times, but most tweets come from distinct twitter handles "
   ]
  },
  {
   "cell_type": "code",
   "execution_count": 22,
   "metadata": {
    "collapsed": false
   },
   "outputs": [
    {
     "data": {
      "image/png": "[encoded data removed]",
      "text/plain": [
       "<matplotlib.figure.Figure at 0x13917e0b8>"
      ]
     },
     "metadata": {},
     "output_type": "display_data"
    }
   ],
   "source": [
    "tweets_per_user = wall_tweets.groupby('user_name').size().sort_values(ascending=False)\n",
    "\n",
    "fig, ax = plt.subplots()\n",
    "\n",
    "ax.plot(tweets_per_user.values)\n",
    "\n",
    "plt.show()"
   ]
  },
  {
   "cell_type": "markdown",
   "metadata": {},
   "source": [
    "##### Who are the 'top tweeters' + descriptions?"
   ]
  },
  {
   "cell_type": "code",
   "execution_count": 35,
   "metadata": {
    "collapsed": false
   },
   "outputs": [
    {
     "data": {
      "text/html": [
       "<div>\n",
       "<table border=\"1\" class=\"dataframe\">\n",
       "  <thead>\n",
       "    <tr style=\"text-align: right;\">\n",
       "      <th></th>\n",
       "      <th></th>\n",
       "      <th>0</th>\n",
       "    </tr>\n",
       "    <tr>\n",
       "      <th>user_name</th>\n",
       "      <th>user_description</th>\n",
       "      <th></th>\n",
       "    </tr>\n",
       "  </thead>\n",
       "  <tbody>\n",
       "    <tr>\n",
       "      <th>realtrumpNOT</th>\n",
       "      <th>parody account</th>\n",
       "      <td>117</td>\n",
       "    </tr>\n",
       "    <tr>\n",
       "      <th>latinagirlpwr</th>\n",
       "      <th>I love Obama but I'm still a #NasyWomen and I'm with her!  #NotMyFreakingPresisdent</th>\n",
       "      <td>63</td>\n",
       "    </tr>\n",
       "    <tr>\n",
       "      <th>OccupyWeather</th>\n",
       "      <th>#OccupyWallStreet: see these smart &amp; highly effective alternatives to camping in a frozen park: http://t.co/BifM2W4X http://t.co/fZFoQsWz http://t.co/MfyMRYqt</th>\n",
       "      <td>61</td>\n",
       "    </tr>\n",
       "    <tr>\n",
       "      <th>timothypwoodwa1</th>\n",
       "      <th>Let ALL races UNITE to Fix our Country for ALL legal Americans to live Safe &amp; Prosper. ~ Independent Thinker ~</th>\n",
       "      <td>57</td>\n",
       "    </tr>\n",
       "    <tr>\n",
       "      <th>tiwhitter</th>\n",
       "      <th>Heart belongs to Jesus, avid reader, writer, blogger, theologian, cat lady, music lover, believer in miracles, imperfect above all else.</th>\n",
       "      <td>54</td>\n",
       "    </tr>\n",
       "    <tr>\n",
       "      <th>timothypwoodwa1</th>\n",
       "      <th>Let ALL races UNITE to Fix our Country for ALL legal Americans to live Safe &amp; Prosper. ~ Independent Thinker ~ Rodents, Porn &amp; Ghost AccountsWILL BE BLOCKED!</th>\n",
       "      <td>39</td>\n",
       "    </tr>\n",
       "    <tr>\n",
       "      <th>tamilartist</th>\n",
       "      <th>Artist</th>\n",
       "      <td>33</td>\n",
       "    </tr>\n",
       "    <tr>\n",
       "      <th>Crusaydah</th>\n",
       "      <th>WAR.</th>\n",
       "      <td>27</td>\n",
       "    </tr>\n",
       "    <tr>\n",
       "      <th>DNdamagi</th>\n",
       "      <th>U dont know me well enough to judge me,but when you mess up, Im calling u out</th>\n",
       "      <td>24</td>\n",
       "    </tr>\n",
       "    <tr>\n",
       "      <th>GadflyMorse</th>\n",
       "      <th>Morse's Political Gadfly...It's About Truth</th>\n",
       "      <td>21</td>\n",
       "    </tr>\n",
       "    <tr>\n",
       "      <th>aarenjobs</th>\n",
       "      <th>Uncover Your Strengths Discover Your Future</th>\n",
       "      <td>21</td>\n",
       "    </tr>\n",
       "    <tr>\n",
       "      <th>saramarietweets</th>\n",
       "      <th>Voluntary benefits &amp; sales entrepreneur. Obsessed &amp; focused! Dr in #Education student &amp; MBA @LibertyU. Musician. ❤️ @AndrewBrenner. #TrumpTrain</th>\n",
       "      <td>21</td>\n",
       "    </tr>\n",
       "    <tr>\n",
       "      <th>drumpfshit360</th>\n",
       "      <th>Beyond the headlines to tell the Fake News from many points of views</th>\n",
       "      <td>15</td>\n",
       "    </tr>\n",
       "    <tr>\n",
       "      <th>USofA_af</th>\n",
       "      <th>Proud Deplorable.Woman for Trump.No Apologies.</th>\n",
       "      <td>15</td>\n",
       "    </tr>\n",
       "    <tr>\n",
       "      <th>hisey_mike</th>\n",
       "      <th>Homeless Advocate AIDS Advocate</th>\n",
       "      <td>14</td>\n",
       "    </tr>\n",
       "    <tr>\n",
       "      <th>UckfayRumptay</th>\n",
       "      <th>Historian. Queer. Feminist. NY. It's not a conversation, it's direction. #TheResistance #GrabYourWallet #TrumpLeaks #AnonFamily #OpTrump  Trumpanzee blocker.</th>\n",
       "      <td>14</td>\n",
       "    </tr>\n",
       "    <tr>\n",
       "      <th>shepherdwolves</th>\n",
       "      <th>PHOTO/VIDEO content in the #MEDIA folder- Run by a pack of fearless, progressive leaders. TeePublic link below: B&amp;W photographic, political t-shirts</th>\n",
       "      <td>13</td>\n",
       "    </tr>\n",
       "    <tr>\n",
       "      <th>NorthCaliGrl</th>\n",
       "      <th>Mom⏐wife⏐nurse. This is my weekend Twitter acct. Lover of meditation, historical fiction, dogs, tea, soccer &amp; lipstick. Anglophile. Not a fan of illiberal left.</th>\n",
       "      <td>13</td>\n",
       "    </tr>\n",
       "    <tr>\n",
       "      <th>TarragonWarren</th>\n",
       "      <th>Against globalism, imperialism, Zionism &amp; liberalism. For the people. Nationalists of the world unite!</th>\n",
       "      <td>12</td>\n",
       "    </tr>\n",
       "    <tr>\n",
       "      <th>dreamedofdust</th>\n",
       "      <th>⚡️Breaking News in the fight to MAGA 🇺🇸 Yuge Exposé of Swamp Corruption💥Now make like a tree and stick about!</th>\n",
       "      <td>12</td>\n",
       "    </tr>\n",
       "  </tbody>\n",
       "</table>\n",
       "</div>"
      ],
      "text/plain": [
       "                                                                      0\n",
       "user_name       user_description                                       \n",
       "realtrumpNOT    parody account                                      117\n",
       "latinagirlpwr   I love Obama but I'm still a #NasyWomen and I'm...   63\n",
       "OccupyWeather   #OccupyWallStreet: see these smart & highly eff...   61\n",
       "timothypwoodwa1 Let ALL races UNITE to Fix our Country for ALL ...   57\n",
       "tiwhitter       Heart belongs to Jesus, avid reader, writer, bl...   54\n",
       "timothypwoodwa1 Let ALL races UNITE to Fix our Country for ALL ...   39\n",
       "tamilartist     Artist                                               33\n",
       "Crusaydah       WAR.                                                 27\n",
       "DNdamagi        U dont know me well enough to judge me,but when...   24\n",
       "GadflyMorse     Morse's Political Gadfly...It's About Truth          21\n",
       "aarenjobs       Uncover Your Strengths Discover Your Future          21\n",
       "saramarietweets Voluntary benefits & sales entrepreneur. Obsess...   21\n",
       "drumpfshit360   Beyond the headlines to tell the Fake News from...   15\n",
       "USofA_af        Proud Deplorable.Woman for Trump.No Apologies.       15\n",
       "hisey_mike      Homeless Advocate AIDS Advocate                      14\n",
       "UckfayRumptay   Historian. Queer. Feminist. NY. It's not a conv...   14\n",
       "shepherdwolves  PHOTO/VIDEO content in the #MEDIA folder- Run b...   13\n",
       "NorthCaliGrl    Mom⏐wife⏐nurse. This is my weekend Twitter acct...   13\n",
       "TarragonWarren  Against globalism, imperialism, Zionism & liber...   12\n",
       "dreamedofdust   ⚡️Breaking News in the fight to MAGA 🇺🇸 Yuge Ex...   12"
      ]
     },
     "execution_count": 35,
     "metadata": {},
     "output_type": "execute_result"
    }
   ],
   "source": [
    "wall_tweets.groupby(['user_name', 'user_description']).size().sort_values(ascending=False).head(20).to_frame()"
   ]
  },
  {
   "cell_type": "markdown",
   "metadata": {},
   "source": [
    "##### What is the reach of these tweets in terms of followers?"
   ]
  },
  {
   "cell_type": "code",
   "execution_count": 57,
   "metadata": {
    "collapsed": false
   },
   "outputs": [
    {
     "data": {
      "image/png": "[encoded data removed]",
      "text/plain": [
       "<matplotlib.figure.Figure at 0x13926b160>"
      ]
     },
     "metadata": {},
     "output_type": "display_data"
    }
   ],
   "source": [
    "plt.boxplot(wall_tweets['friends_count'].values, vert=False)\n",
    "plt.show()"
   ]
  },
  {
   "cell_type": "code",
   "execution_count": 58,
   "metadata": {
    "collapsed": false
   },
   "outputs": [
    {
     "data": {
      "text/plain": [
       "count      7241.000000\n",
       "mean       1749.011324\n",
       "std        9197.940081\n",
       "min           0.000000\n",
       "25%         150.000000\n",
       "50%         430.000000\n",
       "75%        1121.000000\n",
       "max      228852.000000\n",
       "Name: friends_count, dtype: float64"
      ]
     },
     "execution_count": 58,
     "metadata": {},
     "output_type": "execute_result"
    }
   ],
   "source": [
    "wall_tweets['friends_count'].describe()"
   ]
  },
  {
   "cell_type": "markdown",
   "metadata": {},
   "source": [
    "##### Location of the tweets?"
   ]
  },
  {
   "cell_type": "code",
   "execution_count": 39,
   "metadata": {
    "collapsed": false
   },
   "outputs": [
    {
     "data": {
      "text/plain": [
       "user_location\n",
       "United States                     373\n",
       "California, USA                   127\n",
       "Brooklyn, NY                      121\n",
       "One Nation Under God, USA          96\n",
       "Los Angeles, CA                    82\n",
       "USA                                81\n",
       "New York, NY                       76\n",
       "Chicago, IL                        74\n",
       "Washington, DC                     62\n",
       "Florida, USA                       49\n",
       "Seattle, WA                        48\n",
       "New York, USA                      46\n",
       "New Jersey, USA                    45\n",
       "San Francisco, CA                  40\n",
       "Los Angeles                        39\n",
       "San Diego, CA                      39\n",
       "Philadelphia, PA                   36\n",
       "New York City                      34\n",
       "New York City, USA                 33\n",
       "London, England                    33\n",
       "Chicago                            32\n",
       "Dallas, TX                         32\n",
       "Columbus, OH                       31\n",
       "Boston, MA                         30\n",
       "NYC                                26\n",
       "Oakland, CA                        26\n",
       "Texas, USA                         26\n",
       "Houston, TX                        25\n",
       "New York                           24\n",
       "Portland, OR                       24\n",
       "                                 ... \n",
       "Niterói - RJ                        1\n",
       "No Where                            1\n",
       "Oaxaca de Juárez, Oaxaca            1\n",
       "Ottawa, Ontario, Canada             1\n",
       "Ottawa, Ontario                     1\n",
       "Ottawa                              1\n",
       "Oslo, Norway                        1\n",
       "Orchard Park, NY                    1\n",
       "Orange County, California           1\n",
       "On various fibers, tubes            1\n",
       "On the beaches, breach AGAIN        1\n",
       "On the Left                         1\n",
       "Omaha, NE                           1\n",
       "Olympia, WA                         1\n",
       "Oh-Ree-Gon, USA                     1\n",
       "Oakland, SF Bay Area                1\n",
       "Noneofyourbiz                       1\n",
       "ON EARTH                            1\n",
       "OHIO                                1\n",
       "Novadic, Playing & Sharing          1\n",
       "Not actually in Tehran, Iran        1\n",
       "Not Los Angeles, Not New York.      1\n",
       "Not Bellaire                        1\n",
       "North Texas                         1\n",
       "North Jersey                        1\n",
       "North Dorchester, Boston            1\n",
       "North Dakota                        1\n",
       "North Atlanta, GA                   1\n",
       "North                               1\n",
       "Mumbai                              1\n",
       "dtype: int64"
      ]
     },
     "execution_count": 39,
     "metadata": {},
     "output_type": "execute_result"
    }
   ],
   "source": [
    "wall_tweets.groupby('user_location').size().sort_values(ascending=False)"
   ]
  },
  {
   "cell_type": "code",
   "execution_count": null,
   "metadata": {
    "collapsed": true
   },
   "outputs": [],
   "source": []
  }
 ],
 "metadata": {
  "kernelspec": {
   "display_name": "Python 3",
   "language": "python",
   "name": "python3"
  },
  "language_info": {
   "codemirror_mode": {
    "name": "ipython",
    "version": 3
   },
   "file_extension": ".py",
   "mimetype": "text/x-python",
   "name": "python",
   "nbconvert_exporter": "python",
   "pygments_lexer": "ipython3",
   "version": "3.5.1"
  }
 },
 "nbformat": 4,
 "nbformat_minor": 0
}
