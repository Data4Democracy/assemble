{
 "cells": [
  {
   "cell_type": "markdown",
   "metadata": {},
   "source": [
    "## This note book contains code for pulling and aggregating the bi-daily scapes from 4chan into one dataframe which can be easily used for further analysis\n",
    "\n",
    "If you don't have access to s3, here's an excellent guide on obtaining access. Keys can be obtained by asking moderaters in the slack channel for far-right https://github.com/Data4Democracy/tutorials/blob/master/aws/AWS_Boto3_s3_intro.ipynb\n",
    "\n",
    "From this notebook anyone should be able to work on some more analysis, and the text of the messages from these scrapes looks very clean.  \n",
    "\n",
    "If you only want to pull a certain set of dates, just adjust the regex in match_string, or add some more\n",
    "conditionals to the loop which grabs the list of files to be read.\n",
    "\n",
    "You can also read fewer files (if you have a slow connection or not that much memory) by shortening the files list before the second for loop."
   ]
  },
  {
   "cell_type": "code",
   "execution_count": 10,
   "metadata": {
    "collapsed": false
   },
   "outputs": [],
   "source": [
    "import boto\n",
    "import boto3\n",
    "import pandas as pd\n",
    "import re\n",
    "from IPython.display import clear_output"
   ]
  },
  {
   "cell_type": "code",
   "execution_count": 5,
   "metadata": {
    "collapsed": false
   },
   "outputs": [
    {
     "data": {
      "text/plain": [
       "['default']"
      ]
     },
     "execution_count": 5,
     "metadata": {},
     "output_type": "execute_result"
    }
   ],
   "source": [
    "session = boto3.Session(profile_name='default')\n",
    "s3 = session.resource('s3')\n",
    "bucket = s3.Bucket(\"far-right\")\n",
    "session.available_profiles"
   ]
  },
  {
   "cell_type": "code",
   "execution_count": 15,
   "metadata": {
    "collapsed": false
   },
   "outputs": [
    {
     "name": "stdout",
     "output_type": "stream",
     "text": [
      "Completed Loading Files\n"
     ]
    }
   ],
   "source": [
    "base_url = 's3:far-right/'\n",
    "match_string = \"info-source/daily/[0-9]+/fourchan/fourchan\"\n",
    "\n",
    "files = []\n",
    "print(\"Getting bucket and files info\")\n",
    "for obj in bucket.objects.all():\n",
    "    if bool(re.search(match_string, obj.key)):\n",
    "        files.append(obj.key)\n",
    "        \n",
    "df = pd.DataFrame()\n",
    "for i, file in enumerate(files):\n",
    "    clear_output()\n",
    "    print(\"Loading file: \" + str(i + 1) + \" out of \" + str(len(files)))\n",
    "    if df.empty:\n",
    "        df = pd.read_json(base_url + file)        \n",
    "    else:\n",
    "        df = pd.concat([df, pd.read_json(base_url + file)])\n",
    "    \n",
    "clear_output()\n",
    "print(\"Completed Loading Files\")"
   ]
  },
  {
   "cell_type": "code",
   "execution_count": 12,
   "metadata": {
    "collapsed": false
   },
   "outputs": [
    {
     "data": {
      "text/plain": [
       "(968, 8)"
      ]
     },
     "execution_count": 12,
     "metadata": {},
     "output_type": "execute_result"
    }
   ],
   "source": [
    "df.shape"
   ]
  },
  {
   "cell_type": "code",
   "execution_count": 13,
   "metadata": {
    "collapsed": false
   },
   "outputs": [
    {
     "data": {
      "text/html": [
       "<div>\n",
       "<table border=\"1\" class=\"dataframe\">\n",
       "  <thead>\n",
       "    <tr style=\"text-align: right;\">\n",
       "      <th></th>\n",
       "      <th>authors</th>\n",
       "      <th>language</th>\n",
       "      <th>pub_date</th>\n",
       "      <th>pub_time</th>\n",
       "      <th>source</th>\n",
       "      <th>text_blob</th>\n",
       "      <th>title</th>\n",
       "      <th>url</th>\n",
       "    </tr>\n",
       "  </thead>\n",
       "  <tbody>\n",
       "    <tr>\n",
       "      <th>0</th>\n",
       "      <td>[Iv9eTFJC]</td>\n",
       "      <td>en</td>\n",
       "      <td>2015-01-08</td>\n",
       "      <td>2017-04-02 17:40:44</td>\n",
       "      <td>4chan</td>\n",
       "      <td>This board is for the discussion of news, worl...</td>\n",
       "      <td>Welcome to /pol/ - Politically Incorrect</td>\n",
       "      <td>http://boards.4chan.org/pol/thread/40489590#p4...</td>\n",
       "    </tr>\n",
       "    <tr>\n",
       "      <th>1</th>\n",
       "      <td>[UihOc4nM]</td>\n",
       "      <td>en</td>\n",
       "      <td>2017-02-03</td>\n",
       "      <td>2017-04-02 20:16:14</td>\n",
       "      <td>4chan</td>\n",
       "      <td>To further divide, splinter, and fracture the ...</td>\n",
       "      <td>Operation SPLINTER // General</td>\n",
       "      <td>http://boards.4chan.org/pol/thread/110922069#p...</td>\n",
       "    </tr>\n",
       "    <tr>\n",
       "      <th>2</th>\n",
       "      <td>[beB77TBi]</td>\n",
       "      <td>en</td>\n",
       "      <td>2017-02-03</td>\n",
       "      <td>2017-04-02 19:15:03</td>\n",
       "      <td>4chan</td>\n",
       "      <td>http://www.express.co.uk/news/uk/76</td>\n",
       "      <td>Brit/pol/ - Papers edition</td>\n",
       "      <td>http://boards.4chan.org/pol/thread/110912341#p...</td>\n",
       "    </tr>\n",
       "    <tr>\n",
       "      <th>3</th>\n",
       "      <td>[c1Xx6qvr]</td>\n",
       "      <td>en</td>\n",
       "      <td>2017-02-03</td>\n",
       "      <td>2017-04-02 19:28:04</td>\n",
       "      <td>4chan</td>\n",
       "      <td>5^7D CHESS</td>\n",
       "      <td>Get the popcorn ready</td>\n",
       "      <td>http://boards.4chan.org/pol/thread/110914524#p...</td>\n",
       "    </tr>\n",
       "    <tr>\n",
       "      <th>4</th>\n",
       "      <td>[80+crxO/]</td>\n",
       "      <td>en</td>\n",
       "      <td>2017-02-03</td>\n",
       "      <td>2017-04-02 20:42:10</td>\n",
       "      <td>4chan</td>\n",
       "      <td>wtf I hate america now</td>\n",
       "      <td>None</td>\n",
       "      <td>http://boards.4chan.org/pol/thread/110926048#p...</td>\n",
       "    </tr>\n",
       "  </tbody>\n",
       "</table>\n",
       "</div>"
      ],
      "text/plain": [
       "      authors language    pub_date            pub_time source  \\\n",
       "0  [Iv9eTFJC]       en  2015-01-08 2017-04-02 17:40:44  4chan   \n",
       "1  [UihOc4nM]       en  2017-02-03 2017-04-02 20:16:14  4chan   \n",
       "2  [beB77TBi]       en  2017-02-03 2017-04-02 19:15:03  4chan   \n",
       "3  [c1Xx6qvr]       en  2017-02-03 2017-04-02 19:28:04  4chan   \n",
       "4  [80+crxO/]       en  2017-02-03 2017-04-02 20:42:10  4chan   \n",
       "\n",
       "                                           text_blob  \\\n",
       "0  This board is for the discussion of news, worl...   \n",
       "1  To further divide, splinter, and fracture the ...   \n",
       "2                http://www.express.co.uk/news/uk/76   \n",
       "3                                         5^7D CHESS   \n",
       "4                             wtf I hate america now   \n",
       "\n",
       "                                      title  \\\n",
       "0  Welcome to /pol/ - Politically Incorrect   \n",
       "1             Operation SPLINTER // General   \n",
       "2                Brit/pol/ - Papers edition   \n",
       "3                     Get the popcorn ready   \n",
       "4                                      None   \n",
       "\n",
       "                                                 url  \n",
       "0  http://boards.4chan.org/pol/thread/40489590#p4...  \n",
       "1  http://boards.4chan.org/pol/thread/110922069#p...  \n",
       "2  http://boards.4chan.org/pol/thread/110912341#p...  \n",
       "3  http://boards.4chan.org/pol/thread/110914524#p...  \n",
       "4  http://boards.4chan.org/pol/thread/110926048#p...  "
      ]
     },
     "execution_count": 13,
     "metadata": {},
     "output_type": "execute_result"
    }
   ],
   "source": [
    "df.head()"
   ]
  },
  {
   "cell_type": "code",
   "execution_count": null,
   "metadata": {
    "collapsed": true
   },
   "outputs": [],
   "source": []
  }
 ],
 "metadata": {
  "anaconda-cloud": {},
  "kernelspec": {
   "display_name": "Python [default]",
   "language": "python",
   "name": "python3"
  },
  "language_info": {
   "codemirror_mode": {
    "name": "ipython",
    "version": 3
   },
   "file_extension": ".py",
   "mimetype": "text/x-python",
   "name": "python",
   "nbconvert_exporter": "python",
   "pygments_lexer": "ipython3",
   "version": "3.5.2"
  }
 },
 "nbformat": 4,
 "nbformat_minor": 1
}
