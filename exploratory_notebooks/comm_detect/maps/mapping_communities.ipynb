{
 "cells": [
  {
   "cell_type": "code",
   "execution_count": 1,
   "metadata": {
    "collapsed": false
   },
   "outputs": [],
   "source": [
    "using Plots, Distributions, JLD, CSV, DataFrames, PyCall, MultivariateStats, ProgressMeter, DataStructures"
   ]
  },
  {
   "cell_type": "code",
   "execution_count": 2,
   "metadata": {
    "collapsed": false
   },
   "outputs": [
    {
     "data": {
      "text/plain": [
       "MapUtils"
      ]
     },
     "execution_count": 2,
     "metadata": {},
     "output_type": "execute_result"
    }
   ],
   "source": [
    "include(\"maputils.jl\")"
   ]
  },
  {
   "cell_type": "markdown",
   "metadata": {},
   "source": [
    "# Mapping Communities\n",
    "The idea here is to define a plotting method that will extract relevant data at each zoom level to represent the communities.\n",
    "First idea:\n",
    "- show only a fraction of dots for sufficiently distant zoom?\n",
    "- show the biggest users at every level by dot size\n",
    "- show the most used words in every region"
   ]
  },
  {
   "cell_type": "code",
   "execution_count": 3,
   "metadata": {
    "collapsed": false
   },
   "outputs": [
    {
     "data": {
      "text/plain": [
       "1205559-element Array{String,1}:\n",
       " \"Deborah87958167\"    \n",
       " \"texasfarmgirl1836\"  \n",
       " \"Squatch\"            \n",
       " \"Lu Who\"             \n",
       " \"SongsOfLaredo\"      \n",
       " \"Diva\"               \n",
       " \"Bishop Talbert Swan\"\n",
       " \"NadelParis\"         \n",
       " \"Buster Brown\"       \n",
       " \"AdolescentIdle\"     \n",
       " \"ㅤㅤㅤ\"                \n",
       " \"DCSlove1129\"        \n",
       " \"キャロット🥕\"             \n",
       " ⋮                    \n",
       " \"Sasha Illegems\"     \n",
       " \"sjandreae\"          \n",
       " \"leeanndroid\"        \n",
       " \"chabudai0001\"       \n",
       " \"SisSissaki\"         \n",
       " \"QKout\"              \n",
       " \"roa_isa\"            \n",
       " \"HolyFuzazzle\"       \n",
       " \"SofiaGuapura\"       \n",
       " \"JohnJulia18\"        \n",
       " \"KPniele\"            \n",
       " \"Name Redacted\"      "
      ]
     },
     "execution_count": 3,
     "metadata": {},
     "output_type": "execute_result"
    }
   ],
   "source": [
    "# the 1.2M x 60 classifier matrix:\n",
    "U_60 = JLD.load(\"/media/henripal/hd1/data/U_60.jld\", \"U_60\")\n",
    "\n",
    "# the 1.2M names array\n",
    "names = JLD.load(\"/media/henripal/hd1/data/names.jld\",\"names\")\n"
   ]
  },
  {
   "cell_type": "code",
   "execution_count": 4,
   "metadata": {
    "collapsed": false
   },
   "outputs": [
    {
     "data": {
      "text/html": [
       "<table class=\"data-frame\"><thead><tr><th></th><th>name</th><th>followers</th></tr></thead><tbody><tr><th>1</th><td>Nullable{WeakRefString{UInt8}}(\"GavaironJ\")</td><td>Nullable{Int64}(5)</td></tr><tr><th>2</th><td>Nullable{WeakRefString{UInt8}}(\"bocchijoto\")</td><td>Nullable{Int64}(1834)</td></tr><tr><th>3</th><td>Nullable{WeakRefString{UInt8}}(\"cannabinolsen\")</td><td>Nullable{Int64}(1)</td></tr><tr><th>4</th><td>Nullable{WeakRefString{UInt8}}(\"angelman61\")</td><td>Nullable{Int64}(32)</td></tr><tr><th>5</th><td>Nullable{WeakRefString{UInt8}}(\"alex_latrice21\")</td><td>Nullable{Int64}(199)</td></tr><tr><th>6</th><td>Nullable{WeakRefString{UInt8}}(\"turnipkween\")</td><td>Nullable{Int64}(242)</td></tr><tr><th>7</th><td>Nullable{WeakRefString{UInt8}}(\"EveMorante\")</td><td>Nullable{Int64}(747)</td></tr><tr><th>8</th><td>Nullable{WeakRefString{UInt8}}(\"mwutley\")</td><td>Nullable{Int64}(113)</td></tr><tr><th>9</th><td>Nullable{WeakRefString{UInt8}}(\"LetsCllnk\")</td><td>Nullable{Int64}(59)</td></tr><tr><th>10</th><td>Nullable{WeakRefString{UInt8}}(\"positivelytaco\")</td><td>Nullable{Int64}(173)</td></tr><tr><th>11</th><td>Nullable{WeakRefString{UInt8}}(\"SachaStein\")</td><td>Nullable{Int64}(171)</td></tr><tr><th>12</th><td>Nullable{WeakRefString{UInt8}}(\"andino__20\")</td><td>Nullable{Int64}(155)</td></tr><tr><th>13</th><td>Nullable{WeakRefString{UInt8}}(\"Bonduran1\")</td><td>Nullable{Int64}(598)</td></tr><tr><th>14</th><td>Nullable{WeakRefString{UInt8}}(\"pretocaetano\")</td><td>Nullable{Int64}(259)</td></tr><tr><th>15</th><td>Nullable{WeakRefString{UInt8}}(\"TheLos\")</td><td>Nullable{Int64}(967)</td></tr><tr><th>16</th><td>Nullable{WeakRefString{UInt8}}(\"LaylaGerhart\")</td><td>Nullable{Int64}(4)</td></tr><tr><th>17</th><td>Nullable{WeakRefString{UInt8}}(\"stolethetart\")</td><td>Nullable{Int64}(34)</td></tr><tr><th>18</th><td>Nullable{WeakRefString{UInt8}}(\"aryalptara\")</td><td>Nullable{Int64}(450)</td></tr><tr><th>19</th><td>Nullable{WeakRefString{UInt8}}(\"asvpxstephaniex\")</td><td>Nullable{Int64}(107)</td></tr><tr><th>20</th><td>Nullable{WeakRefString{UInt8}}(\"Doreen58\")</td><td>Nullable{Int64}(84)</td></tr><tr><th>21</th><td>Nullable{WeakRefString{UInt8}}(\"ivysharIey\")</td><td>Nullable{Int64}(274)</td></tr><tr><th>22</th><td>Nullable{WeakRefString{UInt8}}(\"YSemerel\")</td><td>Nullable{Int64}(8)</td></tr><tr><th>23</th><td>Nullable{WeakRefString{UInt8}}(\"LVIaLondres\")</td><td>Nullable{Int64}(549)</td></tr><tr><th>24</th><td>Nullable{WeakRefString{UInt8}}(\"monsterfromars\")</td><td>Nullable{Int64}(856)</td></tr><tr><th>25</th><td>Nullable{WeakRefString{UInt8}}(\"SassyBroncoFan\")</td><td>Nullable{Int64}(11)</td></tr><tr><th>26</th><td>Nullable{WeakRefString{UInt8}}(\"karururo\")</td><td>Nullable{Int64}(74)</td></tr><tr><th>27</th><td>Nullable{WeakRefString{UInt8}}(\"thaecn\")</td><td>Nullable{Int64}(11)</td></tr><tr><th>28</th><td>Nullable{WeakRefString{UInt8}}(\"Raulggrc\")</td><td>Nullable{Int64}(641)</td></tr><tr><th>29</th><td>Nullable{WeakRefString{UInt8}}(\"ZireLLi_B\")</td><td>Nullable{Int64}(285)</td></tr><tr><th>30</th><td>Nullable{WeakRefString{UInt8}}(\"tamtinke2\")</td><td>Nullable{Int64}(114)</td></tr><tr><th>&vellip;</th><td>&vellip;</td><td>&vellip;</td></tr></tbody></table>"
      ],
      "text/plain": [
       "1076038×2 DataFrames.DataFrame\n",
       "│ Row     │ name              │ followers │\n",
       "├─────────┼───────────────────┼───────────┤\n",
       "│ 1       │ \"GavaironJ\"       │ 5         │\n",
       "│ 2       │ \"bocchijoto\"      │ 1834      │\n",
       "│ 3       │ \"cannabinolsen\"   │ 1         │\n",
       "│ 4       │ \"angelman61\"      │ 32        │\n",
       "│ 5       │ \"alex_latrice21\"  │ 199       │\n",
       "│ 6       │ \"turnipkween\"     │ 242       │\n",
       "│ 7       │ \"EveMorante\"      │ 747       │\n",
       "│ 8       │ \"mwutley\"         │ 113       │\n",
       "│ 9       │ \"LetsCllnk\"       │ 59        │\n",
       "│ 10      │ \"positivelytaco\"  │ 173       │\n",
       "│ 11      │ \"SachaStein\"      │ 171       │\n",
       "⋮\n",
       "│ 1076027 │ \"trena_nauta\"     │ 91        │\n",
       "│ 1076028 │ \"TEurit\"          │ 74        │\n",
       "│ 1076029 │ \"CamilleVanneste\" │ 232       │\n",
       "│ 1076030 │ \"kawaiiPhilip\"    │ 342       │\n",
       "│ 1076031 │ \"nahlaels\"        │ 2932      │\n",
       "│ 1076032 │ \"superhamps\"      │ 155       │\n",
       "│ 1076033 │ \"danvera\"         │ 1371      │\n",
       "│ 1076034 │ \"matthewmientka\"  │ 26545     │\n",
       "│ 1076035 │ \"EmmaCDickinson\"  │ 231       │\n",
       "│ 1076036 │ \"zombiemedic1985\" │ 124       │\n",
       "│ 1076037 │ \"kben_ears\"       │ 96        │\n",
       "│ 1076038 │ \"RynoDyrt\"        │ 173       │"
      ]
     },
     "execution_count": 4,
     "metadata": {},
     "output_type": "execute_result"
    }
   ],
   "source": [
    "# the 1.2M name to followers array\n",
    "followers = CSV.read(\"/media/henripal/hd1/data/name_to_follower.csv\", header =[\"name\", \"followers\"])\n"
   ]
  },
  {
   "cell_type": "code",
   "execution_count": 5,
   "metadata": {
    "collapsed": false
   },
   "outputs": [],
   "source": [
    "tsne_xy = CSV.read(\"/media/henripal/hd1/data/tsne_results.csv\");"
   ]
  },
  {
   "cell_type": "code",
   "execution_count": 6,
   "metadata": {
    "collapsed": false
   },
   "outputs": [
    {
     "data": {
      "text/plain": [
       "Array{Tuple{Float64,Float64},1}"
      ]
     },
     "execution_count": 6,
     "metadata": {},
     "output_type": "execute_result"
    }
   ],
   "source": [
    "tsne_data = Array{Tuple{Float64, Float64}, 1}(length(tsne_xy[:,1])) \n",
    "for (i,(k,v)) in enumerate(collect((zip(tsne_xy[:,1], tsne_xy[:,2]))))\n",
    "    tsne_data[i] = (get(k),get(v))\n",
    "end\n",
    "typeof(tsne_data)"
   ]
  },
  {
   "cell_type": "code",
   "execution_count": 7,
   "metadata": {
    "collapsed": false
   },
   "outputs": [],
   "source": [
    "name_to_followers = DefaultDict{String, Int64}(1)\n",
    "for (k,v) in zip(followers[1], followers[2])\n",
    "    name_to_followers[get(k)] = get(v)\n",
    "end\n"
   ]
  },
  {
   "cell_type": "code",
   "execution_count": 8,
   "metadata": {
    "collapsed": false
   },
   "outputs": [],
   "source": [
    "follower_list = [name_to_followers[name] for name in names];"
   ]
  },
  {
   "cell_type": "code",
   "execution_count": 9,
   "metadata": {
    "collapsed": false
   },
   "outputs": [
    {
     "name": "stdout",
     "output_type": "stream",
     "text": [
      "Progress: 100%|█████████████████████████████████████████| Time: 0:00:05\n"
     ]
    }
   ],
   "source": [
    "# normalizing the output\n",
    "U_60_t = U_60'\n",
    "@showprogress for j in 1:size(U_60_t, 2)\n",
    "    U_60_t[:, j] = U_60_t[:, j]/ sum(U_60_t[:, j])\n",
    "end"
   ]
  },
  {
   "cell_type": "code",
   "execution_count": 10,
   "metadata": {
    "collapsed": false
   },
   "outputs": [
    {
     "name": "stdout",
     "output_type": "stream",
     "text": [
      "Progress: 100%|█████████████████████████████████████████| Time: 0:00:02\n"
     ]
    }
   ],
   "source": [
    "community_index = Array{Int64, 1}(size(U_60_t,2))\n",
    "@showprogress for j in 1:size(U_60_t,2)\n",
    "    community_index[j] = indmax(U_60_t[:,j])\n",
    "end\n",
    "    \n",
    "    "
   ]
  },
  {
   "cell_type": "code",
   "execution_count": 11,
   "metadata": {
    "collapsed": false
   },
   "outputs": [],
   "source": [
    "marker_sizes = max(1,log.(follower_list));"
   ]
  },
  {
   "cell_type": "code",
   "execution_count": 12,
   "metadata": {
    "collapsed": false
   },
   "outputs": [
    {
     "data": {
      "text/plain": [
       "Plots.GRBackend()"
      ]
     },
     "execution_count": 12,
     "metadata": {},
     "output_type": "execute_result"
    }
   ],
   "source": [
    "gr(format = \"png\", size = (256,256))"
   ]
  },
  {
   "cell_type": "code",
   "execution_count": 13,
   "metadata": {
    "collapsed": false
   },
   "outputs": [],
   "source": [
    "labels = Tuple{Float64, Float64, String}[]\n",
    "for (xy, z) in zip(tsne_data, names)\n",
    "    push!(labels, (xy[1], xy[2], z))\n",
    "end"
   ]
  },
  {
   "cell_type": "code",
   "execution_count": 14,
   "metadata": {
    "collapsed": false
   },
   "outputs": [
    {
     "data": {
      "text/plain": [
       "MapUtils.ScatterMap((-8.603973508234581,8.755876194051911),(-8.559032283159715,8.724184173062454),Tuple{Float64,Float64}[(-3.67537,0.406384),(-3.38894,-1.50023),(3.35444,2.2671),(-0.414676,-5.59813),(-3.68099,0.236792),(-0.216058,-3.08127),(-0.87525,-4.85737),(-2.05057,-1.20945),(-3.12345,-2.00421),(-6.65075,-3.59875)  …  (2.9136,-2.5362),(4.67752,-0.180636),(-7.93591,-2.32979),(-5.63709,-1.09109),(1.52822,-5.29661),(-5.55409,4.82156),(-6.09647,-3.0425),(-3.71735,-3.90759),(-1.87906,2.91195),(1.1919,-0.384781)],ColorTypes.RGBA{Float64}[RGBA{Float64}(0.390585,0.664069,0.533559,1.0),RGBA{Float64}(0.834731,0.859054,0.790252,1.0),RGBA{Float64}(0.970318,0.92799,0.907715,1.0),RGBA{Float64}(0.109809,0.307394,0.381312,1.0),RGBA{Float64}(0.390585,0.664069,0.533559,1.0),RGBA{Float64}(0.390585,0.664069,0.533559,1.0),RGBA{Float64}(0.247427,0.0602665,0.24501,1.0),RGBA{Float64}(0.571404,0.732618,0.601531,1.0),RGBA{Float64}(0.322047,0.639513,0.520266,1.0),RGBA{Float64}(0.970318,0.92799,0.907715,1.0)  …  RGBA{Float64}(0.84997,0.524823,0.450866,1.0),RGBA{Float64}(0.51284,0.709199,0.573664,1.0),RGBA{Float64}(0.584306,0.167179,0.377862,1.0),RGBA{Float64}(0.334679,0.0750154,0.308451,1.0),RGBA{Float64}(0.0906185,0.400452,0.434712,1.0),RGBA{Float64}(0.25445,0.614055,0.508708,1.0),RGBA{Float64}(0.970318,0.92799,0.907715,1.0),RGBA{Float64}(0.100992,0.368167,0.41771,1.0),RGBA{Float64}(0.089647,0.14911,0.283952,1.0),RGBA{Float64}(0.960916,0.931713,0.909214,1.0)],[5.04986,1.0,1.0,1.0,1.0,1.0,1.0,12.7979,1.0,6.42162  …  7.99834,5.01728,1.0,5.45104,8.06589,3.85015,1.09861,4.2485,3.2581,1.0],Tuple{Float64,Float64,String}[(-3.67537,0.406384,\"Deborah87958167\"),(-3.38894,-1.50023,\"texasfarmgirl1836\"),(3.35444,2.2671,\"Squatch\"),(-0.414676,-5.59813,\"Lu Who\"),(-3.68099,0.236792,\"SongsOfLaredo\"),(-0.216058,-3.08127,\"Diva\"),(-0.87525,-4.85737,\"Bishop Talbert Swan\"),(-2.05057,-1.20945,\"NadelParis\"),(-3.12345,-2.00421,\"Buster Brown\"),(-6.65075,-3.59875,\"AdolescentIdle\")  …  (2.9136,-2.5362,\"leeanndroid\"),(4.67752,-0.180636,\"chabudai0001\"),(-7.93591,-2.32979,\"SisSissaki\"),(-5.63709,-1.09109,\"QKout\"),(1.52822,-5.29661,\"roa_isa\"),(-5.55409,4.82156,\"HolyFuzazzle\"),(-6.09647,-3.0425,\"SofiaGuapura\"),(-3.71735,-3.90759,\"JohnJulia18\"),(-1.87906,2.91195,\"KPniele\"),(1.1919,-0.384781,\"Name Redacted\")])"
      ]
     },
     "execution_count": 14,
     "metadata": {},
     "output_type": "execute_result"
    }
   ],
   "source": [
    "twitter_map = MapUtils.ScatterMap(tsne_data, :curl, community_index, marker_sizes, labels)"
   ]
  },
  {
   "cell_type": "code",
   "execution_count": 15,
   "metadata": {
    "collapsed": false
   },
   "outputs": [
    {
     "data": {
      "text/plain": [
       "MapUtils.TiledMap(Dict((5,7,4)=>MapUtils.ScatterMap((-2.09403,-1.00904),(4.40338,5.48358),Tuple{Float64,Float64}[(-1.63282,5.56484),(-1.71811,4.95468),(-1.76711,5.41047),(-1.19588,5.51248),(-0.905979,4.82802),(-2.13196,5.48667),(-1.60555,4.36292),(-1.28617,5.48963),(-2.14903,5.42977),(-1.72918,5.49719)  …  (-2.0042,5.07561),(-1.75842,4.92426),(-2.09476,5.45284),(-2.07752,5.41627),(-1.74085,5.41102),(-1.5599,5.57771),(-1.83039,5.40057),(-1.46039,5.14635),(-1.76959,5.31054),(-0.933895,5.29825)],ColorTypes.RGBA{Float64}[RGBA{Float64}(0.84997,0.524823,0.450866,1.0),RGBA{Float64}(0.84997,0.524823,0.450866,1.0),RGBA{Float64}(0.0822556,0.114924,0.26479,1.0),RGBA{Float64}(0.51284,0.709199,0.573664,1.0),RGBA{Float64}(0.784165,0.831258,0.745527,1.0),RGBA{Float64}(0.84997,0.524823,0.450866,1.0),RGBA{Float64}(0.784165,0.831258,0.745527,1.0),RGBA{Float64}(0.51284,0.709199,0.573664,1.0),RGBA{Float64}(0.84997,0.524823,0.450866,1.0),RGBA{Float64}(0.0822556,0.114924,0.26479,1.0)  …  RGBA{Float64}(0.84997,0.524823,0.450866,1.0),RGBA{Float64}(0.84997,0.524823,0.450866,1.0),RGBA{Float64}(0.84997,0.524823,0.450866,1.0),RGBA{Float64}(0.84997,0.524823,0.450866,1.0),RGBA{Float64}(0.0822556,0.114924,0.26479,1.0),RGBA{Float64}(0.0822556,0.114924,0.26479,1.0),RGBA{Float64}(0.0822556,0.114924,0.26479,1.0),RGBA{Float64}(0.84997,0.524823,0.450866,1.0),RGBA{Float64}(0.0822556,0.114924,0.26479,1.0),RGBA{Float64}(0.51284,0.709199,0.573664,1.0)],[3.66356,5.27811,1.0,1.0,9.35565,8.5897,1.0,1.0,6.63463,1.0  …  9.8422,4.82831,6.2804,3.49651,1.38629,6.90975,5.22036,3.58352,6.57368,7.25205],Tuple{Float64,Float64,String}[(-0.261325,3.68316,\"SamHarrisOrg\"),(-1.3138,5.73738,\"Bob_Mayer\"),(-2.77897,5.14769,\"The90sLife\"),(-0.829773,4.30472,\"croon1\"),(-0.280327,5.12604,\"Nexofin\"),(-0.491088,5.68991,\"Herring1967\"),(-1.36346,5.11706,\"RickiLake\"),(-0.349033,6.54702,\"geertwilderspvv\"),(-0.889074,5.27183,\"perfilcom\"),(0.00644209,5.55626,\"ukrpravda_news\")  …  (-2.95763,5.44652,\"kevin_nealon\"),(-0.494404,3.53921,\"EliteDaily\"),(-2.18204,4.64091,\"RestingPlatypus\"),(-0.574724,4.95298,\"nikosaliagas\"),(-1.70075,5.29123,\"North2North\"),(-2.32494,3.48859,\"AkposTheComedia\"),(-2.56013,5.00055,\"Arturo_Sarukhan\"),(-2.62884,6.38105,\"Dieg0Portillo\"),(-1.51629,4.83771,\"EELV\"),(-2.11589,3.87189,\"FOX10Phoenix\")]),(5,13,15)=>MapUtils.ScatterMap((4.41591,5.5009),(-7.47883,-6.39863),Tuple{Float64,Float64}[(4.82025,-6.57927),(4.56873,-7.25492),(4.33129,-7.28116),(4.47118,-7.20177),(4.39559,-7.26623),(4.58828,-6.36454),(4.58979,-6.38322),(4.59189,-7.25181),(4.60876,-7.0691),(4.90392,-6.53031)  …  (4.45797,-7.23709),(4.78697,-6.58392),(4.59165,-6.36881),(4.36084,-7.25548),(4.58522,-6.34783),(4.58524,-6.33753),(4.53868,-6.36035),(4.60445,-6.31329),(4.46372,-6.4308),(4.58939,-6.29658)],ColorTypes.RGBA{Float64}[RGBA{Float64}(0.584306,0.167179,0.377862,1.0),RGBA{Float64}(0.934048,0.819806,0.763949,1.0),RGBA{Float64}(0.584306,0.167179,0.377862,1.0),RGBA{Float64}(0.584306,0.167179,0.377862,1.0),RGBA{Float64}(0.584306,0.167179,0.377862,1.0),RGBA{Float64}(0.970318,0.92799,0.907715,1.0),RGBA{Float64}(0.970318,0.92799,0.907715,1.0),RGBA{Float64}(0.934048,0.819806,0.763949,1.0),RGBA{Float64}(0.584306,0.167179,0.377862,1.0),RGBA{Float64}(0.584306,0.167179,0.377862,1.0)  …  RGBA{Float64}(0.584306,0.167179,0.377862,1.0),RGBA{Float64}(0.584306,0.167179,0.377862,1.0),RGBA{Float64}(0.970318,0.92799,0.907715,1.0),RGBA{Float64}(0.584306,0.167179,0.377862,1.0),RGBA{Float64}(0.970318,0.92799,0.907715,1.0),RGBA{Float64}(0.970318,0.92799,0.907715,1.0),RGBA{Float64}(0.970318,0.92799,0.907715,1.0),RGBA{Float64}(0.970318,0.92799,0.907715,1.0),RGBA{Float64}(0.970318,0.92799,0.907715,1.0),RGBA{Float64}(0.970318,0.92799,0.907715,1.0)],[1.09861,4.39445,1.0,5.05625,1.0,6.6733,2.94444,6.98472,2.19722,1.09861  …  1.0,2.3979,4.36945,2.70805,4.12713,6.15486,1.0,9.30774,6.2691,8.0067],Tuple{Float64,Float64,String}[(3.57931,-7.27266,\"machadooficial\"),(4.5441,-6.05832,\"nytimesworld\"),(4.42365,-5.73489,\"YourFavPosts\"),(4.3847,-5.76561,\"CavemansSponge\"),(4.22526,-6.23629,\"kcranews\"),(3.59255,-5.57718,\"LifeFacts\"),(4.45971,-5.87998,\"hectorabadf\"),(3.71056,-5.95288,\"idrisbal\"),(5.44291,-6.23212,\"ademyavuza\"),(4.52712,-6.09815,\"WCVB\"),(4.39584,-6.23247,\"SierraMcClain\"),(3.58897,-7.24785,\"loitersquvdvids\")]),(7,18,5)=>MapUtils.ScatterMap((-3.99276,-3.72152),(7.37393,7.64398),Tuple{Float64,Float64}[],ColorTypes.RGBA{Float64}[],Float64[],Tuple{Float64,Float64,String}[(-3.91551,7.28574,\"JOJEHARVEY\"),(-3.7033,7.16553,\"MileyCyrus_es\"),(-3.88877,7.25753,\"louisemcsharry\"),(-3.90413,7.27781,\"thepooluk\"),(-3.89216,7.26002,\"Marshy00\")]),(7,45,44)=>MapUtils.ScatterMap((3.33092,3.60217),(-3.15803,-2.88798),Tuple{Float64,Float64}[(3.60324,-2.90121),(3.61114,-3.12409),(3.51463,-3.11958),(3.58682,-3.15501),(3.55512,-3.10237),(3.51203,-3.12201),(3.41327,-3.16677),(3.39081,-3.00498),(3.47907,-3.17282),(3.54142,-3.13407)  …  (3.59119,-3.09066),(3.38414,-3.08708),(3.431,-3.18396),(3.41327,-3.17384),(3.36764,-3.16298),(3.60059,-3.1441),(3.4456,-2.8814),(3.62688,-3.121),(3.51461,-3.06088),(3.45512,-3.02174)],ColorTypes.RGBA{Float64}[RGBA{Float64}(0.73353,0.804965,0.704143,1.0),RGBA{Float64}(0.73353,0.804965,0.704143,1.0),RGBA{Float64}(0.73353,0.804965,0.704143,1.0),RGBA{Float64}(0.73353,0.804965,0.704143,1.0),RGBA{Float64}(0.73353,0.804965,0.704143,1.0),RGBA{Float64}(0.73353,0.804965,0.704143,1.0),RGBA{Float64}(0.73353,0.804965,0.704143,1.0),RGBA{Float64}(0.73353,0.804965,0.704143,1.0),RGBA{Float64}(0.73353,0.804965,0.704143,1.0),RGBA{Float64}(0.73353,0.804965,0.704143,1.0)  …  RGBA{Float64}(0.73353,0.804965,0.704143,1.0),RGBA{Float64}(0.73353,0.804965,0.704143,1.0),RGBA{Float64}(0.73353,0.804965,0.704143,1.0),RGBA{Float64}(0.73353,0.804965,0.704143,1.0),RGBA{Float64}(0.629334,0.756677,0.632858,1.0),RGBA{Float64}(0.73353,0.804965,0.704143,1.0),RGBA{Float64}(0.796655,0.400493,0.391606,1.0),RGBA{Float64}(0.73353,0.804965,0.704143,1.0),RGBA{Float64}(0.73353,0.804965,0.704143,1.0),RGBA{Float64}(0.73353,0.804965,0.704143,1.0)],[1.0,1.0,3.17805,4.79579,4.65396,4.29046,8.32748,1.0,10.0956,4.96284  …  6.49375,5.15329,4.76217,1.0,7.35052,3.71357,5.40717,1.0,3.09104,4.90527],Tuple{Float64,Float64,String}[(3.7028,-3.12709,\"BookMachine\"),(3.47907,-3.17282,\"LogrosRevolucio\"),(3.64047,-3.11423,\"ArosaMughal\"),(3.12312,-3.09885,\"Deanofcomedy\"),(3.21842,-2.65724,\"AdamSarwar\"),(3.15606,-3.19525,\"hoeforperrie\"),(3.84492,-2.71988,\"YngLiberalGirl\"),(3.64828,-3.12791,\"lesleyarfin\"),(3.12054,-3.38985,\"Riim_50\"),(3.63945,-2.73944,\"fulminouis\")  …  (3.10145,-3.25774,\"racheIgrren\"),(3.45814,-2.62336,\"ThisIsWhyTrump\"),(3.79428,-2.83306,\"Amber02150\"),(3.24053,-2.9063,\"smrtgrls\"),(3.54864,-3.19574,\"TheGingerarchy\"),(3.21724,-3.25027,\"isuckontits\"),(3.84432,-2.81859,\"atultna\"),(3.11661,-2.92092,\"tasharowmanoff\"),(3.69376,-3.11797,\"TrumpNewsNetwrk\"),(3.59648,-3.19803,\"NewsFromAmnesty\")]),(7,14,22)=>MapUtils.ScatterMap((-5.07775,-4.80651),(2.78308,3.05313),Tuple{Float64,Float64}[(-5.0278,2.90988),(-5.03289,3.04963),(-4.95357,2.9131),(-4.95587,2.91108),(-5.05646,3.00638),(-4.83204,3.04133),(-5.08974,2.84599),(-5.04204,2.96187),(-5.05048,3.03495),(-5.03791,2.80604)  …  (-5.02695,3.06077),(-4.88761,2.92875),(-4.88487,3.0611),(-4.87119,3.06716),(-4.82956,3.03767),(-5.03334,2.89145),(-4.82518,2.77934),(-4.93206,2.83147),(-4.98076,2.88209),(-5.08344,3.04211)],ColorTypes.RGBA{Float64}[RGBA{Float64}(0.796655,0.400493,0.391606,1.0),RGBA{Float64}(0.100992,0.368167,0.41771,1.0),RGBA{Float64}(0.884153,0.888362,0.837334,1.0),RGBA{Float64}(0.247427,0.0602665,0.24501,1.0),RGBA{Float64}(0.796655,0.400493,0.391606,1.0),RGBA{Float64}(0.920497,0.776988,0.708318,1.0),RGBA{Float64}(0.0822556,0.114924,0.26479,1.0),RGBA{Float64}(0.796655,0.400493,0.391606,1.0),RGBA{Float64}(0.796655,0.400493,0.391606,1.0),RGBA{Float64}(0.100992,0.368167,0.41771,1.0)  …  RGBA{Float64}(0.796655,0.400493,0.391606,1.0),RGBA{Float64}(0.796655,0.400493,0.391606,1.0),RGBA{Float64}(0.920497,0.776988,0.708318,1.0),RGBA{Float64}(0.796655,0.400493,0.391606,1.0),RGBA{Float64}(0.884153,0.888362,0.837334,1.0),RGBA{Float64}(0.796655,0.400493,0.391606,1.0),RGBA{Float64}(0.796655,0.400493,0.391606,1.0),RGBA{Float64}(0.796655,0.400493,0.391606,1.0),RGBA{Float64}(0.796655,0.400493,0.391606,1.0),RGBA{Float64}(0.796655,0.400493,0.391606,1.0)],[3.8712,1.0,1.0,1.0,6.97821,6.25383,4.47734,1.0,5.36129,1.0  …  7.24922,6.00635,6.93537,5.81413,6.28786,5.66988,6.72022,7.22184,6.25767,3.3322],Tuple{Float64,Float64,String}[(-4.54258,2.875,\"eemanabbasi\"),(-5.16666,2.7641,\"YungKingTosa\"),(-5.04943,2.85552,\"glittermagazine\"),(-4.98952,3.24475,\"PoliticalIslam\"),(-4.9973,2.79441,\"SherylPrattERA\"),(-4.77831,2.9797,\"rkicgrimes\"),(-5.19381,3.01157,\"Alex_Ogle\"),(-5.08374,2.54789,\"pzmyers\"),(-5.33194,3.06882,\"Postbadfsse\"),(-4.76271,2.64035,\"diabetesalish\")  …  (-4.82237,3.17187,\"Streetfilms\"),(-5.25029,2.86337,\"CerianJenkins\"),(-4.68956,2.93952,\"veronicalderon\"),(-5.2031,2.59548,\"AndrewStilesUSA\"),(-4.90506,2.83106,\"Milbank\"),(-4.84172,2.98468,\"RebeccaSkloot\"),(-4.8213,3.06239,\"TheBaxterBean\"),(-4.8174,3.19969,\"tonedeff\"),(-4.54099,2.75913,\"MelissaTweets\"),(-5.00994,2.7266,\"nutrition_easy\")]),(7,34,35)=>MapUtils.ScatterMap((0.347199,0.618447),(-0.727575,-0.457525),Tuple{Float64,Float64}[(0.573332,-0.588189),(0.453534,-0.578864),(0.352247,-0.606803),(0.597172,-0.520382),(0.503642,-0.710026),(0.391687,-0.531633),(0.575826,-0.549511),(0.33519,-0.597962),(0.471067,-0.743108),(0.440769,-0.498218)  …  (0.45389,-0.751773),(0.534816,-0.598049),(0.380775,-0.691163),(0.410222,-0.728396),(0.377653,-0.435449),(0.387628,-0.710063),(0.387255,-0.443881),(0.419738,-0.692717),(0.542933,-0.741025),(0.359973,-0.723933)],ColorTypes.RGBA{Float64}[RGBA{Float64}(0.51284,0.709199,0.573664,1.0),RGBA{Float64}(0.18932,0.586228,0.501705,1.0),RGBA{Float64}(0.908053,0.735012,0.655827,1.0),RGBA{Float64}(0.73353,0.804965,0.704143,1.0),RGBA{Float64}(0.507369,0.120931,0.372573,1.0),RGBA{Float64}(0.507369,0.120931,0.372573,1.0),RGBA{Float64}(0.884153,0.888362,0.837334,1.0),RGBA{Float64}(0.51284,0.709199,0.573664,1.0),RGBA{Float64}(0.0822556,0.114924,0.26479,1.0),RGBA{Float64}(0.772194,0.3617,0.384306,1.0)  …  RGBA{Float64}(0.932644,0.918897,0.886334,1.0),RGBA{Float64}(0.932644,0.918897,0.886334,1.0),RGBA{Float64}(0.932644,0.918897,0.886334,1.0),RGBA{Float64}(0.772194,0.3617,0.384306,1.0),RGBA{Float64}(0.467608,0.102141,0.366821,1.0),RGBA{Float64}(0.908053,0.735012,0.655827,1.0),RGBA{Float64}(0.390585,0.664069,0.533559,1.0),RGBA{Float64}(0.621856,0.194827,0.377885,1.0),RGBA{Float64}(0.689897,0.257823,0.376329,1.0),RGBA{Float64}(0.390585,0.664069,0.533559,1.0)],[1.0,1.0,1.0,3.2581,1.0,5.89164,5.72359,2.89037,9.05158,1.94591  …  6.29711,5.39816,6.65286,5.47646,4.47734,2.63906,6.01127,5.0814,5.4848,2.94444],Tuple{Float64,Float64,String}[(0.477965,-0.330541,\"brandacity\"),(0.668668,-0.220431,\"RadiiGanjuur\"),(0.185362,-0.198046,\"jpney\"),(0.111113,-0.856456,\"OutOnTheMoors\"),(0.744523,-0.513601,\"therealhennessy\"),(0.742671,-0.660132,\"realwealthy\"),(0.638423,-0.41612,\"ish_miami\"),(0.367044,-0.513128,\"sweetrhythms\"),(0.481189,-0.944218,\"TattonTreks\"),(0.307226,-0.388637,\"chrisdefalco\")  …  (0.12662,-0.903258,\"laloalcaraz\"),(0.866459,-0.834793,\"OccupyPdx\"),(0.191284,-0.320563,\"THETOPICisCOOL\"),(0.286346,-0.239249,\"TimEddington\"),(0.838461,-0.970541,\"DevilryFun\"),(0.173966,-0.61217,\"cbcmarketplace\"),(0.440695,-0.207562,\"antoniosabatojr\"),(0.705648,-0.200972,\"xxFABLIFExx\"),(0.472838,-0.756143,\"TheOriginalTKO\"),(0.146709,-0.73081,\"JerryFalwellJr\")]),(7,6,14)=>MapUtils.ScatterMap((-7.24774,-6.97649),(4.94348,5.21353),Tuple{Float64,Float64}[],ColorTypes.RGBA{Float64}[],Float64[],Tuple{Float64,Float64,String}[(-6.88693,4.77499,\"mattforde\"),(-6.90476,4.7135,\"shanecparsons\")]),(7,12,24)=>MapUtils.ScatterMap((-5.62025,-5.349),(2.24298,2.51303),Tuple{Float64,Float64}[(-5.63891,2.28692),(-5.56157,2.35523),(-5.34226,2.23217),(-5.4833,2.40149),(-5.34339,2.49889),(-5.32814,2.41527),(-5.40096,2.361),(-5.58404,2.36856),(-5.57836,2.39287),(-5.41661,2.42638)  …  (-5.64306,2.50976),(-5.50691,2.26766),(-5.43569,2.43222),(-5.32752,2.25265),(-5.57976,2.53119),(-5.55744,2.38113),(-5.37888,2.31973),(-5.38754,2.2737),(-5.58627,2.26467),(-5.56231,2.47833)],ColorTypes.RGBA{Float64}[RGBA{Float64}(0.874764,0.608709,0.518771,1.0),RGBA{Float64}(0.874764,0.608709,0.518771,1.0),RGBA{Float64}(0.874764,0.608709,0.518771,1.0),RGBA{Float64}(0.874764,0.608709,0.518771,1.0),RGBA{Float64}(0.874764,0.608709,0.518771,1.0),RGBA{Float64}(0.0822556,0.114924,0.26479,1.0),RGBA{Float64}(0.920497,0.776988,0.708318,1.0),RGBA{Float64}(0.874764,0.608709,0.518771,1.0),RGBA{Float64}(0.100992,0.368167,0.41771,1.0),RGBA{Float64}(0.84997,0.524823,0.450866,1.0)  …  RGBA{Float64}(0.25445,0.614055,0.508708,1.0),RGBA{Float64}(0.874764,0.608709,0.518771,1.0),RGBA{Float64}(0.874764,0.608709,0.518771,1.0),RGBA{Float64}(0.874764,0.608709,0.518771,1.0),RGBA{Float64}(0.796655,0.400493,0.391606,1.0),RGBA{Float64}(0.874764,0.608709,0.518771,1.0),RGBA{Float64}(0.874764,0.608709,0.518771,1.0),RGBA{Float64}(0.874764,0.608709,0.518771,1.0),RGBA{Float64}(0.874764,0.608709,0.518771,1.0),RGBA{Float64}(0.0906185,0.400452,0.434712,1.0)],[3.89182,1.0,9.53546,1.0,1.0,4.80402,3.80666,2.99573,3.49651,1.0  …  1.0,1.38629,5.14166,5.8944,4.21951,1.09861,7.15227,7.26403,1.0,6.28786],Tuple{Float64,Float64,String}[(-5.52153,2.05825,\"andydiggle\"),(-5.34226,2.23217,\"toddzwillich\"),(-5.3702,2.32656,\"michaelbd\"),(-5.88829,2.05037,\"WikiFleekMemes\"),(-5.08154,2.47759,\"Anthony\"),(-5.22991,2.49404,\"prashantrao\"),(-5.16666,2.7641,\"YungKingTosa\"),(-5.59309,2.70118,\"harrypureangel\"),(-5.31134,2.34889,\"LeoJabbasky\"),(-5.67719,2.30345,\"fiddlecub\")  …  (-5.6451,2.14169,\"kurdishblogger\"),(-5.54582,2.29244,\"daytrend\"),(-5.46344,2.55898,\"askjillian\"),(-5.2031,2.59548,\"AndrewStilesUSA\"),(-5.56826,2.31019,\"bankolekolej\"),(-5.20266,2.17971,\"dcbigjohn\"),(-5.08581,2.06032,\"RTMINDLER\"),(-5.07808,2.46867,\"jeffparker\"),(-5.48266,2.34232,\"former_f1doc\"),(-5.46486,2.59044,\"mcmullenforus\")]),(7,4,34)=>MapUtils.ScatterMap((-7.79023,-7.51898),(-0.457525,-0.187474),Tuple{Float64,Float64}[(-7.61755,-0.347808),(-7.70225,-0.466119),(-7.51487,-0.303926),(-7.66184,-0.315571),(-7.64635,-0.295721),(-7.61871,-0.214467),(-7.63802,-0.165396),(-7.58804,-0.360247),(-7.60896,-0.40817),(-7.62179,-0.401207)  …  (-7.6308,-0.469354),(-7.75682,-0.184855),(-7.5643,-0.315121),(-7.63614,-0.343138),(-7.59659,-0.318943),(-7.73312,-0.46167),(-7.57243,-0.253948),(-7.67382,-0.280834),(-7.5719,-0.456526),(-7.71051,-0.436353)],ColorTypes.RGBA{Float64}[RGBA{Float64}(0.0906185,0.400452,0.434712,1.0),RGBA{Float64}(0.970318,0.92799,0.907715,1.0),RGBA{Float64}(0.25445,0.614055,0.508708,1.0),RGBA{Float64}(0.970318,0.92799,0.907715,1.0),RGBA{Float64}(0.25445,0.614055,0.508708,1.0),RGBA{Float64}(0.25445,0.614055,0.508708,1.0),RGBA{Float64}(0.25445,0.614055,0.508708,1.0),RGBA{Float64}(0.0906185,0.400452,0.434712,1.0),RGBA{Float64}(0.25445,0.614055,0.508708,1.0),RGBA{Float64}(0.25445,0.614055,0.508708,1.0)  …  RGBA{Float64}(0.0906185,0.400452,0.434712,1.0),RGBA{Float64}(0.970318,0.92799,0.907715,1.0),RGBA{Float64}(0.25445,0.614055,0.508708,1.0),RGBA{Float64}(0.25445,0.614055,0.508708,1.0),RGBA{Float64}(0.25445,0.614055,0.508708,1.0),RGBA{Float64}(0.970318,0.92799,0.907715,1.0),RGBA{Float64}(0.25445,0.614055,0.508708,1.0),RGBA{Float64}(0.970318,0.92799,0.907715,1.0),RGBA{Float64}(0.25445,0.614055,0.508708,1.0),RGBA{Float64}(0.970318,0.92799,0.907715,1.0)],[1.0,1.0,6.64639,4.31749,1.0,1.0,5.73334,7.73543,4.8828,6.98749  …  5.78996,3.82864,4.99043,9.03789,7.01751,5.47646,1.0,4.49981,7.37086,5.01728],Tuple{Float64,Float64,String}[(-7.76133,0.035629,\"_Sad_History_\"),(-7.72206,-0.54541,\"LVheatsource\"),(-7.27865,-0.123415,\"sitaravirgo\"),(-7.7587,-0.369326,\"NCCapitol\"),(-7.49143,-0.33351,\"MollieKatzen\"),(-7.61401,-0.640568,\"Jaskaran__Singh\"),(-7.61056,-0.11066,\"Prxscillaidk\"),(-7.68247,-0.548495,\"le_Kampf\"),(-7.63223,-0.230218,\"jdbftkalin\"),(-7.36268,-0.318354,\"phiphibb\")  …  (-7.5263,-0.557578,\"FergCapone\"),(-7.65528,-0.10462,\"volkova_v\"),(-7.77228,-0.375222,\"chompsharpe\"),(-7.60444,-0.40309,\"aimhraeken\"),(-7.6635,-0.0413824,\"PeWhois\"),(-7.76307,-0.0261994,\"shadesofwoes\"),(-7.53339,-0.11639,\"Frasess000\"),(-7.66306,-0.0643507,\"heavengonnahate\"),(-7.43236,-0.502702,\"lborouniversity\"),(-7.66554,-0.537994,\"BowlerDerek\")]),(7,9,43)=>MapUtils.ScatterMap((-6.43399,-6.16274),(-2.88798,-2.61793),Tuple{Float64,Float64}[(-6.27475,-2.75471),(-6.34164,-2.61498),(-6.44389,-2.89224),(-6.35007,-2.59365),(-6.19809,-2.66968),(-6.24392,-2.86243),(-6.36112,-2.70832),(-6.21432,-2.69649),(-6.24221,-2.74152),(-6.21939,-2.66394)  …  (-6.13571,-2.69781),(-6.33418,-2.74424),(-6.46089,-2.90476),(-6.17026,-2.7711),(-6.26573,-2.61262),(-6.37321,-2.70598),(-6.41759,-2.76265),(-6.41354,-2.59268),(-6.14853,-2.6857),(-6.2733,-2.89438)],ColorTypes.RGBA{Float64}[RGBA{Float64}(0.0741353,0.465685,0.46509,1.0),RGBA{Float64}(0.970318,0.92799,0.907715,1.0),RGBA{Float64}(0.934048,0.819806,0.763949,1.0),RGBA{Float64}(0.51284,0.709199,0.573664,1.0),RGBA{Float64}(0.25445,0.614055,0.508708,1.0),RGBA{Float64}(0.0968773,0.528483,0.486768,1.0),RGBA{Float64}(0.970318,0.92799,0.907715,1.0),RGBA{Float64}(0.25445,0.614055,0.508708,1.0),RGBA{Float64}(0.25445,0.614055,0.508708,1.0),RGBA{Float64}(0.970318,0.92799,0.907715,1.0)  …  RGBA{Float64}(0.25445,0.614055,0.508708,1.0),RGBA{Float64}(0.970318,0.92799,0.907715,1.0),RGBA{Float64}(0.934048,0.819806,0.763949,1.0),RGBA{Float64}(0.25445,0.614055,0.508708,1.0),RGBA{Float64}(0.970318,0.92799,0.907715,1.0),RGBA{Float64}(0.0741353,0.465685,0.46509,1.0),RGBA{Float64}(0.0741353,0.465685,0.46509,1.0),RGBA{Float64}(0.0741353,0.465685,0.46509,1.0),RGBA{Float64}(0.970318,0.92799,0.907715,1.0),RGBA{Float64}(0.0906185,0.400452,0.434712,1.0)],[9.09009,1.0,5.57973,1.0,5.84064,10.11,1.0,1.0,1.0,1.0  …  1.0,1.0,3.04452,7.16781,4.31749,4.96284,3.82864,5.16479,1.0,6.69827],Tuple{Float64,Float64,String}[(-6.24392,-2.86243,\"Pepemonjeok\"),(-6.076,-2.9428,\"LivingOnChi\"),(-6.35994,-2.34867,\"TheMercedesXXX\"),(-5.9415,-2.87726,\"oddlifeshawty\"),(-6.01415,-2.74937,\"Muffin_SMendes\"),(-6.47676,-2.88943,\"AFrenchAuthor\"),(-6.41082,-2.37244,\"HELIODOPTERO\"),(-6.44755,-2.90206,\"footballmcd\"),(-6.29994,-2.94739,\"TeamPlayaa\"),(-6.08901,-2.91471,\"wildehorse68\")  …  (-6.08368,-2.48579,\"JonesTheMarkets\"),(-6.51521,-2.98257,\"ReutersJamie\"),(-6.59716,-3.15184,\"CarrieSwidecki\"),(-6.26724,-2.47798,\"hilaryr\"),(-6.54306,-2.49225,\"RiverofHealing2\"),(-6.5196,-2.44083,\"CorvoMecanique\"),(-6.4437,-2.50673,\"MrNookster\"),(-6.6611,-2.89539,\"happytime505_k\"),(-6.65847,-2.81517,\"TAAlkhaldi\"),(-6.44587,-2.46237,\"dbongino\")])…),7)"
      ]
     },
     "execution_count": 15,
     "metadata": {},
     "output_type": "execute_result"
    }
   ],
   "source": [
    "twitter_tilemap = MapUtils.TiledMap(7, twitter_map, marker_sizes)"
   ]
  },
  {
   "cell_type": "code",
   "execution_count": null,
   "metadata": {
    "collapsed": false
   },
   "outputs": [],
   "source": [
    "MapUtils.plot_tm(twitter_tilemap, \"./\", markeralpha = .1, markerstrokewidth = 0)"
   ]
  },
  {
   "cell_type": "code",
   "execution_count": null,
   "metadata": {
    "collapsed": true
   },
   "outputs": [],
   "source": []
  }
 ],
 "metadata": {
  "anaconda-cloud": {},
  "kernelspec": {
   "display_name": "Julia 0.5.0",
   "language": "julia",
   "name": "julia-0.5"
  },
  "language_info": {
   "file_extension": ".jl",
   "mimetype": "application/julia",
   "name": "julia",
   "version": "0.5.0"
  }
 },
 "nbformat": 4,
 "nbformat_minor": 0
}
