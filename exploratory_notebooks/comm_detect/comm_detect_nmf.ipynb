{
 "cells": [
  {
   "cell_type": "code",
   "execution_count": 1,
   "metadata": {
    "collapsed": false
   },
   "outputs": [],
   "source": [
    "using JSON, ProgressMeter, JLD, LightGraphs "
   ]
  },
  {
   "cell_type": "markdown",
   "metadata": {},
   "source": [
    "## Community Detection on twitter network using non-negative matrix factorization and graph regularization.\n",
    "This implements the `DualNMF` algorithm in this paper: [Community Detection in Political Twitter Networks using Nonnegative Matrix Factorization Methods](https://arxiv.org/abs/1608.01771)\n",
    "\n",
    "Prerequisites:\n",
    "- the retweet graph as a LightGraphs object\n",
    "- the user/graph matrix"
   ]
  },
  {
   "cell_type": "code",
   "execution_count": 18,
   "metadata": {
    "collapsed": false
   },
   "outputs": [],
   "source": [
    "user_word = JLD.load(\"/media/henripal/hd1/data/new_mat.jld\", \"new_mat\");\n",
    "graph = JLD.load(\"/media/henripal/hd1/data/graph.jld\", \"graph\");"
   ]
  },
  {
   "cell_type": "code",
   "execution_count": 19,
   "metadata": {
    "collapsed": false
   },
   "outputs": [
    {
     "data": {
      "text/plain": [
       "5132"
      ]
     },
     "execution_count": 19,
     "metadata": {},
     "output_type": "execute_result"
    }
   ],
   "source": [
    "size(user_word,2)"
   ]
  },
  {
   "cell_type": "markdown",
   "metadata": {},
   "source": [
    "### Building a word/word similarity matrix from the user/word matrix\n",
    "We iterate on columns because its faster and memory friendly in Julia:"
   ]
  },
  {
   "cell_type": "code",
   "execution_count": 20,
   "metadata": {
    "collapsed": false
   },
   "outputs": [
    {
     "data": {
      "text/plain": [
       "sparse_similarity (generic function with 1 method)"
      ]
     },
     "execution_count": 20,
     "metadata": {},
     "output_type": "execute_result"
    }
   ],
   "source": [
    "function sparse_similarity(m::SparseMatrixCSC)::SparseMatrixCSC\n",
    "    normalized_user_word = spzeros(size(m)...)\n",
    "    norms = [norm(m[:,i]) for i in 1:size(m,2)]\n",
    "    @showprogress for (col,s) in enumerate(norms)\n",
    "        s == 0 && continue # What does a \"normalized\" column with a sum of zero look like?\n",
    "        normalized_user_word[:,col] = m[:,col]/s\n",
    "    end\n",
    "    return normalized_user_word' * normalized_user_word\n",
    "end\n",
    "\n",
    "\n",
    "# this builds a LightGraphs graph from a similartiy matrix\n",
    "function build_graph_from_similarity(similarity::Matrix, cutoff::Float64)::Graph\n",
    "    length = size(similarity, 1)\n",
    "    graph = Graph(length)\n",
    "    for i in 1:length\n",
    "        for j in 1:i-1\n",
    "            similarity[i, j] > cutoff && add_edge!(graph, i, j)\n",
    "        end\n",
    "    end\n",
    "    graph\n",
    "end\n",
    "    "
   ]
  },
  {
   "cell_type": "code",
   "execution_count": 21,
   "metadata": {
    "collapsed": false
   },
   "outputs": [
    {
     "name": "stdout",
     "output_type": "stream",
     "text": [
      "Progress: 100%|█████████████████████████████████████████| Time: 0:04:16\n"
     ]
    },
    {
     "data": {
      "text/plain": [
       "5132×5132 sparse matrix with 24981772 Float64 nonzero entries:\n",
       "\t[1   ,    1]  =  1.0\n",
       "\t[2   ,    1]  =  0.104883\n",
       "\t[3   ,    1]  =  0.0077162\n",
       "\t[4   ,    1]  =  0.134559\n",
       "\t[5   ,    1]  =  0.0689679\n",
       "\t[6   ,    1]  =  0.0223928\n",
       "\t[7   ,    1]  =  0.00913363\n",
       "\t[8   ,    1]  =  0.146813\n",
       "\t[9   ,    1]  =  0.0788164\n",
       "\t[10  ,    1]  =  0.116557\n",
       "\t⋮\n",
       "\t[5122, 5132]  =  0.120978\n",
       "\t[5123, 5132]  =  0.177761\n",
       "\t[5124, 5132]  =  0.0172602\n",
       "\t[5125, 5132]  =  0.266282\n",
       "\t[5126, 5132]  =  0.195395\n",
       "\t[5127, 5132]  =  0.0338713\n",
       "\t[5128, 5132]  =  0.138883\n",
       "\t[5129, 5132]  =  0.127958\n",
       "\t[5130, 5132]  =  0.300903\n",
       "\t[5131, 5132]  =  0.229402\n",
       "\t[5132, 5132]  =  1.0"
      ]
     },
     "execution_count": 21,
     "metadata": {},
     "output_type": "execute_result"
    }
   ],
   "source": [
    "# this succesively builds the similarity matrix then\n",
    "# builds the graph from the similarity matrix\n",
    "\n",
    "cutoff = .4\n",
    "similarity = sparse_similarity(user_word)\n",
    "word_graph = build_graph_from_similarity(full(similarity), cutoff)"
   ]
  },
  {
   "cell_type": "markdown",
   "metadata": {},
   "source": [
    "### Algorithm\n",
    "- calculate the Laplacian matrices\n",
    "- define the update functions\n",
    "- define the cost function\n",
    "- iterate the update functions\n",
    "\n",
    "Some remarks: the cost function is quite expensive, so we do not calculate it everytime. It would be maybe useful to adaptively calculate it?\n",
    "\n",
    "Some of the helper functions are a little strange looking; this is because these matrices are huge, some are not sparse, and the memory usage can get a little out of control. Hence the column iterations, some precalculations, etc.."
   ]
  },
  {
   "cell_type": "code",
   "execution_count": 22,
   "metadata": {
    "collapsed": false
   },
   "outputs": [
    {
     "data": {
      "text/plain": [
       "1205559×1205559 sparse matrix with 7484416 Int64 nonzero entries:\n",
       "\t[1      ,       1]  =  8\n",
       "\t[2      ,       1]  =  -1\n",
       "\t[3      ,       1]  =  -1\n",
       "\t[4      ,       1]  =  -1\n",
       "\t[5      ,       1]  =  -1\n",
       "\t[6      ,       1]  =  -1\n",
       "\t[7      ,       1]  =  -1\n",
       "\t[8      ,       1]  =  -1\n",
       "\t[9      ,       1]  =  -1\n",
       "\t[1      ,       2]  =  -1\n",
       "\t⋮\n",
       "\t[1205555, 1205555]  =  2\n",
       "\t[234    , 1205556]  =  -1\n",
       "\t[235    , 1205556]  =  -1\n",
       "\t[1205556, 1205556]  =  2\n",
       "\t[11575  , 1205557]  =  -1\n",
       "\t[1205557, 1205557]  =  1\n",
       "\t[94     , 1205558]  =  -1\n",
       "\t[1205558, 1205558]  =  2\n",
       "\t[1205559, 1205558]  =  -1\n",
       "\t[1205558, 1205559]  =  -1\n",
       "\t[1205559, 1205559]  =  1"
      ]
     },
     "execution_count": 22,
     "metadata": {},
     "output_type": "execute_result"
    }
   ],
   "source": [
    "# calculating the laplacian matrices and plusminus laplacian:\n",
    "L_c = laplacian_matrix(graph)\n",
    "word_laplacian = laplacian_matrix(word_graph)\n",
    "wl_plus = (abs(word_laplacian)+word_laplacian)/2\n",
    "wl_minus = (abs(word_laplacian)-word_laplacian)/2\n",
    "gl_plus = (abs(L_c)+L_c)/2\n",
    "gl_minus = (abs(L_c)-L_c)/2"
   ]
  },
  {
   "cell_type": "code",
   "execution_count": 28,
   "metadata": {
    "collapsed": false
   },
   "outputs": [
    {
     "data": {
      "text/plain": [
       "1205559×60 sparse matrix with 36172295 Float64 nonzero entries:\n",
       "\t[2      ,       1]  =  0.5\n",
       "\t[4      ,       1]  =  0.5\n",
       "\t[6      ,       1]  =  0.5\n",
       "\t[9      ,       1]  =  0.5\n",
       "\t[10     ,       1]  =  0.5\n",
       "\t[13     ,       1]  =  0.5\n",
       "\t[14     ,       1]  =  0.5\n",
       "\t[15     ,       1]  =  0.5\n",
       "\t[16     ,       1]  =  0.5\n",
       "\t[19     ,       1]  =  0.5\n",
       "\t⋮\n",
       "\t[1205542,      60]  =  0.5\n",
       "\t[1205547,      60]  =  0.5\n",
       "\t[1205548,      60]  =  0.5\n",
       "\t[1205549,      60]  =  0.5\n",
       "\t[1205550,      60]  =  0.5\n",
       "\t[1205551,      60]  =  0.5\n",
       "\t[1205552,      60]  =  0.5\n",
       "\t[1205553,      60]  =  0.5\n",
       "\t[1205554,      60]  =  0.5\n",
       "\t[1205558,      60]  =  0.5\n",
       "\t[1205559,      60]  =  0.5"
      ]
     },
     "execution_count": 28,
     "metadata": {},
     "output_type": "execute_result"
    }
   ],
   "source": [
    "# parameters and initializing W and U\n",
    "clusters = 60\n",
    "α = 10\n",
    "β = 10\n",
    "users = size(L_c,1)\n",
    "words = size(word_laplacian ,1)\n",
    "W = .5 * spones(sprand(words, clusters, .5))\n",
    "U = .5 * spones(sprand(users, clusters, .5))\n"
   ]
  },
  {
   "cell_type": "code",
   "execution_count": 30,
   "metadata": {
    "collapsed": false
   },
   "outputs": [
    {
     "data": {
      "text/plain": [
       "update_U (generic function with 1 method)"
      ]
     },
     "execution_count": 30,
     "metadata": {},
     "output_type": "execute_result"
    }
   ],
   "source": [
    "# memory friendly update functions\n",
    "\n",
    "function update_U(U::SparseMatrixCSC, W::SparseMatrixCSC)::SparseMatrixCSC\n",
    "    WpW = W' * W\n",
    "    return U .* sqrt((user_word * W + α * gl_minus * U) ./ (U * WpW + α * gl_plus * U))\n",
    "end\n",
    "\n",
    "function update_W(U::SparseMatrixCSC, W::SparseMatrixCSC)::SparseMatrixCSC\n",
    "    UpU = U' * U\n",
    "    return W .* sqrt((user_word' * U + β * wl_minus * W) ./ (W * UpU + β * wl_plus * W))\n",
    "end"
   ]
  },
  {
   "cell_type": "code",
   "execution_count": 32,
   "metadata": {
    "collapsed": false
   },
   "outputs": [
    {
     "data": {
      "text/plain": [
       "obj (generic function with 1 method)"
      ]
     },
     "execution_count": 32,
     "metadata": {},
     "output_type": "execute_result"
    }
   ],
   "source": [
    "# memory friendly frobenius norms and objective functions\n",
    "\n",
    "function my_frobenius(uw::SparseMatrixCSC, U::SparseMatrixCSC, W::SparseMatrixCSC)::Float64\n",
    "    (users, words) = size(uw)\n",
    "    wp = W'\n",
    "    clusters = size(U,2)\n",
    "    result = 0\n",
    "    @showprogress for j in 1:words\n",
    "        uwp_j = U*wp[:, j]\n",
    "        result += norm(uw[:, j] - uwp_j)^2\n",
    "    end\n",
    "    result\n",
    "end\n",
    "\n",
    "function obj(U::SparseMatrixCSC, W::SparseMatrixCSC)::Float64\n",
    "    my_frobenius(user_word, U, W) + α * trace(U' * L_c * U) + β * trace(W' * word_laplacian * W)\n",
    "end"
   ]
  },
  {
   "cell_type": "markdown",
   "metadata": {},
   "source": [
    "This is where we run the algorithm. Somewhat time intensive but not crazily so"
   ]
  },
  {
   "cell_type": "code",
   "execution_count": 47,
   "metadata": {
    "collapsed": false
   },
   "outputs": [
    {
     "name": "stdout",
     "output_type": "stream",
     "text": [
      "Progress: 100%|█████████████████████████████████████████| Time: 0:09:33\n"
     ]
    }
   ],
   "source": [
    "tolerance = .05\n",
    "delta = 1000\n",
    "stride = 10\n",
    "\n",
    "err = obj(U, W)\n",
    "\n",
    "while delta > tolerance\n",
    "    for i in 1:stride\n",
    "        U = update_U(U, W);\n",
    "        W = update_W(U, W);\n",
    "    end\n",
    "    newerr = obj(U,W)\n",
    "    delta = abs(newerr - err)\n",
    "    err = newerr\n",
    "end"
   ]
  },
  {
   "cell_type": "code",
   "execution_count": 49,
   "metadata": {
    "collapsed": true
   },
   "outputs": [],
   "source": [
    "JLD.save(\"/media/henripal/hd1/data/U_60.jld\", \"U_60\", U)"
   ]
  },
  {
   "cell_type": "code",
   "execution_count": 51,
   "metadata": {
    "collapsed": false
   },
   "outputs": [
    {
     "data": {
      "text/plain": [
       "assign_communities (generic function with 1 method)"
      ]
     },
     "execution_count": 51,
     "metadata": {},
     "output_type": "execute_result"
    }
   ],
   "source": [
    "# another helper functions, assigns the communities based on the highest probability of being in that community\n",
    "\n",
    "function assign_communities(u::SparseMatrixCSC)\n",
    "    (n_user, n_cluster) = size(u)\n",
    "    communities = Array{Int64,1}(n_user)\n",
    "    @showprogress for user in 1:n_user\n",
    "        communities[user] = indmax(u[user, :])\n",
    "    end\n",
    "    communities\n",
    "end\n"
   ]
  },
  {
   "cell_type": "code",
   "execution_count": 52,
   "metadata": {
    "collapsed": false
   },
   "outputs": [
    {
     "name": "stdout",
     "output_type": "stream",
     "text": [
      "Progress: 100%|█████████████████████████████████████████| Time: 0:00:10\n"
     ]
    },
    {
     "data": {
      "text/plain": [
       "1205559-element Array{Int64,1}:\n",
       " 19\n",
       " 27\n",
       " 31\n",
       "  7\n",
       " 19\n",
       " 19\n",
       " 59\n",
       " 22\n",
       " 18\n",
       " 31\n",
       " 31\n",
       " 25\n",
       " 44\n",
       "  ⋮\n",
       " 41\n",
       " 25\n",
       " 41\n",
       " 21\n",
       " 51\n",
       " 57\n",
       " 10\n",
       " 17\n",
       " 31\n",
       "  9\n",
       "  2\n",
       " 30"
      ]
     },
     "execution_count": 52,
     "metadata": {},
     "output_type": "execute_result"
    }
   ],
   "source": [
    "comm = assign_communities(U)"
   ]
  },
  {
   "cell_type": "code",
   "execution_count": 53,
   "metadata": {
    "collapsed": false
   },
   "outputs": [
    {
     "name": "stderr",
     "output_type": "stream",
     "text": [
      "WARNING: using Plots.density in module Main conflicts with an existing identifier.\n",
      "WARNING: using Plots.translate in module Main conflicts with an existing identifier.\n",
      "WARNING: using Plots.center in module Main conflicts with an existing identifier.\n"
     ]
    }
   ],
   "source": [
    "using Plots"
   ]
  },
  {
   "cell_type": "code",
   "execution_count": 55,
   "metadata": {
    "collapsed": false
   },
   "outputs": [
    {
     "data": {
      "text/html": [
       "<?xml version=\"1.0\" encoding=\"utf-8\"?>\n",
       "<svg xmlns=\"http://www.w3.org/2000/svg\" xmlns:xlink=\"http://www.w3.org/1999/xlink\" width=\"600\" height=\"400\" viewBox=\"0 0 600 400\">\n",
       "<defs>\n",
       "  <clipPath id=\"clip00\">\n",
       "    <rect x=\"0\" y=\"0\" width=\"600\" height=\"400\"/>\n",
       "  </clipPath>\n",
       "</defs>\n",
       "<polygon clip-path=\"url(#clip00)\" points=\"\n",
       "0,400 600,400 600,0 0,0 \n",
       "  \" fill=\"#ffffff\" fill-opacity=\"1\"/>\n",
       "<defs>\n",
       "  <clipPath id=\"clip01\">\n",
       "    <rect x=\"120\" y=\"0\" width=\"421\" height=\"400\"/>\n",
       "  </clipPath>\n",
       "</defs>\n",
       "<polygon clip-path=\"url(#clip00)\" points=\"\n",
       "57.2703,384.952 596.063,384.952 596.063,3.93701 57.2703,3.93701 \n",
       "  \" fill=\"#ffffff\" fill-opacity=\"1\"/>\n",
       "<defs>\n",
       "  <clipPath id=\"clip02\">\n",
       "    <rect x=\"57\" y=\"3\" width=\"539\" height=\"382\"/>\n",
       "  </clipPath>\n",
       "</defs>\n",
       "<polyline clip-path=\"url(#clip02)\" style=\"stroke:#00002d; stroke-width:0.8; stroke-opacity:0.5; fill:none\" stroke-dasharray=\"1, 2\" points=\"\n",
       "  63.904,379.237 63.904,9.65223 \n",
       "  \"/>\n",
       "<polyline clip-path=\"url(#clip02)\" style=\"stroke:#00002d; stroke-width:0.8; stroke-opacity:0.5; fill:none\" stroke-dasharray=\"1, 2\" points=\"\n",
       "  279.283,379.237 279.283,9.65223 \n",
       "  \"/>\n",
       "<polyline clip-path=\"url(#clip02)\" style=\"stroke:#00002d; stroke-width:0.8; stroke-opacity:0.5; fill:none\" stroke-dasharray=\"1, 2\" points=\"\n",
       "  494.662,379.237 494.662,9.65223 \n",
       "  \"/>\n",
       "<polyline clip-path=\"url(#clip02)\" style=\"stroke:#00002d; stroke-width:0.8; stroke-opacity:0.5; fill:none\" stroke-dasharray=\"1, 2\" points=\"\n",
       "  65.3522,384.952 587.981,384.952 \n",
       "  \"/>\n",
       "<polyline clip-path=\"url(#clip02)\" style=\"stroke:#00002d; stroke-width:0.8; stroke-opacity:0.5; fill:none\" stroke-dasharray=\"1, 2\" points=\"\n",
       "  65.3522,279.499 587.981,279.499 \n",
       "  \"/>\n",
       "<polyline clip-path=\"url(#clip02)\" style=\"stroke:#00002d; stroke-width:0.8; stroke-opacity:0.5; fill:none\" stroke-dasharray=\"1, 2\" points=\"\n",
       "  65.3522,174.047 587.981,174.047 \n",
       "  \"/>\n",
       "<polyline clip-path=\"url(#clip02)\" style=\"stroke:#00002d; stroke-width:0.8; stroke-opacity:0.5; fill:none\" stroke-dasharray=\"1, 2\" points=\"\n",
       "  65.3522,68.5942 587.981,68.5942 \n",
       "  \"/>\n",
       "<polyline clip-path=\"url(#clip02)\" style=\"stroke:#00002d; stroke-width:0.8; stroke-opacity:1; fill:none\" points=\"\n",
       "  57.2703,384.952 596.063,384.952 \n",
       "  \"/>\n",
       "<polyline clip-path=\"url(#clip02)\" style=\"stroke:#00002d; stroke-width:0.8; stroke-opacity:1; fill:none\" points=\"\n",
       "  63.904,384.952 63.904,379.237 \n",
       "  \"/>\n",
       "<polyline clip-path=\"url(#clip02)\" style=\"stroke:#00002d; stroke-width:0.8; stroke-opacity:1; fill:none\" points=\"\n",
       "  279.283,384.952 279.283,379.237 \n",
       "  \"/>\n",
       "<polyline clip-path=\"url(#clip02)\" style=\"stroke:#00002d; stroke-width:0.8; stroke-opacity:1; fill:none\" points=\"\n",
       "  494.662,384.952 494.662,379.237 \n",
       "  \"/>\n",
       "<polyline clip-path=\"url(#clip02)\" style=\"stroke:#00002d; stroke-width:0.8; stroke-opacity:1; fill:none\" points=\"\n",
       "  57.2703,384.952 57.2703,3.93701 \n",
       "  \"/>\n",
       "<polyline clip-path=\"url(#clip02)\" style=\"stroke:#00002d; stroke-width:0.8; stroke-opacity:1; fill:none\" points=\"\n",
       "  57.2703,384.952 65.3522,384.952 \n",
       "  \"/>\n",
       "<polyline clip-path=\"url(#clip02)\" style=\"stroke:#00002d; stroke-width:0.8; stroke-opacity:1; fill:none\" points=\"\n",
       "  57.2703,279.499 65.3522,279.499 \n",
       "  \"/>\n",
       "<polyline clip-path=\"url(#clip02)\" style=\"stroke:#00002d; stroke-width:0.8; stroke-opacity:1; fill:none\" points=\"\n",
       "  57.2703,174.047 65.3522,174.047 \n",
       "  \"/>\n",
       "<polyline clip-path=\"url(#clip02)\" style=\"stroke:#00002d; stroke-width:0.8; stroke-opacity:1; fill:none\" points=\"\n",
       "  57.2703,68.5942 65.3522,68.5942 \n",
       "  \"/>\n",
       "<g clip-path=\"url(#clip00)\">\n",
       "<text style=\"fill:#00002d; fill-opacity:1; font-family:Arial,Helvetica Neue,Helvetica,sans-serif; font-size:12; text-anchor:middle;\" transform=\"rotate(0, 63.904, 396.952)\" x=\"63.904\" y=\"396.952\">0</text>\n",
       "</g>\n",
       "<g clip-path=\"url(#clip00)\">\n",
       "<text style=\"fill:#00002d; fill-opacity:1; font-family:Arial,Helvetica Neue,Helvetica,sans-serif; font-size:12; text-anchor:middle;\" transform=\"rotate(0, 279.283, 396.952)\" x=\"279.283\" y=\"396.952\">25</text>\n",
       "</g>\n",
       "<g clip-path=\"url(#clip00)\">\n",
       "<text style=\"fill:#00002d; fill-opacity:1; font-family:Arial,Helvetica Neue,Helvetica,sans-serif; font-size:12; text-anchor:middle;\" transform=\"rotate(0, 494.662, 396.952)\" x=\"494.662\" y=\"396.952\">50</text>\n",
       "</g>\n",
       "<g clip-path=\"url(#clip00)\">\n",
       "<text style=\"fill:#00002d; fill-opacity:1; font-family:Arial,Helvetica Neue,Helvetica,sans-serif; font-size:12; text-anchor:end;\" transform=\"rotate(0, 56.0703, 389.452)\" x=\"56.0703\" y=\"389.452\">0</text>\n",
       "</g>\n",
       "<g clip-path=\"url(#clip00)\">\n",
       "<text style=\"fill:#00002d; fill-opacity:1; font-family:Arial,Helvetica Neue,Helvetica,sans-serif; font-size:12; text-anchor:end;\" transform=\"rotate(0, 56.0703, 283.999)\" x=\"56.0703\" y=\"283.999\">50000</text>\n",
       "</g>\n",
       "<g clip-path=\"url(#clip00)\">\n",
       "<text style=\"fill:#00002d; fill-opacity:1; font-family:Arial,Helvetica Neue,Helvetica,sans-serif; font-size:12; text-anchor:end;\" transform=\"rotate(0, 56.0703, 178.547)\" x=\"56.0703\" y=\"178.547\">100000</text>\n",
       "</g>\n",
       "<g clip-path=\"url(#clip00)\">\n",
       "<text style=\"fill:#00002d; fill-opacity:1; font-family:Arial,Helvetica Neue,Helvetica,sans-serif; font-size:12; text-anchor:end;\" transform=\"rotate(0, 56.0703, 73.0942)\" x=\"56.0703\" y=\"73.0942\">150000</text>\n",
       "</g>\n",
       "<polygon clip-path=\"url(#clip02)\" points=\"\n",
       "72.5192,352.441 72.5192,384.952 80.9908,384.952 80.9908,352.441 72.5192,352.441 72.5192,352.441 \n",
       "  \" fill=\"#0099ff\" fill-opacity=\"1\"/>\n",
       "<polyline clip-path=\"url(#clip02)\" style=\"stroke:#00002d; stroke-width:0.8; stroke-opacity:1; fill:none\" points=\"\n",
       "  72.5192,352.441 72.5192,384.952 80.9908,384.952 80.9908,352.441 72.5192,352.441 \n",
       "  \"/>\n",
       "<polygon clip-path=\"url(#clip02)\" points=\"\n",
       "80.9908,341.254 80.9908,384.952 89.4624,384.952 89.4624,341.254 80.9908,341.254 80.9908,341.254 \n",
       "  \" fill=\"#0099ff\" fill-opacity=\"1\"/>\n",
       "<polyline clip-path=\"url(#clip02)\" style=\"stroke:#00002d; stroke-width:0.8; stroke-opacity:1; fill:none\" points=\"\n",
       "  80.9908,341.254 80.9908,384.952 89.4624,384.952 89.4624,341.254 80.9908,341.254 \n",
       "  \"/>\n",
       "<polygon clip-path=\"url(#clip02)\" points=\"\n",
       "89.4624,384.889 89.4624,384.952 97.9339,384.952 97.9339,384.889 89.4624,384.889 89.4624,384.889 \n",
       "  \" fill=\"#0099ff\" fill-opacity=\"1\"/>\n",
       "<polyline clip-path=\"url(#clip02)\" style=\"stroke:#00002d; stroke-width:0.8; stroke-opacity:1; fill:none\" points=\"\n",
       "  89.4624,384.889 89.4624,384.952 97.9339,384.952 97.9339,384.889 89.4624,384.889 \n",
       "  \"/>\n",
       "<polygon clip-path=\"url(#clip02)\" points=\"\n",
       "97.9339,370.17 97.9339,384.952 106.406,384.952 106.406,370.17 97.9339,370.17 97.9339,370.17 \n",
       "  \" fill=\"#0099ff\" fill-opacity=\"1\"/>\n",
       "<polyline clip-path=\"url(#clip02)\" style=\"stroke:#00002d; stroke-width:0.8; stroke-opacity:1; fill:none\" points=\"\n",
       "  97.9339,370.17 97.9339,384.952 106.406,384.952 106.406,370.17 97.9339,370.17 \n",
       "  \"/>\n",
       "<polygon clip-path=\"url(#clip02)\" points=\"\n",
       "106.406,384.148 106.406,384.952 114.877,384.952 114.877,384.148 106.406,384.148 106.406,384.148 \n",
       "  \" fill=\"#0099ff\" fill-opacity=\"1\"/>\n",
       "<polyline clip-path=\"url(#clip02)\" style=\"stroke:#00002d; stroke-width:0.8; stroke-opacity:1; fill:none\" points=\"\n",
       "  106.406,384.148 106.406,384.952 114.877,384.952 114.877,384.148 106.406,384.148 \n",
       "  \"/>\n",
       "<polygon clip-path=\"url(#clip02)\" points=\"\n",
       "114.877,380.765 114.877,384.952 123.349,384.952 123.349,380.765 114.877,380.765 114.877,380.765 \n",
       "  \" fill=\"#0099ff\" fill-opacity=\"1\"/>\n",
       "<polyline clip-path=\"url(#clip02)\" style=\"stroke:#00002d; stroke-width:0.8; stroke-opacity:1; fill:none\" points=\"\n",
       "  114.877,380.765 114.877,384.952 123.349,384.952 123.349,380.765 114.877,380.765 \n",
       "  \"/>\n",
       "<polygon clip-path=\"url(#clip02)\" points=\"\n",
       "123.349,326.082 123.349,384.952 131.82,384.952 131.82,326.082 123.349,326.082 123.349,326.082 \n",
       "  \" fill=\"#0099ff\" fill-opacity=\"1\"/>\n",
       "<polyline clip-path=\"url(#clip02)\" style=\"stroke:#00002d; stroke-width:0.8; stroke-opacity:1; fill:none\" points=\"\n",
       "  123.349,326.082 123.349,384.952 131.82,384.952 131.82,326.082 123.349,326.082 \n",
       "  \"/>\n",
       "<polygon clip-path=\"url(#clip02)\" points=\"\n",
       "131.82,371.456 131.82,384.952 140.292,384.952 140.292,371.456 131.82,371.456 131.82,371.456 \n",
       "  \" fill=\"#0099ff\" fill-opacity=\"1\"/>\n",
       "<polyline clip-path=\"url(#clip02)\" style=\"stroke:#00002d; stroke-width:0.8; stroke-opacity:1; fill:none\" points=\"\n",
       "  131.82,371.456 131.82,384.952 140.292,384.952 140.292,371.456 131.82,371.456 \n",
       "  \"/>\n",
       "<polygon clip-path=\"url(#clip02)\" points=\"\n",
       "140.292,374.831 140.292,384.952 148.763,384.952 148.763,374.831 140.292,374.831 140.292,374.831 \n",
       "  \" fill=\"#0099ff\" fill-opacity=\"1\"/>\n",
       "<polyline clip-path=\"url(#clip02)\" style=\"stroke:#00002d; stroke-width:0.8; stroke-opacity:1; fill:none\" points=\"\n",
       "  140.292,374.831 140.292,384.952 148.763,384.952 148.763,374.831 140.292,374.831 \n",
       "  \"/>\n",
       "<polygon clip-path=\"url(#clip02)\" points=\"\n",
       "148.763,293.219 148.763,384.952 157.235,384.952 157.235,293.219 148.763,293.219 148.763,293.219 \n",
       "  \" fill=\"#0099ff\" fill-opacity=\"1\"/>\n",
       "<polyline clip-path=\"url(#clip02)\" style=\"stroke:#00002d; stroke-width:0.8; stroke-opacity:1; fill:none\" points=\"\n",
       "  148.763,293.219 148.763,384.952 157.235,384.952 157.235,293.219 148.763,293.219 \n",
       "  \"/>\n",
       "<polygon clip-path=\"url(#clip02)\" points=\"\n",
       "157.235,370.832 157.235,384.952 165.707,384.952 165.707,370.832 157.235,370.832 157.235,370.832 \n",
       "  \" fill=\"#0099ff\" fill-opacity=\"1\"/>\n",
       "<polyline clip-path=\"url(#clip02)\" style=\"stroke:#00002d; stroke-width:0.8; stroke-opacity:1; fill:none\" points=\"\n",
       "  157.235,370.832 157.235,384.952 165.707,384.952 165.707,370.832 157.235,370.832 \n",
       "  \"/>\n",
       "<polygon clip-path=\"url(#clip02)\" points=\"\n",
       "165.707,362.254 165.707,384.952 174.178,384.952 174.178,362.254 165.707,362.254 165.707,362.254 \n",
       "  \" fill=\"#0099ff\" fill-opacity=\"1\"/>\n",
       "<polyline clip-path=\"url(#clip02)\" style=\"stroke:#00002d; stroke-width:0.8; stroke-opacity:1; fill:none\" points=\"\n",
       "  165.707,362.254 165.707,384.952 174.178,384.952 174.178,362.254 165.707,362.254 \n",
       "  \"/>\n",
       "<polygon clip-path=\"url(#clip02)\" points=\"\n",
       "174.178,379.517 174.178,384.952 182.65,384.952 182.65,379.517 174.178,379.517 174.178,379.517 \n",
       "  \" fill=\"#0099ff\" fill-opacity=\"1\"/>\n",
       "<polyline clip-path=\"url(#clip02)\" style=\"stroke:#00002d; stroke-width:0.8; stroke-opacity:1; fill:none\" points=\"\n",
       "  174.178,379.517 174.178,384.952 182.65,384.952 182.65,379.517 174.178,379.517 \n",
       "  \"/>\n",
       "<polygon clip-path=\"url(#clip02)\" points=\"\n",
       "182.65,384.212 182.65,384.952 191.121,384.952 191.121,384.212 182.65,384.212 182.65,384.212 \n",
       "  \" fill=\"#0099ff\" fill-opacity=\"1\"/>\n",
       "<polyline clip-path=\"url(#clip02)\" style=\"stroke:#00002d; stroke-width:0.8; stroke-opacity:1; fill:none\" points=\"\n",
       "  182.65,384.212 182.65,384.952 191.121,384.952 191.121,384.212 182.65,384.212 \n",
       "  \"/>\n",
       "<polygon clip-path=\"url(#clip02)\" points=\"\n",
       "191.121,384.728 191.121,384.952 199.593,384.952 199.593,384.728 191.121,384.728 191.121,384.728 \n",
       "  \" fill=\"#0099ff\" fill-opacity=\"1\"/>\n",
       "<polyline clip-path=\"url(#clip02)\" style=\"stroke:#00002d; stroke-width:0.8; stroke-opacity:1; fill:none\" points=\"\n",
       "  191.121,384.728 191.121,384.952 199.593,384.952 199.593,384.728 191.121,384.728 \n",
       "  \"/>\n",
       "<polygon clip-path=\"url(#clip02)\" points=\"\n",
       "199.593,361.314 199.593,384.952 208.065,384.952 208.065,361.314 199.593,361.314 199.593,361.314 \n",
       "  \" fill=\"#0099ff\" fill-opacity=\"1\"/>\n",
       "<polyline clip-path=\"url(#clip02)\" style=\"stroke:#00002d; stroke-width:0.8; stroke-opacity:1; fill:none\" points=\"\n",
       "  199.593,361.314 199.593,384.952 208.065,384.952 208.065,361.314 199.593,361.314 \n",
       "  \"/>\n",
       "<polygon clip-path=\"url(#clip02)\" points=\"\n",
       "208.065,305.761 208.065,384.952 216.536,384.952 216.536,305.761 208.065,305.761 208.065,305.761 \n",
       "  \" fill=\"#0099ff\" fill-opacity=\"1\"/>\n",
       "<polyline clip-path=\"url(#clip02)\" style=\"stroke:#00002d; stroke-width:0.8; stroke-opacity:1; fill:none\" points=\"\n",
       "  208.065,305.761 208.065,384.952 216.536,384.952 216.536,305.761 208.065,305.761 \n",
       "  \"/>\n",
       "<polygon clip-path=\"url(#clip02)\" points=\"\n",
       "216.536,333.675 216.536,384.952 225.008,384.952 225.008,333.675 216.536,333.675 216.536,333.675 \n",
       "  \" fill=\"#0099ff\" fill-opacity=\"1\"/>\n",
       "<polyline clip-path=\"url(#clip02)\" style=\"stroke:#00002d; stroke-width:0.8; stroke-opacity:1; fill:none\" points=\"\n",
       "  216.536,333.675 216.536,384.952 225.008,384.952 225.008,333.675 216.536,333.675 \n",
       "  \"/>\n",
       "<polygon clip-path=\"url(#clip02)\" points=\"\n",
       "225.008,354.234 225.008,384.952 233.479,384.952 233.479,354.234 225.008,354.234 225.008,354.234 \n",
       "  \" fill=\"#0099ff\" fill-opacity=\"1\"/>\n",
       "<polyline clip-path=\"url(#clip02)\" style=\"stroke:#00002d; stroke-width:0.8; stroke-opacity:1; fill:none\" points=\"\n",
       "  225.008,354.234 225.008,384.952 233.479,384.952 233.479,354.234 225.008,354.234 \n",
       "  \"/>\n",
       "<polygon clip-path=\"url(#clip02)\" points=\"\n",
       "233.479,377.433 233.479,384.952 241.951,384.952 241.951,377.433 233.479,377.433 233.479,377.433 \n",
       "  \" fill=\"#0099ff\" fill-opacity=\"1\"/>\n",
       "<polyline clip-path=\"url(#clip02)\" style=\"stroke:#00002d; stroke-width:0.8; stroke-opacity:1; fill:none\" points=\"\n",
       "  233.479,377.433 233.479,384.952 241.951,384.952 241.951,377.433 233.479,377.433 \n",
       "  \"/>\n",
       "<polygon clip-path=\"url(#clip02)\" points=\"\n",
       "241.951,174.774 241.951,384.952 250.422,384.952 250.422,174.774 241.951,174.774 241.951,174.774 \n",
       "  \" fill=\"#0099ff\" fill-opacity=\"1\"/>\n",
       "<polyline clip-path=\"url(#clip02)\" style=\"stroke:#00002d; stroke-width:0.8; stroke-opacity:1; fill:none\" points=\"\n",
       "  241.951,174.774 241.951,384.952 250.422,384.952 250.422,174.774 241.951,174.774 \n",
       "  \"/>\n",
       "<polygon clip-path=\"url(#clip02)\" points=\"\n",
       "250.422,372.962 250.422,384.952 258.894,384.952 258.894,372.962 250.422,372.962 250.422,372.962 \n",
       "  \" fill=\"#0099ff\" fill-opacity=\"1\"/>\n",
       "<polyline clip-path=\"url(#clip02)\" style=\"stroke:#00002d; stroke-width:0.8; stroke-opacity:1; fill:none\" points=\"\n",
       "  250.422,372.962 250.422,384.952 258.894,384.952 258.894,372.962 250.422,372.962 \n",
       "  \"/>\n",
       "<polygon clip-path=\"url(#clip02)\" points=\"\n",
       "258.894,332.517 258.894,384.952 267.366,384.952 267.366,332.517 258.894,332.517 258.894,332.517 \n",
       "  \" fill=\"#0099ff\" fill-opacity=\"1\"/>\n",
       "<polyline clip-path=\"url(#clip02)\" style=\"stroke:#00002d; stroke-width:0.8; stroke-opacity:1; fill:none\" points=\"\n",
       "  258.894,332.517 258.894,384.952 267.366,384.952 267.366,332.517 258.894,332.517 \n",
       "  \"/>\n",
       "<polygon clip-path=\"url(#clip02)\" points=\"\n",
       "267.366,384.91 267.366,384.952 275.837,384.952 275.837,384.91 267.366,384.91 267.366,384.91 \n",
       "  \" fill=\"#0099ff\" fill-opacity=\"1\"/>\n",
       "<polyline clip-path=\"url(#clip02)\" style=\"stroke:#00002d; stroke-width:0.8; stroke-opacity:1; fill:none\" points=\"\n",
       "  267.366,384.91 267.366,384.952 275.837,384.952 275.837,384.91 267.366,384.91 \n",
       "  \"/>\n",
       "<polygon clip-path=\"url(#clip02)\" points=\"\n",
       "275.837,150.59 275.837,384.952 284.309,384.952 284.309,150.59 275.837,150.59 275.837,150.59 \n",
       "  \" fill=\"#0099ff\" fill-opacity=\"1\"/>\n",
       "<polyline clip-path=\"url(#clip02)\" style=\"stroke:#00002d; stroke-width:0.8; stroke-opacity:1; fill:none\" points=\"\n",
       "  275.837,150.59 275.837,384.952 284.309,384.952 284.309,150.59 275.837,150.59 \n",
       "  \"/>\n",
       "<polygon clip-path=\"url(#clip02)\" points=\"\n",
       "284.309,366.968 284.309,384.952 292.78,384.952 292.78,366.968 284.309,366.968 284.309,366.968 \n",
       "  \" fill=\"#0099ff\" fill-opacity=\"1\"/>\n",
       "<polyline clip-path=\"url(#clip02)\" style=\"stroke:#00002d; stroke-width:0.8; stroke-opacity:1; fill:none\" points=\"\n",
       "  284.309,366.968 284.309,384.952 292.78,384.952 292.78,366.968 284.309,366.968 \n",
       "  \"/>\n",
       "<polygon clip-path=\"url(#clip02)\" points=\"\n",
       "292.78,364.397 292.78,384.952 301.252,384.952 301.252,364.397 292.78,364.397 292.78,364.397 \n",
       "  \" fill=\"#0099ff\" fill-opacity=\"1\"/>\n",
       "<polyline clip-path=\"url(#clip02)\" style=\"stroke:#00002d; stroke-width:0.8; stroke-opacity:1; fill:none\" points=\"\n",
       "  292.78,364.397 292.78,384.952 301.252,384.952 301.252,364.397 292.78,364.397 \n",
       "  \"/>\n",
       "<polygon clip-path=\"url(#clip02)\" points=\"\n",
       "301.252,337.68 301.252,384.952 309.724,384.952 309.724,337.68 301.252,337.68 301.252,337.68 \n",
       "  \" fill=\"#0099ff\" fill-opacity=\"1\"/>\n",
       "<polyline clip-path=\"url(#clip02)\" style=\"stroke:#00002d; stroke-width:0.8; stroke-opacity:1; fill:none\" points=\"\n",
       "  301.252,337.68 301.252,384.952 309.724,384.952 309.724,337.68 301.252,337.68 \n",
       "  \"/>\n",
       "<polygon clip-path=\"url(#clip02)\" points=\"\n",
       "309.724,268.159 309.724,384.952 318.195,384.952 318.195,268.159 309.724,268.159 309.724,268.159 \n",
       "  \" fill=\"#0099ff\" fill-opacity=\"1\"/>\n",
       "<polyline clip-path=\"url(#clip02)\" style=\"stroke:#00002d; stroke-width:0.8; stroke-opacity:1; fill:none\" points=\"\n",
       "  309.724,268.159 309.724,384.952 318.195,384.952 318.195,268.159 309.724,268.159 \n",
       "  \"/>\n",
       "<polygon clip-path=\"url(#clip02)\" points=\"\n",
       "318.195,375.292 318.195,384.952 326.667,384.952 326.667,375.292 318.195,375.292 318.195,375.292 \n",
       "  \" fill=\"#0099ff\" fill-opacity=\"1\"/>\n",
       "<polyline clip-path=\"url(#clip02)\" style=\"stroke:#00002d; stroke-width:0.8; stroke-opacity:1; fill:none\" points=\"\n",
       "  318.195,375.292 318.195,384.952 326.667,384.952 326.667,375.292 318.195,375.292 \n",
       "  \"/>\n",
       "<polygon clip-path=\"url(#clip02)\" points=\"\n",
       "326.667,3.93701 326.667,384.952 335.138,384.952 335.138,3.93701 326.667,3.93701 326.667,3.93701 \n",
       "  \" fill=\"#0099ff\" fill-opacity=\"1\"/>\n",
       "<polyline clip-path=\"url(#clip02)\" style=\"stroke:#00002d; stroke-width:0.8; stroke-opacity:1; fill:none\" points=\"\n",
       "  326.667,3.93701 326.667,384.952 335.138,384.952 335.138,3.93701 326.667,3.93701 \n",
       "  \"/>\n",
       "<polygon clip-path=\"url(#clip02)\" points=\"\n",
       "335.138,338.873 335.138,384.952 343.61,384.952 343.61,338.873 335.138,338.873 335.138,338.873 \n",
       "  \" fill=\"#0099ff\" fill-opacity=\"1\"/>\n",
       "<polyline clip-path=\"url(#clip02)\" style=\"stroke:#00002d; stroke-width:0.8; stroke-opacity:1; fill:none\" points=\"\n",
       "  335.138,338.873 335.138,384.952 343.61,384.952 343.61,338.873 335.138,338.873 \n",
       "  \"/>\n",
       "<polygon clip-path=\"url(#clip02)\" points=\"\n",
       "343.61,384.927 343.61,384.952 352.081,384.952 352.081,384.927 343.61,384.927 343.61,384.927 \n",
       "  \" fill=\"#0099ff\" fill-opacity=\"1\"/>\n",
       "<polyline clip-path=\"url(#clip02)\" style=\"stroke:#00002d; stroke-width:0.8; stroke-opacity:1; fill:none\" points=\"\n",
       "  343.61,384.927 343.61,384.952 352.081,384.952 352.081,384.927 343.61,384.927 \n",
       "  \"/>\n",
       "<polygon clip-path=\"url(#clip02)\" points=\"\n",
       "352.081,221.895 352.081,384.952 360.553,384.952 360.553,221.895 352.081,221.895 352.081,221.895 \n",
       "  \" fill=\"#0099ff\" fill-opacity=\"1\"/>\n",
       "<polyline clip-path=\"url(#clip02)\" style=\"stroke:#00002d; stroke-width:0.8; stroke-opacity:1; fill:none\" points=\"\n",
       "  352.081,221.895 352.081,384.952 360.553,384.952 360.553,221.895 352.081,221.895 \n",
       "  \"/>\n",
       "<polygon clip-path=\"url(#clip02)\" points=\"\n",
       "360.553,374.881 360.553,384.952 369.025,384.952 369.025,374.881 360.553,374.881 360.553,374.881 \n",
       "  \" fill=\"#0099ff\" fill-opacity=\"1\"/>\n",
       "<polyline clip-path=\"url(#clip02)\" style=\"stroke:#00002d; stroke-width:0.8; stroke-opacity:1; fill:none\" points=\"\n",
       "  360.553,374.881 360.553,384.952 369.025,384.952 369.025,374.881 360.553,374.881 \n",
       "  \"/>\n",
       "<polygon clip-path=\"url(#clip02)\" points=\"\n",
       "369.025,355.337 369.025,384.952 377.496,384.952 377.496,355.337 369.025,355.337 369.025,355.337 \n",
       "  \" fill=\"#0099ff\" fill-opacity=\"1\"/>\n",
       "<polyline clip-path=\"url(#clip02)\" style=\"stroke:#00002d; stroke-width:0.8; stroke-opacity:1; fill:none\" points=\"\n",
       "  369.025,355.337 369.025,384.952 377.496,384.952 377.496,355.337 369.025,355.337 \n",
       "  \"/>\n",
       "<polygon clip-path=\"url(#clip02)\" points=\"\n",
       "377.496,325.536 377.496,384.952 385.968,384.952 385.968,325.536 377.496,325.536 377.496,325.536 \n",
       "  \" fill=\"#0099ff\" fill-opacity=\"1\"/>\n",
       "<polyline clip-path=\"url(#clip02)\" style=\"stroke:#00002d; stroke-width:0.8; stroke-opacity:1; fill:none\" points=\"\n",
       "  377.496,325.536 377.496,384.952 385.968,384.952 385.968,325.536 377.496,325.536 \n",
       "  \"/>\n",
       "<polygon clip-path=\"url(#clip02)\" points=\"\n",
       "385.968,382.413 385.968,384.952 394.439,384.952 394.439,382.413 385.968,382.413 385.968,382.413 \n",
       "  \" fill=\"#0099ff\" fill-opacity=\"1\"/>\n",
       "<polyline clip-path=\"url(#clip02)\" style=\"stroke:#00002d; stroke-width:0.8; stroke-opacity:1; fill:none\" points=\"\n",
       "  385.968,382.413 385.968,384.952 394.439,384.952 394.439,382.413 385.968,382.413 \n",
       "  \"/>\n",
       "<polygon clip-path=\"url(#clip02)\" points=\"\n",
       "394.439,357.452 394.439,384.952 402.911,384.952 402.911,357.452 394.439,357.452 394.439,357.452 \n",
       "  \" fill=\"#0099ff\" fill-opacity=\"1\"/>\n",
       "<polyline clip-path=\"url(#clip02)\" style=\"stroke:#00002d; stroke-width:0.8; stroke-opacity:1; fill:none\" points=\"\n",
       "  394.439,357.452 394.439,384.952 402.911,384.952 402.911,357.452 394.439,357.452 \n",
       "  \"/>\n",
       "<polygon clip-path=\"url(#clip02)\" points=\"\n",
       "402.911,371.23 402.911,384.952 411.382,384.952 411.382,371.23 402.911,371.23 402.911,371.23 \n",
       "  \" fill=\"#0099ff\" fill-opacity=\"1\"/>\n",
       "<polyline clip-path=\"url(#clip02)\" style=\"stroke:#00002d; stroke-width:0.8; stroke-opacity:1; fill:none\" points=\"\n",
       "  402.911,371.23 402.911,384.952 411.382,384.952 411.382,371.23 402.911,371.23 \n",
       "  \"/>\n",
       "<polygon clip-path=\"url(#clip02)\" points=\"\n",
       "411.382,223.681 411.382,384.952 419.854,384.952 419.854,223.681 411.382,223.681 411.382,223.681 \n",
       "  \" fill=\"#0099ff\" fill-opacity=\"1\"/>\n",
       "<polyline clip-path=\"url(#clip02)\" style=\"stroke:#00002d; stroke-width:0.8; stroke-opacity:1; fill:none\" points=\"\n",
       "  411.382,223.681 411.382,384.952 419.854,384.952 419.854,223.681 411.382,223.681 \n",
       "  \"/>\n",
       "<polygon clip-path=\"url(#clip02)\" points=\"\n",
       "419.854,384.941 419.854,384.952 428.326,384.952 428.326,384.941 419.854,384.941 419.854,384.941 \n",
       "  \" fill=\"#0099ff\" fill-opacity=\"1\"/>\n",
       "<polyline clip-path=\"url(#clip02)\" style=\"stroke:#00002d; stroke-width:0.8; stroke-opacity:1; fill:none\" points=\"\n",
       "  419.854,384.941 419.854,384.952 428.326,384.952 428.326,384.941 419.854,384.941 \n",
       "  \"/>\n",
       "<polygon clip-path=\"url(#clip02)\" points=\"\n",
       "428.326,371.659 428.326,384.952 436.797,384.952 436.797,371.659 428.326,371.659 428.326,371.659 \n",
       "  \" fill=\"#0099ff\" fill-opacity=\"1\"/>\n",
       "<polyline clip-path=\"url(#clip02)\" style=\"stroke:#00002d; stroke-width:0.8; stroke-opacity:1; fill:none\" points=\"\n",
       "  428.326,371.659 428.326,384.952 436.797,384.952 436.797,371.659 428.326,371.659 \n",
       "  \"/>\n",
       "<polygon clip-path=\"url(#clip02)\" points=\"\n",
       "436.797,278.607 436.797,384.952 445.269,384.952 445.269,278.607 436.797,278.607 436.797,278.607 \n",
       "  \" fill=\"#0099ff\" fill-opacity=\"1\"/>\n",
       "<polyline clip-path=\"url(#clip02)\" style=\"stroke:#00002d; stroke-width:0.8; stroke-opacity:1; fill:none\" points=\"\n",
       "  436.797,278.607 436.797,384.952 445.269,384.952 445.269,278.607 436.797,278.607 \n",
       "  \"/>\n",
       "<polygon clip-path=\"url(#clip02)\" points=\"\n",
       "445.269,378.089 445.269,384.952 453.74,384.952 453.74,378.089 445.269,378.089 445.269,378.089 \n",
       "  \" fill=\"#0099ff\" fill-opacity=\"1\"/>\n",
       "<polyline clip-path=\"url(#clip02)\" style=\"stroke:#00002d; stroke-width:0.8; stroke-opacity:1; fill:none\" points=\"\n",
       "  445.269,378.089 445.269,384.952 453.74,384.952 453.74,378.089 445.269,378.089 \n",
       "  \"/>\n",
       "<polygon clip-path=\"url(#clip02)\" points=\"\n",
       "453.74,362.881 453.74,384.952 462.212,384.952 462.212,362.881 453.74,362.881 453.74,362.881 \n",
       "  \" fill=\"#0099ff\" fill-opacity=\"1\"/>\n",
       "<polyline clip-path=\"url(#clip02)\" style=\"stroke:#00002d; stroke-width:0.8; stroke-opacity:1; fill:none\" points=\"\n",
       "  453.74,362.881 453.74,384.952 462.212,384.952 462.212,362.881 453.74,362.881 \n",
       "  \"/>\n",
       "<polygon clip-path=\"url(#clip02)\" points=\"\n",
       "462.212,382.605 462.212,384.952 470.684,384.952 470.684,382.605 462.212,382.605 462.212,382.605 \n",
       "  \" fill=\"#0099ff\" fill-opacity=\"1\"/>\n",
       "<polyline clip-path=\"url(#clip02)\" style=\"stroke:#00002d; stroke-width:0.8; stroke-opacity:1; fill:none\" points=\"\n",
       "  462.212,382.605 462.212,384.952 470.684,384.952 470.684,382.605 462.212,382.605 \n",
       "  \"/>\n",
       "<polygon clip-path=\"url(#clip02)\" points=\"\n",
       "470.684,364.298 470.684,384.952 479.155,384.952 479.155,364.298 470.684,364.298 470.684,364.298 \n",
       "  \" fill=\"#0099ff\" fill-opacity=\"1\"/>\n",
       "<polyline clip-path=\"url(#clip02)\" style=\"stroke:#00002d; stroke-width:0.8; stroke-opacity:1; fill:none\" points=\"\n",
       "  470.684,364.298 470.684,384.952 479.155,384.952 479.155,364.298 470.684,364.298 \n",
       "  \"/>\n",
       "<polygon clip-path=\"url(#clip02)\" points=\"\n",
       "479.155,347.147 479.155,384.952 487.627,384.952 487.627,347.147 479.155,347.147 479.155,347.147 \n",
       "  \" fill=\"#0099ff\" fill-opacity=\"1\"/>\n",
       "<polyline clip-path=\"url(#clip02)\" style=\"stroke:#00002d; stroke-width:0.8; stroke-opacity:1; fill:none\" points=\"\n",
       "  479.155,347.147 479.155,384.952 487.627,384.952 487.627,347.147 479.155,347.147 \n",
       "  \"/>\n",
       "<polygon clip-path=\"url(#clip02)\" points=\"\n",
       "487.627,368.162 487.627,384.952 496.098,384.952 496.098,368.162 487.627,368.162 487.627,368.162 \n",
       "  \" fill=\"#0099ff\" fill-opacity=\"1\"/>\n",
       "<polyline clip-path=\"url(#clip02)\" style=\"stroke:#00002d; stroke-width:0.8; stroke-opacity:1; fill:none\" points=\"\n",
       "  487.627,368.162 487.627,384.952 496.098,384.952 496.098,368.162 487.627,368.162 \n",
       "  \"/>\n",
       "<polygon clip-path=\"url(#clip02)\" points=\"\n",
       "496.098,316.543 496.098,384.952 504.57,384.952 504.57,316.543 496.098,316.543 496.098,316.543 \n",
       "  \" fill=\"#0099ff\" fill-opacity=\"1\"/>\n",
       "<polyline clip-path=\"url(#clip02)\" style=\"stroke:#00002d; stroke-width:0.8; stroke-opacity:1; fill:none\" points=\"\n",
       "  496.098,316.543 496.098,384.952 504.57,384.952 504.57,316.543 496.098,316.543 \n",
       "  \"/>\n",
       "<polygon clip-path=\"url(#clip02)\" points=\"\n",
       "504.57,384.901 504.57,384.952 513.041,384.952 513.041,384.901 504.57,384.901 504.57,384.901 \n",
       "  \" fill=\"#0099ff\" fill-opacity=\"1\"/>\n",
       "<polyline clip-path=\"url(#clip02)\" style=\"stroke:#00002d; stroke-width:0.8; stroke-opacity:1; fill:none\" points=\"\n",
       "  504.57,384.901 504.57,384.952 513.041,384.952 513.041,384.901 504.57,384.901 \n",
       "  \"/>\n",
       "<polygon clip-path=\"url(#clip02)\" points=\"\n",
       "513.041,352.238 513.041,384.952 521.513,384.952 521.513,352.238 513.041,352.238 513.041,352.238 \n",
       "  \" fill=\"#0099ff\" fill-opacity=\"1\"/>\n",
       "<polyline clip-path=\"url(#clip02)\" style=\"stroke:#00002d; stroke-width:0.8; stroke-opacity:1; fill:none\" points=\"\n",
       "  513.041,352.238 513.041,384.952 521.513,384.952 521.513,352.238 513.041,352.238 \n",
       "  \"/>\n",
       "<polygon clip-path=\"url(#clip02)\" points=\"\n",
       "521.513,379.207 521.513,384.952 529.985,384.952 529.985,379.207 521.513,379.207 521.513,379.207 \n",
       "  \" fill=\"#0099ff\" fill-opacity=\"1\"/>\n",
       "<polyline clip-path=\"url(#clip02)\" style=\"stroke:#00002d; stroke-width:0.8; stroke-opacity:1; fill:none\" points=\"\n",
       "  521.513,379.207 521.513,384.952 529.985,384.952 529.985,379.207 521.513,379.207 \n",
       "  \"/>\n",
       "<polygon clip-path=\"url(#clip02)\" points=\"\n",
       "529.985,381.651 529.985,384.952 538.456,384.952 538.456,381.651 529.985,381.651 529.985,381.651 \n",
       "  \" fill=\"#0099ff\" fill-opacity=\"1\"/>\n",
       "<polyline clip-path=\"url(#clip02)\" style=\"stroke:#00002d; stroke-width:0.8; stroke-opacity:1; fill:none\" points=\"\n",
       "  529.985,381.651 529.985,384.952 538.456,384.952 538.456,381.651 529.985,381.651 \n",
       "  \"/>\n",
       "<polygon clip-path=\"url(#clip02)\" points=\"\n",
       "538.456,370.262 538.456,384.952 546.928,384.952 546.928,370.262 538.456,370.262 538.456,370.262 \n",
       "  \" fill=\"#0099ff\" fill-opacity=\"1\"/>\n",
       "<polyline clip-path=\"url(#clip02)\" style=\"stroke:#00002d; stroke-width:0.8; stroke-opacity:1; fill:none\" points=\"\n",
       "  538.456,370.262 538.456,384.952 546.928,384.952 546.928,370.262 538.456,370.262 \n",
       "  \"/>\n",
       "<polygon clip-path=\"url(#clip02)\" points=\"\n",
       "546.928,365.593 546.928,384.952 555.399,384.952 555.399,365.593 546.928,365.593 546.928,365.593 \n",
       "  \" fill=\"#0099ff\" fill-opacity=\"1\"/>\n",
       "<polyline clip-path=\"url(#clip02)\" style=\"stroke:#00002d; stroke-width:0.8; stroke-opacity:1; fill:none\" points=\"\n",
       "  546.928,365.593 546.928,384.952 555.399,384.952 555.399,365.593 546.928,365.593 \n",
       "  \"/>\n",
       "<polygon clip-path=\"url(#clip02)\" points=\"\n",
       "555.399,375.276 555.399,384.952 563.871,384.952 563.871,375.276 555.399,375.276 555.399,375.276 \n",
       "  \" fill=\"#0099ff\" fill-opacity=\"1\"/>\n",
       "<polyline clip-path=\"url(#clip02)\" style=\"stroke:#00002d; stroke-width:0.8; stroke-opacity:1; fill:none\" points=\"\n",
       "  555.399,375.276 555.399,384.952 563.871,384.952 563.871,375.276 555.399,375.276 \n",
       "  \"/>\n",
       "<polygon clip-path=\"url(#clip02)\" points=\"\n",
       "563.871,344.669 563.871,384.952 572.343,384.952 572.343,344.669 563.871,344.669 563.871,344.669 \n",
       "  \" fill=\"#0099ff\" fill-opacity=\"1\"/>\n",
       "<polyline clip-path=\"url(#clip02)\" style=\"stroke:#00002d; stroke-width:0.8; stroke-opacity:1; fill:none\" points=\"\n",
       "  563.871,344.669 563.871,384.952 572.343,384.952 572.343,344.669 563.871,344.669 \n",
       "  \"/>\n",
       "<polygon clip-path=\"url(#clip02)\" points=\"\n",
       "572.343,384.176 572.343,384.952 580.814,384.952 580.814,384.176 572.343,384.176 572.343,384.176 \n",
       "  \" fill=\"#0099ff\" fill-opacity=\"1\"/>\n",
       "<polyline clip-path=\"url(#clip02)\" style=\"stroke:#00002d; stroke-width:0.8; stroke-opacity:1; fill:none\" points=\"\n",
       "  572.343,384.176 572.343,384.952 580.814,384.952 580.814,384.176 572.343,384.176 \n",
       "  \"/>\n",
       "<polygon clip-path=\"url(#clip00)\" points=\"\n",
       "505.547,55.057 578.063,55.057 578.063,24.817 505.547,24.817 \n",
       "  \" fill=\"#ffffff\" fill-opacity=\"1\"/>\n",
       "<polyline clip-path=\"url(#clip00)\" style=\"stroke:#00002d; stroke-width:0.8; stroke-opacity:1; fill:none\" points=\"\n",
       "  505.547,55.057 578.063,55.057 578.063,24.817 505.547,24.817 505.547,55.057 \n",
       "  \"/>\n",
       "<polygon clip-path=\"url(#clip00)\" points=\"\n",
       "511.547,45.985 547.547,45.985 547.547,33.889 511.547,33.889 511.547,45.985 \n",
       "  \" fill=\"#0099ff\" fill-opacity=\"1\"/>\n",
       "<polyline clip-path=\"url(#clip00)\" style=\"stroke:#00002d; stroke-width:0.8; stroke-opacity:1; fill:none\" points=\"\n",
       "  511.547,45.985 547.547,45.985 547.547,33.889 511.547,33.889 511.547,45.985 \n",
       "  \"/>\n",
       "<g clip-path=\"url(#clip00)\">\n",
       "<text style=\"fill:#00002d; fill-opacity:1; font-family:Arial,Helvetica Neue,Helvetica,sans-serif; font-size:12; text-anchor:start;\" transform=\"rotate(0, 553.547, 44.437)\" x=\"553.547\" y=\"44.437\">y1</text>\n",
       "</g>\n",
       "</svg>\n"
      ]
     },
     "execution_count": 55,
     "metadata": {},
     "output_type": "execute_result"
    }
   ],
   "source": [
    "histogram(comm, nbins = 60)"
   ]
  },
  {
   "cell_type": "markdown",
   "metadata": {},
   "source": [
    "## Some post-processing to vizualize data using projector, and restrict ourselves to the 10k largest accounts.\n",
    "This is totally in rough draft form"
   ]
  },
  {
   "cell_type": "code",
   "execution_count": 10,
   "metadata": {
    "collapsed": false
   },
   "outputs": [
    {
     "data": {
      "text/plain": [
       "1205559×60 sparse matrix with 35334538 Float64 nonzero entries:\n",
       "\t[2      ,       1]  =  0.0495808\n",
       "\t[6      ,       1]  =  0.00918191\n",
       "\t[9      ,       1]  =  0.123767\n",
       "\t[10     ,       1]  =  0.000630212\n",
       "\t[13     ,       1]  =  0.00385952\n",
       "\t[14     ,       1]  =  0.00347653\n",
       "\t[15     ,       1]  =  0.00244331\n",
       "\t[16     ,       1]  =  0.000328876\n",
       "\t[19     ,       1]  =  0.00363582\n",
       "\t[20     ,       1]  =  0.00131454\n",
       "\t⋮\n",
       "\t[1205542,      60]  =  8.94298e-39\n",
       "\t[1205547,      60]  =  5.19441e-202\n",
       "\t[1205548,      60]  =  2.42452e-200\n",
       "\t[1205549,      60]  =  7.16569e-5\n",
       "\t[1205550,      60]  =  7.76278e-30\n",
       "\t[1205551,      60]  =  0.0097963\n",
       "\t[1205552,      60]  =  5.43669e-8\n",
       "\t[1205553,      60]  =  1.072e-5\n",
       "\t[1205554,      60]  =  6.15074e-75\n",
       "\t[1205558,      60]  =  0.000951541\n",
       "\t[1205559,      60]  =  0.000741547"
      ]
     },
     "execution_count": 10,
     "metadata": {},
     "output_type": "execute_result"
    }
   ],
   "source": [
    "U_60 = JLD.load(\"/media/henripal/hd1/data/U_60.jld\", \"U_60\")"
   ]
  },
  {
   "cell_type": "code",
   "execution_count": 12,
   "metadata": {
    "collapsed": true
   },
   "outputs": [],
   "source": [
    "using DataFrames"
   ]
  },
  {
   "cell_type": "code",
   "execution_count": 25,
   "metadata": {
    "collapsed": false
   },
   "outputs": [],
   "source": [
    "name_followers = readtable(\"/media/henripal/hd1/data/name_to_follower.csv\", header = false);"
   ]
  },
  {
   "cell_type": "code",
   "execution_count": 26,
   "metadata": {
    "collapsed": false
   },
   "outputs": [
    {
     "data": {
      "text/html": [
       "<table class=\"data-frame\"><thead><tr><th></th><th>name</th><th>followers</th></tr></thead><tbody><tr><th>1</th><td>GavaironJ</td><td>5</td></tr><tr><th>2</th><td>bocchijoto</td><td>1834</td></tr><tr><th>3</th><td>cannabinolsen</td><td>1</td></tr><tr><th>4</th><td>angelman61</td><td>32</td></tr><tr><th>5</th><td>alex_latrice21</td><td>199</td></tr><tr><th>6</th><td>turnipkween</td><td>242</td></tr><tr><th>7</th><td>EveMorante</td><td>747</td></tr><tr><th>8</th><td>mwutley</td><td>113</td></tr><tr><th>9</th><td>LetsCllnk</td><td>59</td></tr><tr><th>10</th><td>positivelytaco</td><td>173</td></tr><tr><th>11</th><td>SachaStein</td><td>171</td></tr><tr><th>12</th><td>andino__20</td><td>155</td></tr><tr><th>13</th><td>Bonduran1</td><td>598</td></tr><tr><th>14</th><td>pretocaetano</td><td>259</td></tr><tr><th>15</th><td>TheLos</td><td>967</td></tr><tr><th>16</th><td>LaylaGerhart</td><td>4</td></tr><tr><th>17</th><td>stolethetart</td><td>34</td></tr><tr><th>18</th><td>aryalptara</td><td>450</td></tr><tr><th>19</th><td>asvpxstephaniex</td><td>107</td></tr><tr><th>20</th><td>Doreen58</td><td>84</td></tr><tr><th>21</th><td>ivysharIey</td><td>274</td></tr><tr><th>22</th><td>YSemerel</td><td>8</td></tr><tr><th>23</th><td>LVIaLondres</td><td>549</td></tr><tr><th>24</th><td>monsterfromars</td><td>856</td></tr><tr><th>25</th><td>SassyBroncoFan</td><td>11</td></tr><tr><th>26</th><td>karururo</td><td>74</td></tr><tr><th>27</th><td>thaecn</td><td>11</td></tr><tr><th>28</th><td>Raulggrc</td><td>641</td></tr><tr><th>29</th><td>ZireLLi_B</td><td>285</td></tr><tr><th>30</th><td>tamtinke2</td><td>114</td></tr><tr><th>&vellip;</th><td>&vellip;</td><td>&vellip;</td></tr></tbody></table>"
      ],
      "text/plain": [
       "1076038×2 DataFrames.DataFrame\n",
       "│ Row     │ name              │ followers │\n",
       "├─────────┼───────────────────┼───────────┤\n",
       "│ 1       │ \"GavaironJ\"       │ 5         │\n",
       "│ 2       │ \"bocchijoto\"      │ 1834      │\n",
       "│ 3       │ \"cannabinolsen\"   │ 1         │\n",
       "│ 4       │ \"angelman61\"      │ 32        │\n",
       "│ 5       │ \"alex_latrice21\"  │ 199       │\n",
       "│ 6       │ \"turnipkween\"     │ 242       │\n",
       "│ 7       │ \"EveMorante\"      │ 747       │\n",
       "│ 8       │ \"mwutley\"         │ 113       │\n",
       "│ 9       │ \"LetsCllnk\"       │ 59        │\n",
       "│ 10      │ \"positivelytaco\"  │ 173       │\n",
       "│ 11      │ \"SachaStein\"      │ 171       │\n",
       "⋮\n",
       "│ 1076027 │ \"trena_nauta\"     │ 91        │\n",
       "│ 1076028 │ \"TEurit\"          │ 74        │\n",
       "│ 1076029 │ \"CamilleVanneste\" │ 232       │\n",
       "│ 1076030 │ \"kawaiiPhilip\"    │ 342       │\n",
       "│ 1076031 │ \"nahlaels\"        │ 2932      │\n",
       "│ 1076032 │ \"superhamps\"      │ 155       │\n",
       "│ 1076033 │ \"danvera\"         │ 1371      │\n",
       "│ 1076034 │ \"matthewmientka\"  │ 26545     │\n",
       "│ 1076035 │ \"EmmaCDickinson\"  │ 231       │\n",
       "│ 1076036 │ \"zombiemedic1985\" │ 124       │\n",
       "│ 1076037 │ \"kben_ears\"       │ 96        │\n",
       "│ 1076038 │ \"RynoDyrt\"        │ 173       │"
      ]
     },
     "execution_count": 26,
     "metadata": {},
     "output_type": "execute_result"
    }
   ],
   "source": [
    "rename!(name_followers,:x1,:name)\n",
    "rename!(name_followers,:x2, :followers)"
   ]
  },
  {
   "cell_type": "code",
   "execution_count": 32,
   "metadata": {
    "collapsed": false
   },
   "outputs": [],
   "source": [
    "sort!(name_followers, cols= :followers, rev = true);"
   ]
  },
  {
   "cell_type": "code",
   "execution_count": 35,
   "metadata": {
    "collapsed": false
   },
   "outputs": [
    {
     "data": {
      "text/html": [
       "<table class=\"data-frame\"><thead><tr><th></th><th>name</th><th>followers</th></tr></thead><tbody><tr><th>1</th><td>MileyCyrus</td><td>31598990</td></tr><tr><th>2</th><td>TheEconomist</td><td>18303980</td></tr><tr><th>3</th><td>POTUS</td><td>14277895</td></tr><tr><th>4</th><td>funnyordie</td><td>13936034</td></tr><tr><th>5</th><td>TIME</td><td>12715214</td></tr><tr><th>6</th><td>ArvindKejriwal</td><td>10276363</td></tr><tr><th>7</th><td>SarahKSilverman</td><td>9776677</td></tr><tr><th>8</th><td>jk_rowling</td><td>9056612</td></tr><tr><th>9</th><td>HuffingtonPost</td><td>8868956</td></tr><tr><th>10</th><td>people</td><td>7546839</td></tr><tr><th>11</th><td>lemondefr</td><td>6668668</td></tr><tr><th>12</th><td>NPR</td><td>6584109</td></tr><tr><th>13</th><td>PerezHilton</td><td>6560967</td></tr><tr><th>14</th><td>guardian</td><td>6210222</td></tr><tr><th>15</th><td>EW</td><td>6031204</td></tr><tr><th>16</th><td>lilyallen</td><td>5905870</td></tr><tr><th>17</th><td>piersmorgan</td><td>5433143</td></tr><tr><th>18</th><td>RedHourBen</td><td>5225214</td></tr><tr><th>19</th><td>htTweets</td><td>4999547</td></tr><tr><th>20</th><td>TheFunnyTeens</td><td>4590964</td></tr><tr><th>21</th><td>billboard</td><td>4434723</td></tr><tr><th>22</th><td>dumbassgenius</td><td>4383367</td></tr><tr><th>23</th><td>hitRECordJoe</td><td>4164075</td></tr><tr><th>24</th><td>todonoticias</td><td>4037759</td></tr><tr><th>25</th><td>DannyDeVito</td><td>3967433</td></tr><tr><th>26</th><td>jack</td><td>3960340</td></tr><tr><th>27</th><td>SkyNews</td><td>3762095</td></tr><tr><th>28</th><td>MMFlint</td><td>3736617</td></tr><tr><th>29</th><td>IndiaToday</td><td>3687969</td></tr><tr><th>30</th><td>BritishVogue</td><td>3472942</td></tr><tr><th>&vellip;</th><td>&vellip;</td><td>&vellip;</td></tr></tbody></table>"
      ],
      "text/plain": [
       "10000×2 DataFrames.DataFrame\n",
       "│ Row   │ name              │ followers │\n",
       "├───────┼───────────────────┼───────────┤\n",
       "│ 1     │ \"MileyCyrus\"      │ 31598990  │\n",
       "│ 2     │ \"TheEconomist\"    │ 18303980  │\n",
       "│ 3     │ \"POTUS\"           │ 14277895  │\n",
       "│ 4     │ \"funnyordie\"      │ 13936034  │\n",
       "│ 5     │ \"TIME\"            │ 12715214  │\n",
       "│ 6     │ \"ArvindKejriwal\"  │ 10276363  │\n",
       "│ 7     │ \"SarahKSilverman\" │ 9776677   │\n",
       "│ 8     │ \"jk_rowling\"      │ 9056612   │\n",
       "│ 9     │ \"HuffingtonPost\"  │ 8868956   │\n",
       "│ 10    │ \"people\"          │ 7546839   │\n",
       "│ 11    │ \"lemondefr\"       │ 6668668   │\n",
       "⋮\n",
       "│ 9989  │ \"ughmeIanie\"      │ 18765     │\n",
       "│ 9990  │ \"PtdArcole\"       │ 18756     │\n",
       "│ 9991  │ \"BlueNRedState\"   │ 18756     │\n",
       "│ 9992  │ \"JoshuaDixen\"     │ 18755     │\n",
       "│ 9993  │ \"iCelebScoop\"     │ 18750     │\n",
       "│ 9994  │ \"BklynEagle\"      │ 18750     │\n",
       "│ 9995  │ \"TEENVOGUEITGIRL\" │ 18747     │\n",
       "│ 9996  │ \"itsestra\"        │ 18744     │\n",
       "│ 9997  │ \"bracealmighty\"   │ 18736     │\n",
       "│ 9998  │ \"dragonian3333\"   │ 18734     │\n",
       "│ 9999  │ \"spadesmagazine\"  │ 18732     │\n",
       "│ 10000 │ \"MsLatina\"        │ 18730     │"
      ]
     },
     "execution_count": 35,
     "metadata": {},
     "output_type": "execute_result"
    }
   ],
   "source": [
    "name_followers = name_followers[1:10000,:]"
   ]
  },
  {
   "cell_type": "code",
   "execution_count": 36,
   "metadata": {
    "collapsed": false
   },
   "outputs": [
    {
     "data": {
      "text/plain": [
       "10000-element Array{Int64,1}:\n",
       " 1105228\n",
       "  400654\n",
       "  430428\n",
       "  519328\n",
       "   18442\n",
       " 1024618\n",
       " 1058073\n",
       "  701067\n",
       "  521599\n",
       "  441624\n",
       "  928554\n",
       "   21126\n",
       "  883751\n",
       "       ⋮\n",
       " 1056759\n",
       "  389300\n",
       "  861936\n",
       " 1060834\n",
       "  628955\n",
       "  783077\n",
       "  146505\n",
       "  687415\n",
       "  538132\n",
       "  373521\n",
       "  903695\n",
       "  727673"
      ]
     },
     "execution_count": 36,
     "metadata": {},
     "output_type": "execute_result"
    }
   ],
   "source": [
    "name_followers[:ind] = [name_to_index[n] for n in name_followers[:name]]"
   ]
  },
  {
   "cell_type": "code",
   "execution_count": 38,
   "metadata": {
    "collapsed": false
   },
   "outputs": [
    {
     "data": {
      "text/plain": [
       "10000×60 Array{Float64,2}:\n",
       " 5.31633e-318  5.26693e-318  5.21753e-318  …  4.09076e-319  3.47501e-319\n",
       " 5.31633e-318  5.26692e-318  5.21753e-318     4.09081e-319  3.47506e-319\n",
       " 5.31632e-318  5.26692e-318  5.21751e-318     4.09086e-319  3.47511e-319\n",
       " 5.31632e-318  5.26691e-318  5.21751e-318     4.09091e-319  3.47516e-319\n",
       " 5.31631e-318  5.2669e-318   5.21748e-318     4.09096e-319  3.47521e-319\n",
       " 5.31631e-318  5.26691e-318  5.21749e-318  …  4.09101e-319  3.47526e-319\n",
       " 5.3163e-318   5.26689e-318  5.21749e-318     4.09106e-319  3.47531e-319\n",
       " 5.3163e-318   5.2669e-318   5.2175e-318      4.09111e-319  3.47536e-319\n",
       " 5.31629e-318  5.26689e-318  5.2175e-318      4.09116e-319  3.47541e-319\n",
       " 5.31629e-318  5.26688e-318  5.21747e-318     4.09121e-319  3.47546e-319\n",
       " 5.31628e-318  5.26688e-318  5.21747e-318  …  4.09126e-319  3.4755e-319 \n",
       " 5.31628e-318  5.26687e-318  5.21748e-318     4.09131e-319  3.47555e-319\n",
       " 5.31627e-318  5.26687e-318  5.21745e-318     4.09136e-319  3.4756e-319 \n",
       " ⋮                                         ⋱                            \n",
       " 5.26699e-318  5.21759e-318  5.16818e-318     3.47442e-319  2.59236e-319\n",
       " 5.26698e-318  5.21759e-318  5.16814e-318     3.47447e-319  2.59241e-319\n",
       " 5.26698e-318  5.21757e-318  5.16814e-318  …  3.47452e-319  2.59246e-319\n",
       " 5.26697e-318  5.21757e-318  5.16815e-318     3.47457e-319  2.59251e-319\n",
       " 5.26696e-318  5.21756e-318  5.16815e-318     3.47462e-319  2.59256e-319\n",
       " 5.26697e-318  5.21756e-318  5.16816e-318     3.47466e-319  2.59261e-319\n",
       " 5.26696e-318  5.21755e-318  5.16816e-318     3.47471e-319  2.59266e-319\n",
       " 5.26695e-318  5.21755e-318  5.16817e-318  …  3.47476e-319  2.59271e-319\n",
       " 5.26695e-318  5.21754e-318  5.16812e-318     3.47481e-319  2.59276e-319\n",
       " 5.26694e-318  5.21754e-318  5.16812e-318     3.47486e-319  2.59281e-319\n",
       " 5.26694e-318  5.21752e-318  5.16813e-318     3.47491e-319  2.59286e-319\n",
       " 5.26693e-318  5.21752e-318  5.16813e-318     3.47496e-319  2.59291e-319"
      ]
     },
     "execution_count": 38,
     "metadata": {},
     "output_type": "execute_result"
    }
   ],
   "source": [
    "user_vectors = Array{Float64,2}(10000, 60)"
   ]
  },
  {
   "cell_type": "code",
   "execution_count": 41,
   "metadata": {
    "collapsed": false
   },
   "outputs": [],
   "source": [
    "for i in 1:10000, j in 1:60\n",
    "    user_vectors[i, j] = U_60[name_followers[:ind][i], j]\n",
    "end"
   ]
  },
  {
   "cell_type": "code",
   "execution_count": 43,
   "metadata": {
    "collapsed": false
   },
   "outputs": [
    {
     "data": {
      "text/html": [
       "<table class=\"data-frame\"><thead><tr><th></th><th>x1</th><th>x2</th><th>x3</th><th>x4</th><th>x5</th><th>x6</th><th>x7</th><th>x8</th><th>x9</th><th>x10</th><th>x11</th><th>x12</th><th>x13</th><th>x14</th><th>x15</th><th>x16</th><th>x17</th><th>x18</th><th>x19</th><th>x20</th><th>x21</th><th>x22</th><th>x23</th><th>x24</th><th>x25</th><th>x26</th><th>x27</th><th>x28</th><th>x29</th><th>x30</th><th>x31</th><th>x32</th><th>x33</th><th>x34</th><th>x35</th><th>x36</th><th>x37</th><th>x38</th><th>x39</th><th>x40</th><th>x41</th><th>x42</th><th>x43</th><th>x44</th><th>x45</th><th>x46</th><th>x47</th><th>x48</th><th>x49</th><th>x50</th><th>x51</th><th>x52</th><th>x53</th><th>x54</th><th>x55</th><th>x56</th><th>x57</th><th>x58</th><th>x59</th><th>x60</th></tr></thead><tbody><tr><th>1</th><td>0.0003308432856116264</td><td>0.00023556579292053693</td><td>2.0446540121546803e-10</td><td>0.0</td><td>0.0</td><td>0.0</td><td>0.0</td><td>0.0023846671602313157</td><td>0.0</td><td>0.0</td><td>1.6802939987742255e-6</td><td>0.0</td><td>2.014624184008981e-5</td><td>1.3887591951182302e-8</td><td>3.064388919408614e-42</td><td>0.0</td><td>0.00012192591171959283</td><td>0.0028448940191847525</td><td>8.754336407056734e-5</td><td>0.0</td><td>0.044498164798964075</td><td>0.00014910775143976663</td><td>0.0</td><td>0.0062730740032405155</td><td>0.0</td><td>4.573211742164153e-6</td><td>0.003984731289917218</td><td>0.0</td><td>0.0</td><td>0.0</td><td>0.0</td><td>0.0010430127076793336</td><td>0.0</td><td>0.0</td><td>6.587998420877805e-5</td><td>0.0</td><td>0.0</td><td>0.0</td><td>0.005361382893127455</td><td>0.0</td><td>0.0007355158623978776</td><td>0.0008112884222575503</td><td>0.0</td><td>5.8160241596373914e-5</td><td>0.0</td><td>0.0</td><td>0.0003344268464441192</td><td>0.00553142754076147</td><td>0.0006128464480507761</td><td>0.0014175367508819355</td><td>0.0</td><td>0.0</td><td>0.0</td><td>0.0</td><td>0.0008470209740478379</td><td>0.004493430134649289</td><td>0.0023314149353175326</td><td>0.0</td><td>0.0</td><td>0.0</td></tr><tr><th>2</th><td>0.012185938992453698</td><td>0.007520346598927166</td><td>0.0</td><td>0.0</td><td>0.0</td><td>0.0</td><td>0.002790785545341013</td><td>0.000439382143195168</td><td>0.0</td><td>0.0</td><td>0.0</td><td>0.0</td><td>0.0</td><td>4.705423402757473e-39</td><td>1.2545409526519993e-7</td><td>0.010573547372347187</td><td>0.0</td><td>0.0</td><td>8.530843319542127e-27</td><td>0.0</td><td>0.0015000041049208408</td><td>0.0</td><td>0.0</td><td>0.0</td><td>0.0</td><td>0.0</td><td>0.00046473389681072724</td><td>0.0</td><td>0.0</td><td>1.1834661896183532e-33</td><td>0.0</td><td>0.00911536167853829</td><td>1.063352318605058e-44</td><td>0.002258826631600358</td><td>0.0</td><td>0.00039758467685113924</td><td>0.0020938145798602256</td><td>1.2654353806380195e-147</td><td>0.0</td><td>0.0011614075145673446</td><td>0.0</td><td>1.5617438169482512e-77</td><td>4.2474198281799115e-5</td><td>0.0</td><td>3.425544054559048e-5</td><td>0.0</td><td>6.867498516563607e-39</td><td>0.0026496856867044482</td><td>0.0</td><td>0.0</td><td>6.157052518337497e-17</td><td>0.0</td><td>4.154087665370867e-30</td><td>0.0</td><td>8.69547615838423e-24</td><td>0.0</td><td>8.984054254422174e-28</td><td>4.607879997896263e-5</td><td>0.0</td><td>3.905345380474349e-20</td></tr><tr><th>3</th><td>0.0</td><td>0.0</td><td>4.020239757033454e-24</td><td>0.0</td><td>0.0</td><td>7.1523067998953e-5</td><td>0.0</td><td>0.0005110360732394288</td><td>0.0</td><td>0.0</td><td>3.024365460555043e-6</td><td>0.0</td><td>3.1404478241281815e-5</td><td>0.0</td><td>0.0</td><td>0.0003074021603834905</td><td>0.0</td><td>0.0</td><td>0.0</td><td>0.0</td><td>6.289792525958274e-7</td><td>0.003557902637807497</td><td>0.0</td><td>0.0</td><td>1.2213750773923446e-14</td><td>0.025782587377123693</td><td>0.0</td><td>5.770156877870895e-6</td><td>6.53461782663682e-7</td><td>2.2871680716142906e-23</td><td>0.0</td><td>0.000104118694924968</td><td>2.236325870673125e-25</td><td>3.2812142603073855e-7</td><td>0.0</td><td>0.003517295057961414</td><td>0.0</td><td>1.3710349762929702e-142</td><td>1.7124600972339375e-30</td><td>0.0010301990333658104</td><td>0.0</td><td>3.1587700870857397e-16</td><td>0.006979161111813753</td><td>0.010136481932131538</td><td>0.0</td><td>0.0</td><td>0.0</td><td>0.0</td><td>0.002934064627641937</td><td>0.0</td><td>0.0</td><td>0.0003102983439209935</td><td>0.0</td><td>0.0</td><td>0.0</td><td>0.0</td><td>1.319297570782638e-5</td><td>0.0</td><td>0.0</td><td>0.0023441462028319865</td></tr><tr><th>4</th><td>0.0017747488671678486</td><td>0.0</td><td>3.8932615628673544e-26</td><td>0.0</td><td>0.0</td><td>0.0</td><td>0.0020622585463183594</td><td>0.0</td><td>0.0</td><td>0.0</td><td>0.0</td><td>6.886827065372384e-26</td><td>0.0</td><td>0.016605417395298003</td><td>0.0</td><td>0.005625564296704098</td><td>0.0007861195454822195</td><td>0.0</td><td>8.296795781269439e-19</td><td>0.0</td><td>0.004489961625987464</td><td>0.0</td><td>8.987477612678408e-5</td><td>0.0</td><td>4.544902190476385e-16</td><td>0.0</td><td>0.0</td><td>0.0017504705214968948</td><td>0.00022072143368432497</td><td>0.0</td><td>0.0</td><td>0.0</td><td>5.312240722715251e-31</td><td>0.0</td><td>0.0</td><td>0.0</td><td>0.0008721710688863963</td><td>0.0</td><td>0.0</td><td>0.0</td><td>0.042418985581581616</td><td>0.0</td><td>0.00029934319668378074</td><td>0.0</td><td>0.00012346971071342522</td><td>4.4390717534201144e-58</td><td>4.632406866563366e-29</td><td>0.0</td><td>0.0</td><td>0.00012421581861712244</td><td>1.984309035718981e-17</td><td>0.0</td><td>4.538956728803023e-22</td><td>0.0</td><td>0.0</td><td>0.0</td><td>2.904558844407672e-21</td><td>0.00024209566710284213</td><td>0.0037723766604976405</td><td>0.0</td></tr><tr><th>5</th><td>0.009788426324280628</td><td>0.0</td><td>2.3076090435205563e-9</td><td>0.0</td><td>0.0</td><td>0.0003145196539987476</td><td>0.012325762995579496</td><td>0.0</td><td>0.015500435540805345</td><td>0.0</td><td>2.672768750511227e-5</td><td>0.009603790613093237</td><td>0.0</td><td>0.0</td><td>0.0</td><td>0.01320465891791403</td><td>0.01038910379979191</td><td>0.017645209904107263</td><td>0.0</td><td>0.0008529141569550366</td><td>0.0</td><td>0.0066143481924247245</td><td>0.0</td><td>7.810202183096931e-13</td><td>0.05294513664114524</td><td>0.00011567592144047174</td><td>0.0</td><td>0.0</td><td>0.025747690785669696</td><td>0.0</td><td>0.06523723681043811</td><td>0.0</td><td>0.0</td><td>0.0</td><td>0.0</td><td>0.0</td><td>0.010207420264402169</td><td>3.0045663718339554e-5</td><td>0.0</td><td>0.0</td><td>0.022034786479435728</td><td>0.0</td><td>0.0</td><td>0.0</td><td>0.0039776570924686845</td><td>0.0017355855189742848</td><td>0.0</td><td>0.0</td><td>0.007821576465136837</td><td>0.0</td><td>0.0</td><td>2.1126924436052718e-13</td><td>0.0002901655326990168</td><td>0.0</td><td>0.0</td><td>0.0</td><td>0.0</td><td>0.0</td><td>0.0</td><td>0.0004784013468876284</td></tr><tr><th>6</th><td>0.0</td><td>0.0</td><td>2.182879405819539e-58</td><td>0.004946402200529859</td><td>0.0</td><td>0.0018532675317762446</td><td>0.0</td><td>0.0</td><td>9.249687767222297e-10</td><td>0.015323013470651174</td><td>6.471332095499124e-11</td><td>0.0</td><td>0.0</td><td>1.2063111448355473e-70</td><td>0.0</td><td>0.0</td><td>0.023992583847566976</td><td>0.0</td><td>0.0</td><td>0.0017559547072461318</td><td>0.018974438026860118</td><td>0.003405255013473325</td><td>0.0</td><td>4.5392163798588044e-26</td><td>8.8061286360795e-8</td><td>0.0</td><td>0.005000122596520707</td><td>0.013701370327684714</td><td>0.0</td><td>0.0</td><td>0.01222736299490559</td><td>0.0</td><td>1.0701099586687758e-6</td><td>0.0</td><td>0.006243652211012231</td><td>0.0</td><td>0.014574640251053648</td><td>4.874173178347575e-99</td><td>0.0</td><td>0.00629296355103089</td><td>0.0</td><td>0.0</td><td>0.006851009714986377</td><td>0.0</td><td>0.0029335416090089904</td><td>0.0</td><td>0.0</td><td>0.0</td><td>0.023134162111670985</td><td>0.0</td><td>5.641185407919584e-9</td><td>0.0</td><td>0.0</td><td>0.0</td><td>0.0</td><td>0.01176445478145046</td><td>7.071123609227314e-9</td><td>0.0011216584882642237</td><td>0.0</td><td>7.378274962461545e-7</td></tr><tr><th>7</th><td>0.0</td><td>0.0027797025816920146</td><td>3.3979398156249452e-12</td><td>0.0</td><td>0.0</td><td>8.814023086303373e-5</td><td>0.01852826979120223</td><td>0.0001598856456812938</td><td>0.0</td><td>0.0</td><td>6.459061909324168e-43</td><td>0.0</td><td>0.0</td><td>8.947071998935866e-75</td><td>0.0</td><td>0.0</td><td>0.0</td><td>0.0</td><td>7.936404288729375e-27</td><td>0.0</td><td>0.0</td><td>0.0</td><td>0.0013250059654989562</td><td>2.6718651633135695e-64</td><td>0.0</td><td>0.004825048812851818</td><td>0.0</td><td>0.0</td><td>0.0</td><td>0.0009158804433650519</td><td>0.014413955959510318</td><td>0.03120793178866664</td><td>0.0</td><td>0.012221924550864658</td><td>0.0</td><td>0.0</td><td>0.0</td><td>0.0</td><td>0.0</td><td>0.000677146875989436</td><td>0.0</td><td>0.0</td><td>0.00021949919765095103</td><td>0.01576477672512033</td><td>0.0</td><td>1.4231777811334748e-35</td><td>1.3217539247370314e-15</td><td>0.008299741517839843</td><td>0.0</td><td>0.0</td><td>0.0</td><td>3.899171473008588e-50</td><td>4.881385673693359e-37</td><td>2.044953017265063e-34</td><td>3.2883968231742943e-38</td><td>0.010546262714803481</td><td>0.0</td><td>8.312479537985108e-5</td><td>0.0</td><td>6.378597348496437e-28</td></tr><tr><th>8</th><td>0.021237213446824763</td><td>0.0</td><td>0.0</td><td>0.0015214434174566159</td><td>0.0</td><td>0.0</td><td>0.014378579634028995</td><td>0.0</td><td>7.1284457103681e-66</td><td>0.01807540057680555</td><td>4.921543795518432e-22</td><td>1.8136484282461668e-16</td><td>0.0</td><td>0.0</td><td>0.0</td><td>0.0030799000317495106</td><td>0.006007928859142657</td><td>0.0</td><td>1.1382048004529657e-13</td><td>0.00233658272601978</td><td>0.003935494046252248</td><td>0.0</td><td>0.0004950025341129744</td><td>0.0006650281454821298</td><td>7.34856003740948e-27</td><td>0.0</td><td>0.0</td><td>0.00479222771246516</td><td>0.0</td><td>0.0</td><td>0.011197387414021582</td><td>0.006392467820638125</td><td>4.761109215242714e-102</td><td>0.0</td><td>0.0</td><td>0.0</td><td>0.007219979673335546</td><td>0.0</td><td>2.45778942403467e-21</td><td>0.0006045983450701034</td><td>0.020469037441863437</td><td>0.0</td><td>0.00023439479345636972</td><td>0.0</td><td>0.0</td><td>0.0</td><td>2.3408454799743908e-33</td><td>0.0</td><td>0.007092526928807924</td><td>0.0</td><td>0.0</td><td>4.11377373247869e-10</td><td>0.0</td><td>1.2699217240398904e-23</td><td>0.0</td><td>0.0</td><td>0.0</td><td>0.00143552512104713</td><td>0.0</td><td>0.0</td></tr><tr><th>9</th><td>0.0</td><td>0.007195826832677521</td><td>1.9618794256116788e-22</td><td>0.003226132861064214</td><td>0.0</td><td>0.0</td><td>0.0</td><td>0.0003118287020611477</td><td>0.0</td><td>0.0339630800378309</td><td>0.0</td><td>8.511212034605835e-39</td><td>0.0</td><td>0.029001290883476288</td><td>2.5586945656458567e-29</td><td>0.0</td><td>0.01764212704006636</td><td>0.004491497445522094</td><td>0.0</td><td>0.0</td><td>0.009243577543616342</td><td>0.0</td><td>0.0014760643150309868</td><td>0.0</td><td>6.802802880433979e-6</td><td>0.0</td><td>0.0</td><td>0.0</td><td>0.0</td><td>0.0</td><td>0.06716062677751973</td><td>0.015893208143138646</td><td>0.0</td><td>0.0</td><td>0.0</td><td>0.0</td><td>0.000616169997021767</td><td>1.2126143733393911e-74</td><td>0.0</td><td>0.0</td><td>0.054973932294184076</td><td>0.0</td><td>0.0</td><td>0.0</td><td>0.0</td><td>2.3883638756848187e-53</td><td>0.0</td><td>0.001610222150823828</td><td>0.0</td><td>0.0008031122882017705</td><td>6.5421801775161704e-52</td><td>0.0</td><td>0.0</td><td>0.0</td><td>1.0456763609141535e-18</td><td>0.0</td><td>0.0</td><td>0.00048041399877252075</td><td>0.0</td><td>3.4261832108056713e-40</td></tr><tr><th>10</th><td>0.0007357356967699866</td><td>0.0</td><td>0.0</td><td>0.0005703687767974772</td><td>0.0</td><td>8.611848964174645e-6</td><td>0.002694151267232488</td><td>6.769001887003399e-6</td><td>5.754035278129778e-49</td><td>0.0030869141421982996</td><td>0.0</td><td>5.611663497219378e-49</td><td>2.8482500190617526e-27</td><td>0.0</td><td>0.0</td><td>0.0013524287578476663</td><td>0.000652978747484903</td><td>0.001265074885469236</td><td>0.0</td><td>0.0</td><td>0.0029036833203755236</td><td>9.442109112482463e-5</td><td>0.0</td><td>0.0</td><td>8.216481952841038e-5</td><td>0.0017741147072722662</td><td>3.205783333790314e-5</td><td>0.0</td><td>0.0</td><td>2.4671910525406004e-42</td><td>0.0694796984582975</td><td>0.0034047367537242664</td><td>0.0</td><td>3.614442224176738e-5</td><td>0.0</td><td>4.109265413636677e-5</td><td>7.096420012284045e-5</td><td>0.0</td><td>0.0</td><td>0.0</td><td>0.001924383926429539</td><td>0.0</td><td>8.918559383454957e-6</td><td>0.0</td><td>0.0</td><td>1.0114729707463713e-65</td><td>0.0</td><td>2.6310247696736657e-5</td><td>0.0</td><td>0.0</td><td>0.0</td><td>0.0</td><td>0.0</td><td>2.0115125766097873e-56</td><td>0.0</td><td>0.00020714274701155795</td><td>6.077641004401616e-6</td><td>4.908573499800462e-5</td><td>0.0</td><td>1.1012975263377428e-51</td></tr><tr><th>11</th><td>0.0</td><td>0.0</td><td>4.755182558599087e-38</td><td>0.0</td><td>0.0</td><td>0.015167320661544078</td><td>0.0</td><td>0.006241779303097515</td><td>0.0</td><td>0.0</td><td>0.0</td><td>0.0</td><td>0.0</td><td>1.3675593812257677e-14</td><td>0.0</td><td>0.4594250090832404</td><td>0.073707241521459</td><td>0.019563971604433492</td><td>0.0</td><td>0.031651411875995974</td><td>0.0</td><td>0.0</td><td>0.0</td><td>9.443869951194534e-9</td><td>0.0</td><td>0.0</td><td>0.0</td><td>0.0</td><td>0.0617453394016651</td><td>0.0</td><td>0.04897052172053521</td><td>0.0</td><td>6.126319672157516e-5</td><td>0.016601904365449154</td><td>0.0</td><td>0.0</td><td>0.0</td><td>1.1118216498416854e-62</td><td>5.116429813514793e-7</td><td>0.0</td><td>0.0</td><td>0.0</td><td>0.0061085012506005175</td><td>0.05102226352965699</td><td>0.008128979997998139</td><td>7.383448131240064e-9</td><td>6.506337651988628e-8</td><td>0.0</td><td>0.0</td><td>0.0</td><td>0.0</td><td>1.3606063799524002e-35</td><td>0.0</td><td>0.0</td><td>7.908738340088591e-11</td><td>0.0</td><td>0.0</td><td>0.0</td><td>0.0</td><td>0.0</td></tr><tr><th>12</th><td>0.007317548214938165</td><td>0.0</td><td>5.1466475220660164e-14</td><td>0.0</td><td>1.056491322434247e-11</td><td>0.0012675495445763794</td><td>0.010900020477695773</td><td>0.0011216991601560233</td><td>0.0</td><td>0.0</td><td>2.3219549328631168e-7</td><td>4.402186342223603e-24</td><td>0.0</td><td>1.2387837142152423e-35</td><td>0.0</td><td>0.009948082162509775</td><td>0.01808297249927333</td><td>0.026739990501505904</td><td>1.4864041950911461e-5</td><td>0.0010970353686077176</td><td>0.029932796127079758</td><td>0.0011255985143511337</td><td>0.03334796283189776</td><td>0.0</td><td>0.0</td><td>0.0</td><td>0.0020816374445337617</td><td>0.025022674208482136</td><td>0.0</td><td>0.018021933180435767</td><td>0.06741027210339576</td><td>0.0</td><td>0.0001165665598788776</td><td>0.009903451005911697</td><td>0.020746994377218442</td><td>0.0</td><td>0.0</td><td>3.615937737371287e-29</td><td>0.0</td><td>0.0065015870602484135</td><td>0.03518563567027733</td><td>0.0</td><td>0.002555376818636787</td><td>0.0</td><td>0.004548557330944188</td><td>1.1888107777183815e-5</td><td>0.004808099398195864</td><td>0.0034196725845630984</td><td>0.0</td><td>0.0</td><td>0.00016845239754190408</td><td>1.3191703573514609e-15</td><td>0.0</td><td>9.586527270660217e-7</td><td>0.0</td><td>0.0</td><td>0.0039391087792432986</td><td>0.0003704605406269919</td><td>0.0016036718549729924</td><td>0.0</td></tr><tr><th>13</th><td>0.0</td><td>0.0</td><td>1.5867736056820864e-245</td><td>0.0</td><td>3.6869401910794603e-88</td><td>0.0</td><td>0.0</td><td>0.0</td><td>0.0</td><td>0.0</td><td>9.859288274766614e-34</td><td>0.0</td><td>2.58531310451153e-45</td><td>1.7223123273641381e-102</td><td>4.15348698230008e-74</td><td>0.011972491594494714</td><td>0.010413692739582701</td><td>0.0</td><td>7.716633057753672e-35</td><td>0.0</td><td>0.0</td><td>0.0</td><td>0.0</td><td>0.0</td><td>0.0</td><td>0.004400921924033694</td><td>0.0</td><td>0.0</td><td>0.0020525198187129117</td><td>0.0</td><td>0.0</td><td>0.0</td><td>0.0</td><td>0.0010410289655367125</td><td>0.0010442575370897952</td><td>0.0010862241653857773</td><td>0.0</td><td>2.437700532133408e-153</td><td>1.1387262873557054e-71</td><td>0.0006223174425100537</td><td>0.0</td><td>0.0</td><td>0.0</td><td>0.006568254456391556</td><td>0.0002638208408731651</td><td>1.0855153386662732e-46</td><td>2.2566143601016862e-35</td><td>0.001990016384942764</td><td>0.012652397502875397</td><td>0.00032278353216318607</td><td>0.0</td><td>0.0</td><td>0.0</td><td>0.0</td><td>0.0</td><td>0.0</td><td>1.0220049067290253e-43</td><td>0.00020985971794915495</td><td>0.0018277288388432564</td><td>1.5835446017854633e-151</td></tr><tr><th>14</th><td>0.00020448001039201968</td><td>4.5738495342258925e-5</td><td>5.396701624857244e-202</td><td>0.0</td><td>9.049908825629075e-39</td><td>0.0</td><td>0.0</td><td>0.0</td><td>0.0011465531009226919</td><td>0.0</td><td>0.0</td><td>5.526574547439375e-50</td><td>0.0003358338018744915</td><td>6.82448832617364e-107</td><td>2.9445363723902807e-16</td><td>0.0002918286493552109</td><td>0.0</td><td>0.0</td><td>0.0</td><td>0.0</td><td>0.021102557792350856</td><td>0.0014200860283271133</td><td>0.0</td><td>0.0</td><td>0.0017406197197675488</td><td>0.0</td><td>0.0</td><td>0.0</td><td>0.0</td><td>1.9440763935540164e-21</td><td>0.0</td><td>0.0014790933686445234</td><td>0.0006032226131648641</td><td>0.00674023664776326</td><td>0.00010008438960694786</td><td>0.006102602638226535</td><td>0.007377091799096529</td><td>0.0</td><td>0.0020067212144709488</td><td>0.0</td><td>0.0</td><td>0.0</td><td>0.0018996058650374383</td><td>0.00017307346237853958</td><td>0.0030326458696177555</td><td>0.00029683400816695615</td><td>0.0</td><td>0.009676619133236877</td><td>0.0</td><td>0.00224051840908537</td><td>0.0005530535495019131</td><td>0.0</td><td>1.0186329072166427e-5</td><td>0.0</td><td>0.0010088287388380765</td><td>0.0</td><td>0.0</td><td>0.0</td><td>0.0</td><td>0.0</td></tr><tr><th>15</th><td>0.0025642885418608657</td><td>0.0</td><td>2.1516473706676736e-13</td><td>0.0</td><td>0.0</td><td>4.3318669174034834e-6</td><td>0.0</td><td>0.0</td><td>1.3846451876700926e-49</td><td>0.01507778378870331</td><td>0.0</td><td>0.0</td><td>0.0</td><td>4.9336242874416535e-115</td><td>0.0</td><td>0.006278215077829249</td><td>0.0</td><td>0.014014484127909562</td><td>6.974972464493002e-12</td><td>1.2904100663128434e-5</td><td>0.0</td><td>0.0</td><td>0.0</td><td>3.709317767809059e-69</td><td>0.0</td><td>0.004367587208308595</td><td>2.692255178236415e-5</td><td>0.00040558476963509595</td><td>0.0002830868847224222</td><td>0.0</td><td>0.0</td><td>0.013850207428515369</td><td>0.0</td><td>0.0</td><td>0.0</td><td>3.4745349249668655e-5</td><td>0.00013066264872753282</td><td>9.299739147653046e-87</td><td>1.1796969911036216e-42</td><td>3.516546421461397e-5</td><td>0.009007179346666817</td><td>0.0</td><td>0.0</td><td>0.07700319089097224</td><td>0.0</td><td>0.0</td><td>7.377472189822059e-42</td><td>0.00017194213646203654</td><td>0.0019590798985627445</td><td>0.0</td><td>0.0</td><td>0.0</td><td>1.7983032989673563e-31</td><td>2.2182911137674775e-49</td><td>0.0</td><td>0.00042052686354972023</td><td>0.004735423989359686</td><td>0.0</td><td>0.0</td><td>6.070325777653096e-43</td></tr><tr><th>16</th><td>0.0</td><td>0.0</td><td>3.326445244708997e-7</td><td>0.0</td><td>0.0</td><td>0.001698612962552999</td><td>0.08602705766232134</td><td>0.0019358963601878302</td><td>0.0</td><td>0.0</td><td>0.0</td><td>0.0</td><td>1.4378741176195567e-9</td><td>1.5886997392405432e-46</td><td>1.0299698426346623e-23</td><td>0.0</td><td>0.035638581977764726</td><td>0.029559693242024364</td><td>3.103435554370457e-8</td><td>0.0</td><td>0.07114071030794406</td><td>0.0033282950623084178</td><td>0.05259842616429157</td><td>1.4155089046675734e-41</td><td>0.0</td><td>0.041058879753156925</td><td>0.0030178319106999585</td><td>0.039952931610215764</td><td>0.019816436236358207</td><td>0.0</td><td>0.38402553206854895</td><td>0.0</td><td>0.0</td><td>0.010614590060815195</td><td>0.0</td><td>0.0</td><td>0.0</td><td>1.4322570789182196e-41</td><td>0.0</td><td>0.0032620622475391273</td><td>0.13645889671343678</td><td>0.0</td><td>0.0012380596570973753</td><td>0.0</td><td>0.0014610952866001593</td><td>0.0</td><td>7.747145453894382e-7</td><td>0.0</td><td>0.0</td><td>0.00811512344784986</td><td>0.0</td><td>0.0</td><td>0.0</td><td>2.5772014816756534e-17</td><td>4.480064258557233e-8</td><td>0.016846681122917644</td><td>0.0007530154987909008</td><td>0.0</td><td>0.0</td><td>0.0</td></tr><tr><th>17</th><td>0.003740043392096441</td><td>0.000805921819544553</td><td>2.0217667578545755e-22</td><td>0.0</td><td>2.2556416910763044e-28</td><td>0.0</td><td>0.0</td><td>0.02565136166797551</td><td>0.0015538182822610591</td><td>0.0</td><td>1.2461326501067271e-5</td><td>0.0</td><td>0.00017583212639216784</td><td>0.0</td><td>0.0</td><td>0.0</td><td>0.0</td><td>0.1403126858137423</td><td>0.004340957135213471</td><td>0.0</td><td>0.0</td><td>0.007610330858769425</td><td>0.0</td><td>0.0</td><td>0.12057794943670563</td><td>0.0</td><td>0.015252288615509337</td><td>0.0</td><td>0.0</td><td>8.475278553244229e-26</td><td>0.0</td><td>0.0</td><td>0.004428506627809487</td><td>0.0</td><td>0.00034775797119550387</td><td>0.03866394600362718</td><td>0.0</td><td>0.0</td><td>0.0077661336078525</td><td>0.0</td><td>0.01486867187693328</td><td>0.0</td><td>0.007548180893225958</td><td>0.0109055882456665</td><td>0.01931968731195314</td><td>0.0</td><td>0.0028663637730370023</td><td>0.0</td><td>0.0</td><td>0.0</td><td>0.0</td><td>7.653015771609385e-32</td><td>1.4174784644369366e-5</td><td>1.6297393372852333e-7</td><td>0.007714320784341508</td><td>0.07017892762476773</td><td>0.0</td><td>2.5024082016117106e-5</td><td>0.0</td><td>0.0</td></tr><tr><th>18</th><td>0.006128901968958203</td><td>0.0</td><td>0.0</td><td>0.0006450348871431239</td><td>0.0</td><td>0.00034416402489482616</td><td>0.0015761428386193352</td><td>0.00012177975293976192</td><td>3.4705655818998465e-27</td><td>0.013046833524917444</td><td>0.0</td><td>0.0</td><td>0.0</td><td>1.3955798744951263e-122</td><td>0.0</td><td>0.0</td><td>0.0</td><td>0.0</td><td>2.6452203048820354e-20</td><td>0.00011034602795613112</td><td>0.0</td><td>0.0</td><td>0.00012570737874285272</td><td>0.0</td><td>1.0350511050917589e-21</td><td>0.0</td><td>0.0014859080764787554</td><td>0.0</td><td>0.0</td><td>0.0</td><td>0.008931258758172498</td><td>0.009213784239552469</td><td>0.0</td><td>0.003723841476369287</td><td>0.002066359253264251</td><td>0.0</td><td>0.0018745232465550792</td><td>0.0</td><td>0.0</td><td>0.0</td><td>0.0</td><td>0.0</td><td>0.0</td><td>0.0</td><td>0.0</td><td>8.875151280115714e-32</td><td>0.0</td><td>0.0</td><td>0.01478589069634323</td><td>0.0004716788860123495</td><td>1.98156573848303e-42</td><td>1.0344531372905702e-46</td><td>0.0</td><td>4.834512802431814e-243</td><td>6.532118069714816e-25</td><td>0.0006154626062827168</td><td>0.0</td><td>0.0002580246683664941</td><td>0.0</td><td>0.0</td></tr><tr><th>19</th><td>0.0</td><td>9.999879011043507e-5</td><td>0.0</td><td>0.0</td><td>1.3387767496799246e-17</td><td>5.401768180852536e-8</td><td>0.0</td><td>0.0</td><td>0.0</td><td>0.0</td><td>0.0</td><td>3.813823054766971e-80</td><td>3.113090761803714e-44</td><td>0.0</td><td>0.0</td><td>0.0</td><td>0.0</td><td>0.0</td><td>5.731756748233698e-44</td><td>0.0</td><td>0.0</td><td>1.7426188793383248e-7</td><td>0.0</td><td>2.2465114756188864e-7</td><td>7.100823033319127e-21</td><td>0.006776182190348608</td><td>6.631501352065248e-5</td><td>4.909052136483631e-5</td><td>3.356624349817002e-5</td><td>1.2841517090261625e-189</td><td>0.003069198943679849</td><td>0.0012534694438281848</td><td>0.0</td><td>0.0</td><td>0.0</td><td>1.281634733714912e-7</td><td>3.2651408850778638e-6</td><td>0.0</td><td>0.0</td><td>0.0</td><td>0.0</td><td>5.212514753365408e-98</td><td>0.0</td><td>0.0</td><td>7.36453849875381e-8</td><td>0.0</td><td>1.4480971666050266e-51</td><td>4.3481146644556315e-6</td><td>0.0017162602382532791</td><td>2.053078817049253e-7</td><td>0.0</td><td>0.0</td><td>0.0</td><td>0.03534777251759535</td><td>9.542602598514165e-51</td><td>0.0695304878007944</td><td>2.340224396644117e-53</td><td>0.0</td><td>5.647992533286518e-5</td><td>1.2872240434616918e-74</td></tr><tr><th>20</th><td>0.0011113183401486463</td><td>0.0002771859152732582</td><td>5.9466628776308925e-8</td><td>0.0</td><td>0.0</td><td>3.96170750416727e-5</td><td>0.0</td><td>0.0</td><td>2.85598042491174e-89</td><td>0.0</td><td>0.0</td><td>2.6103588304353928e-58</td><td>0.0</td><td>0.0</td><td>4.357860848695559e-99</td><td>0.0</td><td>0.0</td><td>0.0013440569059703406</td><td>0.0</td><td>4.824494840284024e-5</td><td>0.0</td><td>0.0001560057956419797</td><td>0.0</td><td>0.0</td><td>0.0001138654719976487</td><td>0.0</td><td>0.0</td><td>0.0</td><td>0.0</td><td>0.0</td><td>0.07087176312730054</td><td>0.0</td><td>8.076139769535077e-182</td><td>0.0</td><td>0.0005686878172288234</td><td>0.00013444466213653774</td><td>0.0005208108333694408</td><td>0.0</td><td>0.0</td><td>0.0</td><td>0.004125619421568015</td><td>0.0</td><td>0.0</td><td>0.013171511143340876</td><td>5.2891853706849495e-5</td><td>0.0</td><td>5.181365801927377e-58</td><td>0.0001497464224823804</td><td>0.0</td><td>0.0</td><td>0.0</td><td>3.1789147699368665e-20</td><td>2.6549337064418825e-30</td><td>0.0</td><td>0.0</td><td>0.0008388065403325034</td><td>0.0</td><td>0.00020442173269929234</td><td>0.0</td><td>0.0</td></tr><tr><th>21</th><td>0.0</td><td>0.0043411429411399725</td><td>0.0</td><td>0.0</td><td>0.0</td><td>0.0</td><td>0.0</td><td>0.0</td><td>0.0037785557494503736</td><td>0.0</td><td>0.0022339167882805826</td><td>0.0</td><td>0.0038819307605836104</td><td>0.0</td><td>0.0</td><td>0.005615281092322995</td><td>0.01831194749581813</td><td>0.0</td><td>0.0</td><td>0.017482901816443432</td><td>0.0</td><td>0.01960388889798585</td><td>0.0</td><td>3.2078427663772057e-6</td><td>0.04178540349677842</td><td>0.0</td><td>0.01810479217498156</td><td>0.012523031615648078</td><td>0.0</td><td>3.971160363734896e-5</td><td>0.09225329216513611</td><td>0.018345964535228073</td><td>9.642559645407678e-10</td><td>0.0</td><td>0.0072809048645048335</td><td>0.0</td><td>0.027328305889904966</td><td>0.0</td><td>0.0</td><td>0.013596891062667513</td><td>0.0</td><td>1.1137144616173448e-11</td><td>0.014712740385705796</td><td>0.040701570523875324</td><td>0.011714579152727712</td><td>0.009848815348305577</td><td>0.0</td><td>0.0</td><td>0.016349639818273313</td><td>0.01852397676232506</td><td>0.0038451422449202726</td><td>8.767590593510485e-6</td><td>0.008580592415350833</td><td>0.0023592660065639088</td><td>0.0</td><td>0.018627867597028263</td><td>0.0</td><td>0.005384187937200843</td><td>0.0</td><td>0.0</td></tr><tr><th>22</th><td>0.0033494764991255275</td><td>0.0</td><td>3.091985831895584e-211</td><td>0.00016152703804431985</td><td>0.0</td><td>0.0</td><td>0.007061998245933606</td><td>2.6990822793649762e-5</td><td>0.0</td><td>0.0</td><td>0.0</td><td>1.1661028267322304e-72</td><td>9.745864842728471e-35</td><td>0.0</td><td>0.0</td><td>0.0</td><td>0.009721132407614788</td><td>0.0009387434041914005</td><td>0.0</td><td>0.0</td><td>0.0</td><td>0.00016491654210175962</td><td>0.0</td><td>8.13478270346616e-101</td><td>0.0</td><td>0.0014831528840422398</td><td>0.000679888158008183</td><td>0.0022975920143173353</td><td>0.0</td><td>4.8170259282885495e-26</td><td>0.0055392408350458415</td><td>0.0</td><td>0.0</td><td>0.0029142444737123617</td><td>0.0015536588271295938</td><td>0.0</td><td>0.0</td><td>0.0</td><td>2.0061016326391844e-39</td><td>0.00030072586184595106</td><td>0.0</td><td>2.213635524959732e-221</td><td>0.00016792022555027597</td><td>0.0</td><td>0.0</td><td>4.476887046261101e-22</td><td>1.2159008620676597e-23</td><td>0.0015898380002585348</td><td>0.014137248639927035</td><td>0.0</td><td>0.0</td><td>0.0</td><td>0.0</td><td>3.8423830274129606e-32</td><td>0.0</td><td>0.00336889270674119</td><td>0.0</td><td>0.0</td><td>0.004653643515198681</td><td>7.577160936135913e-97</td></tr><tr><th>23</th><td>0.0</td><td>0.0</td><td>0.0</td><td>0.0008036708840998846</td><td>9.969101655612104e-39</td><td>1.3962465423649773e-5</td><td>0.0</td><td>0.0</td><td>0.0</td><td>0.025072310831262677</td><td>3.294619584434729e-35</td><td>0.0</td><td>8.693760490376928e-28</td><td>0.0</td><td>3.513328146208825e-100</td><td>0.0</td><td>0.0</td><td>0.0</td><td>4.419475210915718e-14</td><td>0.0</td><td>0.008321145183860906</td><td>0.0</td><td>0.006286823599831681</td><td>0.0</td><td>0.04334861082534865</td><td>0.0</td><td>6.126607654731565e-5</td><td>0.0</td><td>7.025995274949137e-5</td><td>0.0</td><td>0.0</td><td>0.0</td><td>1.6867395932254108e-194</td><td>0.0</td><td>0.0007138517536376544</td><td>2.6573742601421058e-5</td><td>1.16398071471101e-5</td><td>5.9274567467731665e-86</td><td>1.0856777521757893e-74</td><td>0.0</td><td>0.0</td><td>0.0</td><td>3.4293442630432786e-5</td><td>0.0</td><td>2.1020356704897426e-5</td><td>0.0</td><td>9.194369818032449e-39</td><td>7.391180940215377e-5</td><td>0.009462914251435434</td><td>0.001128238736213415</td><td>0.0</td><td>2.7246927090680344e-17</td><td>4.556522952597801e-34</td><td>2.9329052980517483e-48</td><td>0.0</td><td>5.138426265404471e-5</td><td>2.287639051189262e-6</td><td>0.0010744980304578846</td><td>0.0</td><td>0.0</td></tr><tr><th>24</th><td>0.005543202348142878</td><td>0.0011912909075833707</td><td>0.0</td><td>0.0</td><td>0.0</td><td>0.0</td><td>0.0</td><td>7.982727941271713e-5</td><td>0.0</td><td>0.0069895841175551445</td><td>2.6834964907715243e-81</td><td>1.9650867966762763e-78</td><td>0.0</td><td>0.0</td><td>0.0</td><td>0.0</td><td>0.0</td><td>0.0</td><td>0.0</td><td>0.0</td><td>0.0018996666563107845</td><td>0.0</td><td>0.0</td><td>1.6412357556423329e-59</td><td>7.989947582074964e-51</td><td>0.0030026210422142907</td><td>0.0003328748951067842</td><td>0.0008171074845492699</td><td>0.00162607992225384</td><td>0.0</td><td>0.0</td><td>0.0</td><td>2.591426453275734e-16</td><td>0.0003773616265390149</td><td>0.0007193086290094254</td><td>0.00014526106449176774</td><td>0.0</td><td>8.625009863369085e-78</td><td>1.290148416898703e-57</td><td>0.00023009971699472818</td><td>0.021319727898060494</td><td>0.0</td><td>0.0</td><td>0.003468091018408626</td><td>0.0</td><td>4.30006874186567e-62</td><td>1.3250540808863525e-150</td><td>0.0013044555178883842</td><td>0.0028478388608307536</td><td>4.354390140083496e-5</td><td>1.553540073914648e-61</td><td>3.126868740215103e-42</td><td>1.3491871959270767e-45</td><td>7.88363508890628e-111</td><td>0.0</td><td>0.0009952744282472224</td><td>4.4399207801333105e-24</td><td>0.0002710444599884169</td><td>0.0007565231630615187</td><td>0.0</td></tr><tr><th>25</th><td>5.4148679033299455e-5</td><td>0.0</td><td>5.744732633480829e-11</td><td>0.006267154921855436</td><td>0.0</td><td>0.0009724119704027279</td><td>0.0</td><td>0.0</td><td>0.0</td><td>0.0</td><td>3.6571747144796755e-5</td><td>5.023875853958544e-31</td><td>0.00022653212014505457</td><td>0.0</td><td>1.3655453212555112e-70</td><td>7.235316347380485e-5</td><td>0.0</td><td>0.0</td><td>0.0030764370081334843</td><td>0.00023767290683354003</td><td>0.0</td><td>0.0</td><td>0.0</td><td>0.0</td><td>0.0</td><td>0.0</td><td>0.0003077937800088454</td><td>0.0</td><td>0.0090894338041155</td><td>2.5500939962275076e-44</td><td>0.05696740092057232</td><td>0.0</td><td>0.0</td><td>0.010482800275478559</td><td>1.635060814075337e-6</td><td>0.0028079901853574865</td><td>0.0</td><td>1.2599965551538377e-93</td><td>0.005274100161282836</td><td>0.0</td><td>0.0</td><td>0.0</td><td>0.0</td><td>0.00012298389599603413</td><td>0.0005895007621655457</td><td>0.0</td><td>0.0</td><td>0.0</td><td>0.0</td><td>0.01056086028920833</td><td>0.006137298375498428</td><td>1.8769347350970286e-27</td><td>7.30161789780687e-6</td><td>2.716650943744761e-8</td><td>0.0</td><td>0.0</td><td>0.0</td><td>2.733228288939811e-7</td><td>2.019683250496061e-6</td><td>0.0</td></tr><tr><th>26</th><td>0.009822474577002568</td><td>0.0</td><td>0.0</td><td>0.0010682184319053788</td><td>1.8772083220845714e-39</td><td>1.2022744652003125e-5</td><td>0.0</td><td>2.479016422982124e-5</td><td>4.26318922084248e-29</td><td>0.011518498373518518</td><td>3.4950589176145315e-29</td><td>1.5454005129711574e-27</td><td>1.4426486165703242e-24</td><td>0.0</td><td>2.632661224737485e-53</td><td>0.0</td><td>0.0</td><td>0.0</td><td>0.0</td><td>7.925466446176761e-5</td><td>0.014359663772482755</td><td>0.0</td><td>0.0</td><td>0.0</td><td>0.02205763460915143</td><td>0.007330178289864419</td><td>6.295150620959165e-5</td><td>0.0011730898029384124</td><td>0.0005759464703104949</td><td>0.0</td><td>0.0</td><td>0.0</td><td>3.435817915048784e-39</td><td>0.0</td><td>0.0</td><td>0.0</td><td>0.0</td><td>3.421113673581968e-88</td><td>1.8627892599548077e-25</td><td>3.719560270454346e-5</td><td>0.0</td><td>0.0</td><td>0.0</td><td>0.0</td><td>9.990012047097616e-6</td><td>0.0</td><td>0.0</td><td>0.0</td><td>0.0</td><td>0.0006758366883510173</td><td>0.0</td><td>2.754086052445391e-19</td><td>1.1893808678716802e-23</td><td>1.5706207204688035e-34</td><td>0.0</td><td>0.0001835648390699165</td><td>0.0</td><td>9.044793289171919e-5</td><td>0.0</td><td>0.0</td></tr><tr><th>27</th><td>0.0</td><td>0.0030634467453725255</td><td>0.0</td><td>0.0</td><td>0.0</td><td>0.00011679446715709462</td><td>0.0046827692863939474</td><td>0.0</td><td>0.0</td><td>0.006612636668379505</td><td>1.4101562387432536e-22</td><td>1.2902979571834794e-23</td><td>0.0</td><td>4.526626402276788e-65</td><td>0.0</td><td>0.0</td><td>0.004670207940096816</td><td>0.0</td><td>0.0</td><td>0.0</td><td>0.0</td><td>0.0010392291809260864</td><td>0.0</td><td>0.0</td><td>0.0049905868941783815</td><td>0.0</td><td>0.00010647320605732357</td><td>0.0005345096185089994</td><td>0.00030437087892313587</td><td>0.0</td><td>0.13838489779866905</td><td>0.0</td><td>0.0</td><td>0.0</td><td>0.0005194480496240514</td><td>0.0</td><td>0.00019954474523792027</td><td>0.0</td><td>2.4959314582831454e-12</td><td>0.00017001633465365997</td><td>0.019120139577244313</td><td>4.2229540097745605e-150</td><td>0.00018549589044903383</td><td>0.0</td><td>0.0</td><td>0.0</td><td>1.3171645519643673e-27</td><td>0.00030491313859496875</td><td>0.008183233467567459</td><td>0.0</td><td>0.0</td><td>0.0</td><td>2.7220211950370956e-10</td><td>2.3460300555592948e-51</td><td>0.0</td><td>0.000500089652263692</td><td>0.0009820625080552215</td><td>0.0</td><td>0.0</td><td>0.0</td></tr><tr><th>28</th><td>0.0</td><td>0.0</td><td>2.0804057785554173e-6</td><td>0.0</td><td>0.0</td><td>0.0</td><td>0.012416707291186326</td><td>8.541317590119994e-5</td><td>0.0</td><td>0.0</td><td>3.2913940589835106e-32</td><td>0.0</td><td>1.1531140873552832e-32</td><td>0.0</td><td>0.0</td><td>0.0</td><td>0.0</td><td>0.0</td><td>0.0</td><td>0.0001895446569235564</td><td>0.021385456347469425</td><td>0.0</td><td>0.005743515587241383</td><td>0.0</td><td>0.00033486731432358455</td><td>0.010840306607096237</td><td>0.0006270018028848727</td><td>0.0</td><td>0.0</td><td>0.0</td><td>0.13549339066608582</td><td>0.0</td><td>0.0</td><td>0.0</td><td>0.011096993534511487</td><td>0.0</td><td>0.001517060704226543</td><td>1.4329157451676534e-42</td><td>3.2144791787248893e-21</td><td>0.0002684783631112476</td><td>0.0</td><td>0.0</td><td>0.0001582628026118549</td><td>0.025716485510987028</td><td>0.0</td><td>5.9011696012034735e-40</td><td>0.0</td><td>0.002176654930883733</td><td>0.011659052609753575</td><td>0.0</td><td>3.1812555660326e-29</td><td>0.0</td><td>6.66478206051896e-36</td><td>0.0</td><td>0.0</td><td>0.0</td><td>3.4984663182429066e-9</td><td>0.0</td><td>0.0</td><td>0.0</td></tr><tr><th>29</th><td>0.0</td><td>0.0</td><td>3.597061109780807e-10</td><td>0.0002706560867254789</td><td>0.0</td><td>1.248557649853732e-5</td><td>0.0020285208806818758</td><td>2.5454971544607745e-5</td><td>3.508885205283459e-51</td><td>0.005276319071732594</td><td>0.0</td><td>0.0</td><td>0.0</td><td>2.6108003745823184e-81</td><td>0.0</td><td>0.0023267487634893187</td><td>0.0</td><td>0.0</td><td>2.798222741072345e-12</td><td>0.0</td><td>0.0053836696516663205</td><td>4.7996397138800584e-5</td><td>0.0</td><td>5.097946362411215e-40</td><td>0.001797410864798552</td><td>0.0006675317847287073</td><td>0.0</td><td>0.0</td><td>0.0</td><td>0.0</td><td>0.06306199282784561</td><td>0.0</td><td>5.690789082818212e-26</td><td>0.0</td><td>7.34987119622455e-5</td><td>0.0</td><td>0.0</td><td>0.0</td><td>0.0</td><td>0.0</td><td>0.0</td><td>0.0</td><td>1.0364518816136793e-5</td><td>0.014734963433814401</td><td>0.0</td><td>3.6887894006629026e-63</td><td>1.8771426001677794e-86</td><td>0.0</td><td>0.0</td><td>0.0</td><td>0.0</td><td>1.0649066230037764e-21</td><td>0.0</td><td>3.876685866647511e-43</td><td>0.0</td><td>9.084175721235827e-5</td><td>5.828112161275778e-6</td><td>0.0</td><td>0.0</td><td>1.1183048751992571e-66</td></tr><tr><th>30</th><td>0.00028857571023048413</td><td>0.0</td><td>0.0</td><td>0.0</td><td>0.0</td><td>7.126389610408108e-6</td><td>0.0</td><td>9.344350092167608e-6</td><td>0.0</td><td>0.0063559688407160905</td><td>0.0</td><td>1.3136423793401037e-13</td><td>0.0</td><td>1.403253957901199e-66</td><td>6.548928332851371e-13</td><td>0.0</td><td>0.0</td><td>0.0</td><td>0.0</td><td>0.0</td><td>0.003347919104262181</td><td>0.0</td><td>0.0</td><td>2.218277832602591e-36</td><td>0.0</td><td>0.0070717387720037215</td><td>4.551554843203721e-6</td><td>0.0009392877012338778</td><td>0.0</td><td>8.936154728636963e-52</td><td>0.06448336432254301</td><td>0.0</td><td>5.199986259275717e-78</td><td>0.0007302665672747344</td><td>0.0</td><td>0.00019115871595739792</td><td>0.0</td><td>1.540700967784537e-81</td><td>0.0</td><td>0.00011052256420069953</td><td>0.0</td><td>4.917361001116743e-104</td><td>6.874214247196746e-5</td><td>0.0</td><td>1.0863485513950449e-5</td><td>7.091235968799541e-13</td><td>0.0</td><td>0.0005417537666494942</td><td>0.0</td><td>0.0</td><td>3.197292064603831e-14</td><td>0.0</td><td>7.234242811009404e-16</td><td>8.691175389869988e-20</td><td>5.529413980384877e-5</td><td>0.0005898383341196942</td><td>6.106425239367501e-5</td><td>2.1484891148713907e-5</td><td>0.0008224534771603322</td><td>3.6531555795533595e-11</td></tr><tr><th>&vellip;</th><td>&vellip;</td><td>&vellip;</td><td>&vellip;</td><td>&vellip;</td><td>&vellip;</td><td>&vellip;</td><td>&vellip;</td><td>&vellip;</td><td>&vellip;</td><td>&vellip;</td><td>&vellip;</td><td>&vellip;</td><td>&vellip;</td><td>&vellip;</td><td>&vellip;</td><td>&vellip;</td><td>&vellip;</td><td>&vellip;</td><td>&vellip;</td><td>&vellip;</td><td>&vellip;</td><td>&vellip;</td><td>&vellip;</td><td>&vellip;</td><td>&vellip;</td><td>&vellip;</td><td>&vellip;</td><td>&vellip;</td><td>&vellip;</td><td>&vellip;</td><td>&vellip;</td><td>&vellip;</td><td>&vellip;</td><td>&vellip;</td><td>&vellip;</td><td>&vellip;</td><td>&vellip;</td><td>&vellip;</td><td>&vellip;</td><td>&vellip;</td><td>&vellip;</td><td>&vellip;</td><td>&vellip;</td><td>&vellip;</td><td>&vellip;</td><td>&vellip;</td><td>&vellip;</td><td>&vellip;</td><td>&vellip;</td><td>&vellip;</td><td>&vellip;</td><td>&vellip;</td><td>&vellip;</td><td>&vellip;</td><td>&vellip;</td><td>&vellip;</td><td>&vellip;</td><td>&vellip;</td><td>&vellip;</td><td>&vellip;</td></tr></tbody></table>"
      ],
      "text/plain": [
       "10000×60 DataFrames.DataFrame\n",
       "│ Row   │ x1          │ x2          │ x3           │ x4          │ x5          │\n",
       "├───────┼─────────────┼─────────────┼──────────────┼─────────────┼─────────────┤\n",
       "│ 1     │ 0.000330843 │ 0.000235566 │ 2.04465e-10  │ 0.0         │ 0.0         │\n",
       "│ 2     │ 0.0121859   │ 0.00752035  │ 0.0          │ 0.0         │ 0.0         │\n",
       "│ 3     │ 0.0         │ 0.0         │ 4.02024e-24  │ 0.0         │ 0.0         │\n",
       "│ 4     │ 0.00177475  │ 0.0         │ 3.89326e-26  │ 0.0         │ 0.0         │\n",
       "│ 5     │ 0.00978843  │ 0.0         │ 2.30761e-9   │ 0.0         │ 0.0         │\n",
       "│ 6     │ 0.0         │ 0.0         │ 2.18288e-58  │ 0.0049464   │ 0.0         │\n",
       "│ 7     │ 0.0         │ 0.0027797   │ 3.39794e-12  │ 0.0         │ 0.0         │\n",
       "│ 8     │ 0.0212372   │ 0.0         │ 0.0          │ 0.00152144  │ 0.0         │\n",
       "│ 9     │ 0.0         │ 0.00719583  │ 1.96188e-22  │ 0.00322613  │ 0.0         │\n",
       "│ 10    │ 0.000735736 │ 0.0         │ 0.0          │ 0.000570369 │ 0.0         │\n",
       "│ 11    │ 0.0         │ 0.0         │ 4.75518e-38  │ 0.0         │ 0.0         │\n",
       "⋮\n",
       "│ 9989  │ 0.000453285 │ 0.00239167  │ 0.0          │ 0.0         │ 0.0         │\n",
       "│ 9990  │ 0.00842406  │ 0.0         │ 2.0443e-270  │ 0.0         │ 0.0         │\n",
       "│ 9991  │ 0.0127012   │ 0.0         │ 0.0          │ 0.00411077  │ 0.0         │\n",
       "│ 9992  │ 0.0         │ 0.0         │ 0.0          │ 0.00439854  │ 0.0         │\n",
       "│ 9993  │ 0.0         │ 1.85485e-5  │ 0.0          │ 0.0181966   │ 0.0         │\n",
       "│ 9994  │ 0.00227115  │ 0.000581189 │ 0.0          │ 0.000714301 │ 0.0         │\n",
       "│ 9995  │ 0.000160781 │ 0.0         │ 0.0          │ 5.09218e-5  │ 0.0         │\n",
       "│ 9996  │ 0.0         │ 2.80532e-5  │ 6.30273e-13  │ 0.0         │ 0.0         │\n",
       "│ 9997  │ 0.0         │ 6.4515e-5   │ 1.20943e-70  │ 0.00186836  │ 3.00426e-26 │\n",
       "│ 9998  │ 0.0         │ 0.0         │ 1.10215e-26  │ 0.0150983   │ 0.0         │\n",
       "│ 9999  │ 0.0         │ 1.58028e-5  │ 6.52618e-232 │ 0.0         │ 0.0         │\n",
       "│ 10000 │ 0.0162011   │ 0.0         │ 1.95395e-9   │ 0.102814    │ 0.0         │\n",
       "\n",
       "│ Row   │ x6          │ x7          │ x8          │ x9          │ x10        │\n",
       "├───────┼─────────────┼─────────────┼─────────────┼─────────────┼────────────┤\n",
       "│ 1     │ 0.0         │ 0.0         │ 0.00238467  │ 0.0         │ 0.0        │\n",
       "│ 2     │ 0.0         │ 0.00279079  │ 0.000439382 │ 0.0         │ 0.0        │\n",
       "│ 3     │ 7.15231e-5  │ 0.0         │ 0.000511036 │ 0.0         │ 0.0        │\n",
       "│ 4     │ 0.0         │ 0.00206226  │ 0.0         │ 0.0         │ 0.0        │\n",
       "│ 5     │ 0.00031452  │ 0.0123258   │ 0.0         │ 0.0155004   │ 0.0        │\n",
       "│ 6     │ 0.00185327  │ 0.0         │ 0.0         │ 9.24969e-10 │ 0.015323   │\n",
       "│ 7     │ 8.81402e-5  │ 0.0185283   │ 0.000159886 │ 0.0         │ 0.0        │\n",
       "│ 8     │ 0.0         │ 0.0143786   │ 0.0         │ 7.12845e-66 │ 0.0180754  │\n",
       "│ 9     │ 0.0         │ 0.0         │ 0.000311829 │ 0.0         │ 0.0339631  │\n",
       "│ 10    │ 8.61185e-6  │ 0.00269415  │ 6.769e-6    │ 5.75404e-49 │ 0.00308691 │\n",
       "│ 11    │ 0.0151673   │ 0.0         │ 0.00624178  │ 0.0         │ 0.0        │\n",
       "⋮\n",
       "│ 9989  │ 0.000169857 │ 0.0         │ 0.0         │ 0.0         │ 0.0        │\n",
       "│ 9990  │ 0.0         │ 0.0         │ 0.0         │ 1.14485e-16 │ 0.0        │\n",
       "│ 9991  │ 0.00162893  │ 0.00162671  │ 0.0         │ 6.20535e-5  │ 0.0        │\n",
       "│ 9992  │ 0.0         │ 0.000590191 │ 0.0         │ 0.000132166 │ 0.0        │\n",
       "│ 9993  │ 0.00434665  │ 0.000207223 │ 0.0152548   │ 5.9031e-8   │ 0.0        │\n",
       "│ 9994  │ 0.000100711 │ 0.0         │ 0.0         │ 7.76381e-20 │ 0.00563869 │\n",
       "│ 9995  │ 0.0         │ 0.0         │ 0.0         │ 0.0         │ 0.0319244  │\n",
       "│ 9996  │ 0.000455804 │ 0.0         │ 0.00167904  │ 0.0         │ 0.00449544 │\n",
       "│ 9997  │ 0.0         │ 5.35355e-6  │ 0.0         │ 6.93064e-5  │ 0.0        │\n",
       "│ 9998  │ 0.0         │ 0.0104181   │ 0.0         │ 8.45793e-6  │ 0.117996   │\n",
       "│ 9999  │ 0.0         │ 0.0         │ 0.0         │ 0.00147132  │ 0.0        │\n",
       "│ 10000 │ 0.0         │ 0.0         │ 0.0         │ 0.000404208 │ 0.18432    │\n",
       "\n",
       "│ Row   │ x11         │ x12          │ x13         │ x14         │\n",
       "├───────┼─────────────┼──────────────┼─────────────┼─────────────┤\n",
       "│ 1     │ 1.68029e-6  │ 0.0          │ 2.01462e-5  │ 1.38876e-8  │\n",
       "│ 2     │ 0.0         │ 0.0          │ 0.0         │ 4.70542e-39 │\n",
       "│ 3     │ 3.02437e-6  │ 0.0          │ 3.14045e-5  │ 0.0         │\n",
       "│ 4     │ 0.0         │ 6.88683e-26  │ 0.0         │ 0.0166054   │\n",
       "│ 5     │ 2.67277e-5  │ 0.00960379   │ 0.0         │ 0.0         │\n",
       "│ 6     │ 6.47133e-11 │ 0.0          │ 0.0         │ 1.20631e-70 │\n",
       "│ 7     │ 6.45906e-43 │ 0.0          │ 0.0         │ 8.94707e-75 │\n",
       "│ 8     │ 4.92154e-22 │ 1.81365e-16  │ 0.0         │ 0.0         │\n",
       "│ 9     │ 0.0         │ 8.51121e-39  │ 0.0         │ 0.0290013   │\n",
       "│ 10    │ 0.0         │ 5.61166e-49  │ 2.84825e-27 │ 0.0         │\n",
       "│ 11    │ 0.0         │ 0.0          │ 0.0         │ 1.36756e-14 │\n",
       "⋮\n",
       "│ 9989  │ 0.0         │ 0.0          │ 2.48794e-25 │ 0.0         │\n",
       "│ 9990  │ 7.25181e-62 │ 0.0          │ 5.76874e-44 │ 0.0         │\n",
       "│ 9991  │ 3.03725e-5  │ 0.0          │ 0.000710429 │ 2.71122e-17 │\n",
       "│ 9992  │ 0.0         │ 0.0          │ 0.0         │ 0.0         │\n",
       "│ 9993  │ 0.0         │ 1.13809e-52  │ 2.77259e-5  │ 2.03271e-44 │\n",
       "│ 9994  │ 0.0         │ 6.06808e-35  │ 1.24543e-17 │ 7.65437e-97 │\n",
       "│ 9995  │ 0.0         │ 2.22403e-22  │ 0.0         │ 1.64324e-30 │\n",
       "│ 9996  │ 0.0         │ 2.77981e-100 │ 0.0         │ 4.9675e-95  │\n",
       "│ 9997  │ 3.61257e-6  │ 5.71268e-25  │ 0.0         │ 0.0         │\n",
       "│ 9998  │ 0.00525371  │ 4.29293e-5   │ 0.0         │ 0.0         │\n",
       "│ 9999  │ 9.85256e-5  │ 0.0          │ 0.0         │ 7.58371e-51 │\n",
       "│ 10000 │ 1.04544e-9  │ 1.03918e-34  │ 1.41316e-7  │ 4.84556e-16 │\n",
       "\n",
       "│ Row   │ x15          │ x16         │ x17         │ x18         │ x19         │\n",
       "├───────┼──────────────┼─────────────┼─────────────┼─────────────┼─────────────┤\n",
       "│ 1     │ 3.06439e-42  │ 0.0         │ 0.000121926 │ 0.00284489  │ 8.75434e-5  │\n",
       "│ 2     │ 1.25454e-7   │ 0.0105735   │ 0.0         │ 0.0         │ 8.53084e-27 │\n",
       "│ 3     │ 0.0          │ 0.000307402 │ 0.0         │ 0.0         │ 0.0         │\n",
       "│ 4     │ 0.0          │ 0.00562556  │ 0.00078612  │ 0.0         │ 8.2968e-19  │\n",
       "│ 5     │ 0.0          │ 0.0132047   │ 0.0103891   │ 0.0176452   │ 0.0         │\n",
       "│ 6     │ 0.0          │ 0.0         │ 0.0239926   │ 0.0         │ 0.0         │\n",
       "│ 7     │ 0.0          │ 0.0         │ 0.0         │ 0.0         │ 7.9364e-27  │\n",
       "│ 8     │ 0.0          │ 0.0030799   │ 0.00600793  │ 0.0         │ 1.1382e-13  │\n",
       "│ 9     │ 2.55869e-29  │ 0.0         │ 0.0176421   │ 0.0044915   │ 0.0         │\n",
       "│ 10    │ 0.0          │ 0.00135243  │ 0.000652979 │ 0.00126507  │ 0.0         │\n",
       "│ 11    │ 0.0          │ 0.459425    │ 0.0737072   │ 0.019564    │ 0.0         │\n",
       "⋮\n",
       "│ 9989  │ 6.28664e-102 │ 0.00339382  │ 0.000928139 │ 0.0         │ 0.0         │\n",
       "│ 9990  │ 0.0          │ 0.00642064  │ 0.0         │ 0.000595811 │ 3.11961e-59 │\n",
       "│ 9991  │ 0.0          │ 0.00863762  │ 0.0         │ 0.0         │ 0.0         │\n",
       "│ 9992  │ 6.67518e-59  │ 0.00863672  │ 0.0         │ 0.011114    │ 0.0         │\n",
       "│ 9993  │ 0.0          │ 0.0         │ 0.0         │ 0.0         │ 0.0         │\n",
       "│ 9994  │ 0.0          │ 0.0         │ 0.00226028  │ 0.0         │ 7.41549e-8  │\n",
       "│ 9995  │ 0.0          │ 0.0254239   │ 0.0         │ 7.73749e-5  │ 4.57342e-10 │\n",
       "│ 9996  │ 0.0          │ 0.0         │ 8.61456e-5  │ 0.0         │ 0.000315841 │\n",
       "│ 9997  │ 4.51911e-52  │ 0.0         │ 0.0         │ 0.0         │ 0.000913193 │\n",
       "│ 9998  │ 0.0516328    │ 0.0         │ 0.105367    │ 0.117167    │ 0.00514811  │\n",
       "│ 9999  │ 0.0          │ 0.0         │ 0.000475692 │ 0.0         │ 0.0         │\n",
       "│ 10000 │ 5.20681e-6   │ 0.0         │ 0.0         │ 0.148266    │ 0.0         │\n",
       "\n",
       "│ Row   │ x20         │ x21         │ x22         │ x23         │ x24          │\n",
       "├───────┼─────────────┼─────────────┼─────────────┼─────────────┼──────────────┤\n",
       "│ 1     │ 0.0         │ 0.0444982   │ 0.000149108 │ 0.0         │ 0.00627307   │\n",
       "│ 2     │ 0.0         │ 0.0015      │ 0.0         │ 0.0         │ 0.0          │\n",
       "│ 3     │ 0.0         │ 6.28979e-7  │ 0.0035579   │ 0.0         │ 0.0          │\n",
       "│ 4     │ 0.0         │ 0.00448996  │ 0.0         │ 8.98748e-5  │ 0.0          │\n",
       "│ 5     │ 0.000852914 │ 0.0         │ 0.00661435  │ 0.0         │ 7.8102e-13   │\n",
       "│ 6     │ 0.00175595  │ 0.0189744   │ 0.00340526  │ 0.0         │ 4.53922e-26  │\n",
       "│ 7     │ 0.0         │ 0.0         │ 0.0         │ 0.00132501  │ 2.67187e-64  │\n",
       "│ 8     │ 0.00233658  │ 0.00393549  │ 0.0         │ 0.000495003 │ 0.000665028  │\n",
       "│ 9     │ 0.0         │ 0.00924358  │ 0.0         │ 0.00147606  │ 0.0          │\n",
       "│ 10    │ 0.0         │ 0.00290368  │ 9.44211e-5  │ 0.0         │ 0.0          │\n",
       "│ 11    │ 0.0316514   │ 0.0         │ 0.0         │ 0.0         │ 9.44387e-9   │\n",
       "⋮\n",
       "│ 9989  │ 0.00012589  │ 0.0042571   │ 0.0         │ 0.00214649  │ 0.0          │\n",
       "│ 9990  │ 0.0         │ 0.00703126  │ 0.0         │ 1.78069e-5  │ 5.79891e-61  │\n",
       "│ 9991  │ 0.0         │ 0.0278246   │ 0.00651716  │ 0.0289133   │ 0.0          │\n",
       "│ 9992  │ 0.00139536  │ 0.0         │ 0.0         │ 0.0         │ 2.11164e-63  │\n",
       "│ 9993  │ 0.0         │ 0.0         │ 0.000844825 │ 0.00734303  │ 1.13727e-54  │\n",
       "│ 9994  │ 0.0         │ 0.00524741  │ 0.000106762 │ 0.0         │ 0.0          │\n",
       "│ 9995  │ 1.33021e-5  │ 0.000476671 │ 0.0         │ 0.0         │ 2.47177e-7   │\n",
       "│ 9996  │ 0.0         │ 0.0401898   │ 0.000781214 │ 0.0         │ 1.4809e-45   │\n",
       "│ 9997  │ 0.000527335 │ 0.0         │ 0.00032322  │ 0.0         │ 8.54861e-57  │\n",
       "│ 9998  │ 0.0         │ 0.0         │ 0.0         │ 0.0754179   │ 7.31295e-7   │\n",
       "│ 9999  │ 0.0         │ 0.0         │ 0.00150981  │ 0.0168239   │ 6.18077e-112 │\n",
       "│ 10000 │ 0.0         │ 0.0         │ 0.00570568  │ 0.0         │ 0.0          │\n",
       "\n",
       "│ Row   │ x25         │ x26         │ x27         │ x28         │ x29         │\n",
       "├───────┼─────────────┼─────────────┼─────────────┼─────────────┼─────────────┤\n",
       "│ 1     │ 0.0         │ 4.57321e-6  │ 0.00398473  │ 0.0         │ 0.0         │\n",
       "│ 2     │ 0.0         │ 0.0         │ 0.000464734 │ 0.0         │ 0.0         │\n",
       "│ 3     │ 1.22138e-14 │ 0.0257826   │ 0.0         │ 5.77016e-6  │ 6.53462e-7  │\n",
       "│ 4     │ 4.5449e-16  │ 0.0         │ 0.0         │ 0.00175047  │ 0.000220721 │\n",
       "│ 5     │ 0.0529451   │ 0.000115676 │ 0.0         │ 0.0         │ 0.0257477   │\n",
       "│ 6     │ 8.80613e-8  │ 0.0         │ 0.00500012  │ 0.0137014   │ 0.0         │\n",
       "│ 7     │ 0.0         │ 0.00482505  │ 0.0         │ 0.0         │ 0.0         │\n",
       "│ 8     │ 7.34856e-27 │ 0.0         │ 0.0         │ 0.00479223  │ 0.0         │\n",
       "│ 9     │ 6.8028e-6   │ 0.0         │ 0.0         │ 0.0         │ 0.0         │\n",
       "│ 10    │ 8.21648e-5  │ 0.00177411  │ 3.20578e-5  │ 0.0         │ 0.0         │\n",
       "│ 11    │ 0.0         │ 0.0         │ 0.0         │ 0.0         │ 0.0617453   │\n",
       "⋮\n",
       "│ 9989  │ 0.00012913  │ 0.0         │ 0.0         │ 0.0         │ 0.0         │\n",
       "│ 9990  │ 0.0         │ 0.00335745  │ 0.00148954  │ 0.0         │ 0.0         │\n",
       "│ 9991  │ 0.0719563   │ 0.00123384  │ 0.00389427  │ 0.0152698   │ 0.0257588   │\n",
       "│ 9992  │ 5.36685e-5  │ 0.0026814   │ 0.00369308  │ 0.0         │ 0.0         │\n",
       "│ 9993  │ 0.0040377   │ 0.0         │ 0.0         │ 0.00769941  │ 0.0         │\n",
       "│ 9994  │ 0.00419566  │ 0.0         │ 0.0         │ 0.000113938 │ 0.000108491 │\n",
       "│ 9995  │ 0.0513542   │ 0.00254781  │ 0.00012207  │ 1.09063e-5  │ 2.01629e-5  │\n",
       "│ 9996  │ 0.0468058   │ 0.000256654 │ 0.0017496   │ 0.0054522   │ 0.0         │\n",
       "│ 9997  │ 0.00458811  │ 3.83311e-5  │ 0.000838467 │ 0.00833782  │ 0.0         │\n",
       "│ 9998  │ 0.0251221   │ 0.0153218   │ 0.0         │ 0.0655252   │ 0.0         │\n",
       "│ 9999  │ 0.0         │ 0.0         │ 0.0         │ 0.0109417   │ 0.0264463   │\n",
       "│ 10000 │ 0.0         │ 0.0         │ 0.00695007  │ 0.0         │ 0.0         │\n",
       "\n",
       "│ Row   │ x30          │ x31         │ x32         │ x33          │\n",
       "├───────┼──────────────┼─────────────┼─────────────┼──────────────┤\n",
       "│ 1     │ 0.0          │ 0.0         │ 0.00104301  │ 0.0          │\n",
       "│ 2     │ 1.18347e-33  │ 0.0         │ 0.00911536  │ 1.06335e-44  │\n",
       "│ 3     │ 2.28717e-23  │ 0.0         │ 0.000104119 │ 2.23633e-25  │\n",
       "│ 4     │ 0.0          │ 0.0         │ 0.0         │ 5.31224e-31  │\n",
       "│ 5     │ 0.0          │ 0.0652372   │ 0.0         │ 0.0          │\n",
       "│ 6     │ 0.0          │ 0.0122274   │ 0.0         │ 1.07011e-6   │\n",
       "│ 7     │ 0.00091588   │ 0.014414    │ 0.0312079   │ 0.0          │\n",
       "│ 8     │ 0.0          │ 0.0111974   │ 0.00639247  │ 4.76111e-102 │\n",
       "│ 9     │ 0.0          │ 0.0671606   │ 0.0158932   │ 0.0          │\n",
       "│ 10    │ 2.46719e-42  │ 0.0694797   │ 0.00340474  │ 0.0          │\n",
       "│ 11    │ 0.0          │ 0.0489705   │ 0.0         │ 6.12632e-5   │\n",
       "⋮\n",
       "│ 9989  │ 0.0          │ 0.0740232   │ 0.0         │ 0.0          │\n",
       "│ 9990  │ 0.0          │ 0.0173588   │ 0.0         │ 0.0          │\n",
       "│ 9991  │ 0.0          │ 0.0431144   │ 0.00464601  │ 0.000857643  │\n",
       "│ 9992  │ 0.0          │ 0.0111324   │ 0.0         │ 0.0          │\n",
       "│ 9993  │ 6.49972e-50  │ 0.0         │ 0.0         │ 0.0          │\n",
       "│ 9994  │ 0.0          │ 0.0646246   │ 0.0         │ 0.0          │\n",
       "│ 9995  │ 2.63989e-52  │ 0.0         │ 0.0         │ 6.19649e-57  │\n",
       "│ 9996  │ 2.40089e-105 │ 0.0         │ 0.0         │ 0.0          │\n",
       "│ 9997  │ 4.90827e-22  │ 0.000206582 │ 0.000185468 │ 0.0          │\n",
       "│ 9998  │ 0.0          │ 0.0225638   │ 0.00903533  │ 0.00568613   │\n",
       "│ 9999  │ 0.0          │ 0.0         │ 0.000290237 │ 0.0          │\n",
       "│ 10000 │ 1.17511e-41  │ 0.0         │ 0.101722    │ 0.0          │\n",
       "\n",
       "│ Row   │ x34         │ x35         │ x36         │ x37         │ x38          │\n",
       "├───────┼─────────────┼─────────────┼─────────────┼─────────────┼──────────────┤\n",
       "│ 1     │ 0.0         │ 6.588e-5    │ 0.0         │ 0.0         │ 0.0          │\n",
       "│ 2     │ 0.00225883  │ 0.0         │ 0.000397585 │ 0.00209381  │ 1.26544e-147 │\n",
       "│ 3     │ 3.28121e-7  │ 0.0         │ 0.0035173   │ 0.0         │ 1.37103e-142 │\n",
       "│ 4     │ 0.0         │ 0.0         │ 0.0         │ 0.000872171 │ 0.0          │\n",
       "│ 5     │ 0.0         │ 0.0         │ 0.0         │ 0.0102074   │ 3.00457e-5   │\n",
       "│ 6     │ 0.0         │ 0.00624365  │ 0.0         │ 0.0145746   │ 4.87417e-99  │\n",
       "│ 7     │ 0.0122219   │ 0.0         │ 0.0         │ 0.0         │ 0.0          │\n",
       "│ 8     │ 0.0         │ 0.0         │ 0.0         │ 0.00721998  │ 0.0          │\n",
       "│ 9     │ 0.0         │ 0.0         │ 0.0         │ 0.00061617  │ 1.21261e-74  │\n",
       "│ 10    │ 3.61444e-5  │ 0.0         │ 4.10927e-5  │ 7.09642e-5  │ 0.0          │\n",
       "│ 11    │ 0.0166019   │ 0.0         │ 0.0         │ 0.0         │ 1.11182e-62  │\n",
       "⋮\n",
       "│ 9989  │ 6.5605e-5   │ 0.0         │ 0.0         │ 0.0         │ 0.0          │\n",
       "│ 9990  │ 0.000721734 │ 0.00136336  │ 0.000352428 │ 0.0         │ 0.0          │\n",
       "│ 9991  │ 0.034031    │ 0.00127484  │ 0.0         │ 0.0         │ 0.0          │\n",
       "│ 9992  │ 0.0         │ 0.0         │ 0.0         │ 0.0316274   │ 8.49415e-57  │\n",
       "│ 9993  │ 0.0         │ 0.000147344 │ 0.0073385   │ 0.0         │ 0.0          │\n",
       "│ 9994  │ 0.0         │ 0.0         │ 4.30539e-5  │ 0.0         │ 0.0          │\n",
       "│ 9995  │ 0.0         │ 0.0         │ 4.64484e-6  │ 0.0         │ 2.70224e-92  │\n",
       "│ 9996  │ 0.0         │ 0.0         │ 0.00118535  │ 0.0         │ 0.0          │\n",
       "│ 9997  │ 0.0358289   │ 5.77711e-5  │ 0.00243976  │ 0.0         │ 0.0          │\n",
       "│ 9998  │ 0.0         │ 0.0         │ 0.0624357   │ 0.0         │ 0.0          │\n",
       "│ 9999  │ 0.0         │ 9.22943e-6  │ 0.0161555   │ 0.0         │ 2.87042e-141 │\n",
       "│ 10000 │ 0.0         │ 0.0         │ 0.0         │ 0.0         │ 3.41612e-46  │\n",
       "\n",
       "│ Row   │ x39         │ x40         │ x41         │ x42          │ x43         │\n",
       "├───────┼─────────────┼─────────────┼─────────────┼──────────────┼─────────────┤\n",
       "│ 1     │ 0.00536138  │ 0.0         │ 0.000735516 │ 0.000811288  │ 0.0         │\n",
       "│ 2     │ 0.0         │ 0.00116141  │ 0.0         │ 1.56174e-77  │ 4.24742e-5  │\n",
       "│ 3     │ 1.71246e-30 │ 0.0010302   │ 0.0         │ 3.15877e-16  │ 0.00697916  │\n",
       "│ 4     │ 0.0         │ 0.0         │ 0.042419    │ 0.0          │ 0.000299343 │\n",
       "│ 5     │ 0.0         │ 0.0         │ 0.0220348   │ 0.0          │ 0.0         │\n",
       "│ 6     │ 0.0         │ 0.00629296  │ 0.0         │ 0.0          │ 0.00685101  │\n",
       "│ 7     │ 0.0         │ 0.000677147 │ 0.0         │ 0.0          │ 0.000219499 │\n",
       "│ 8     │ 2.45779e-21 │ 0.000604598 │ 0.020469    │ 0.0          │ 0.000234395 │\n",
       "│ 9     │ 0.0         │ 0.0         │ 0.0549739   │ 0.0          │ 0.0         │\n",
       "│ 10    │ 0.0         │ 0.0         │ 0.00192438  │ 0.0          │ 8.91856e-6  │\n",
       "│ 11    │ 5.11643e-7  │ 0.0         │ 0.0         │ 0.0          │ 0.0061085   │\n",
       "⋮\n",
       "│ 9989  │ 0.0         │ 0.0         │ 0.0         │ 0.0          │ 0.0         │\n",
       "│ 9990  │ 3.61328e-41 │ 0.0         │ 0.0         │ 2.6126e-299  │ 0.000100062 │\n",
       "│ 9991  │ 0.00387036  │ 0.00242587  │ 0.0         │ 0.0          │ 0.0         │\n",
       "│ 9992  │ 0.000214873 │ 0.00206645  │ 0.0         │ 0.0          │ 0.0         │\n",
       "│ 9993  │ 0.039709    │ 0.00352137  │ 0.0088886   │ 0.0          │ 0.0         │\n",
       "│ 9994  │ 0.0         │ 4.76665e-5  │ 0.00520556  │ 6.05598e-309 │ 6.43272e-6  │\n",
       "│ 9995  │ 0.0         │ 0.0         │ 0.0         │ 0.0          │ 0.0         │\n",
       "│ 9996  │ 4.75272e-5  │ 0.0         │ 0.0         │ 0.0          │ 0.00031894  │\n",
       "│ 9997  │ 0.0         │ 0.0         │ 0.0         │ 4.76549e-87  │ 0.0         │\n",
       "│ 9998  │ 0.0         │ 0.0         │ 0.0         │ 0.0          │ 0.0923659   │\n",
       "│ 9999  │ 0.000562858 │ 0.0         │ 0.000417634 │ 3.21554e-115 │ 0.00329972  │\n",
       "│ 10000 │ 0.0         │ 0.0         │ 0.0387023   │ 0.0          │ 0.0         │\n",
       "\n",
       "│ Row   │ x44        │ x45        │ x46         │ x47         │ x48         │\n",
       "├───────┼────────────┼────────────┼─────────────┼─────────────┼─────────────┤\n",
       "│ 1     │ 5.81602e-5 │ 0.0        │ 0.0         │ 0.000334427 │ 0.00553143  │\n",
       "│ 2     │ 0.0        │ 3.42554e-5 │ 0.0         │ 6.8675e-39  │ 0.00264969  │\n",
       "│ 3     │ 0.0101365  │ 0.0        │ 0.0         │ 0.0         │ 0.0         │\n",
       "│ 4     │ 0.0        │ 0.00012347 │ 4.43907e-58 │ 4.63241e-29 │ 0.0         │\n",
       "│ 5     │ 0.0        │ 0.00397766 │ 0.00173559  │ 0.0         │ 0.0         │\n",
       "│ 6     │ 0.0        │ 0.00293354 │ 0.0         │ 0.0         │ 0.0         │\n",
       "│ 7     │ 0.0157648  │ 0.0        │ 1.42318e-35 │ 1.32175e-15 │ 0.00829974  │\n",
       "│ 8     │ 0.0        │ 0.0        │ 0.0         │ 2.34085e-33 │ 0.0         │\n",
       "│ 9     │ 0.0        │ 0.0        │ 2.38836e-53 │ 0.0         │ 0.00161022  │\n",
       "│ 10    │ 0.0        │ 0.0        │ 1.01147e-65 │ 0.0         │ 2.63102e-5  │\n",
       "│ 11    │ 0.0510223  │ 0.00812898 │ 7.38345e-9  │ 6.50634e-8  │ 0.0         │\n",
       "⋮\n",
       "│ 9989  │ 0.0        │ 0.0        │ 0.0         │ 0.0         │ 0.000142859 │\n",
       "│ 9990  │ 0.0        │ 0.00023266 │ 0.0         │ 0.0         │ 0.0         │\n",
       "│ 9991  │ 0.00119383 │ 0.00927917 │ 0.0105912   │ 0.000686035 │ 0.0405133   │\n",
       "│ 9992  │ 0.0        │ 0.00424355 │ 2.00851e-7  │ 0.000234043 │ 0.0         │\n",
       "│ 9993  │ 0.0        │ 0.0046684  │ 0.000670174 │ 0.0         │ 0.0194967   │\n",
       "│ 9994  │ 0.0        │ 1.44763e-5 │ 0.0         │ 4.76426e-38 │ 0.0         │\n",
       "│ 9995  │ 0.0        │ 5.34994e-6 │ 0.0         │ 6.82599e-29 │ 0.0         │\n",
       "│ 9996  │ 0.0        │ 0.0        │ 0.0         │ 3.45786e-5  │ 0.00353053  │\n",
       "│ 9997  │ 0.0        │ 0.00358486 │ 0.000530151 │ 0.0         │ 0.00324222  │\n",
       "│ 9998  │ 0.00662799 │ 0.0        │ 0.0         │ 0.000235557 │ 0.115141    │\n",
       "│ 9999  │ 0.0        │ 0.00359958 │ 0.0         │ 0.0         │ 0.0068553   │\n",
       "│ 10000 │ 0.0        │ 0.00304269 │ 2.85206e-7  │ 0.0         │ 0.0128544   │\n",
       "\n",
       "│ Row   │ x49         │ x50         │ x51         │ x52         │ x53         │\n",
       "├───────┼─────────────┼─────────────┼─────────────┼─────────────┼─────────────┤\n",
       "│ 1     │ 0.000612846 │ 0.00141754  │ 0.0         │ 0.0         │ 0.0         │\n",
       "│ 2     │ 0.0         │ 0.0         │ 6.15705e-17 │ 0.0         │ 4.15409e-30 │\n",
       "│ 3     │ 0.00293406  │ 0.0         │ 0.0         │ 0.000310298 │ 0.0         │\n",
       "│ 4     │ 0.0         │ 0.000124216 │ 1.98431e-17 │ 0.0         │ 4.53896e-22 │\n",
       "│ 5     │ 0.00782158  │ 0.0         │ 0.0         │ 2.11269e-13 │ 0.000290166 │\n",
       "│ 6     │ 0.0231342   │ 0.0         │ 5.64119e-9  │ 0.0         │ 0.0         │\n",
       "│ 7     │ 0.0         │ 0.0         │ 0.0         │ 3.89917e-50 │ 4.88139e-37 │\n",
       "│ 8     │ 0.00709253  │ 0.0         │ 0.0         │ 4.11377e-10 │ 0.0         │\n",
       "│ 9     │ 0.0         │ 0.000803112 │ 6.54218e-52 │ 0.0         │ 0.0         │\n",
       "│ 10    │ 0.0         │ 0.0         │ 0.0         │ 0.0         │ 0.0         │\n",
       "│ 11    │ 0.0         │ 0.0         │ 0.0         │ 1.36061e-35 │ 0.0         │\n",
       "⋮\n",
       "│ 9989  │ 0.00102611  │ 0.0         │ 0.0         │ 0.0         │ 7.28216e-30 │\n",
       "│ 9990  │ 0.00827564  │ 0.000131177 │ 0.0         │ 1.63288e-28 │ 0.0         │\n",
       "│ 9991  │ 0.0         │ 0.0297164   │ 0.0         │ 2.84713e-14 │ 0.0         │\n",
       "│ 9992  │ 0.0         │ 0.0114805   │ 0.0         │ 3.50417e-44 │ 0.0         │\n",
       "│ 9993  │ 0.00280178  │ 0.00734299  │ 0.0011871   │ 6.40996e-31 │ 0.0         │\n",
       "│ 9994  │ 0.00303018  │ 0.000467219 │ 6.12868e-22 │ 0.0         │ 1.38484e-14 │\n",
       "│ 9995  │ 0.000285746 │ 0.000114492 │ 0.0         │ 0.0         │ 3.26936e-34 │\n",
       "│ 9996  │ 0.0         │ 0.0         │ 0.000112353 │ 0.0         │ 9.31615e-6  │\n",
       "│ 9997  │ 0.000936563 │ 0.00740163  │ 0.0         │ 0.0         │ 1.63933e-6  │\n",
       "│ 9998  │ 0.0         │ 0.0792195   │ 0.0152356   │ 1.14892e-8  │ 0.0         │\n",
       "│ 9999  │ 0.0002603   │ 0.0036153   │ 0.0         │ 0.0         │ 0.0         │\n",
       "│ 10000 │ 0.0         │ 0.0         │ 2.59682e-5  │ 0.0         │ 0.0         │\n",
       "\n",
       "│ Row   │ x54         │ x55         │ x56         │ x57         │ x58         │\n",
       "├───────┼─────────────┼─────────────┼─────────────┼─────────────┼─────────────┤\n",
       "│ 1     │ 0.0         │ 0.000847021 │ 0.00449343  │ 0.00233141  │ 0.0         │\n",
       "│ 2     │ 0.0         │ 8.69548e-24 │ 0.0         │ 8.98405e-28 │ 4.60788e-5  │\n",
       "│ 3     │ 0.0         │ 0.0         │ 0.0         │ 1.3193e-5   │ 0.0         │\n",
       "│ 4     │ 0.0         │ 0.0         │ 0.0         │ 2.90456e-21 │ 0.000242096 │\n",
       "│ 5     │ 0.0         │ 0.0         │ 0.0         │ 0.0         │ 0.0         │\n",
       "│ 6     │ 0.0         │ 0.0         │ 0.0117645   │ 7.07112e-9  │ 0.00112166  │\n",
       "│ 7     │ 2.04495e-34 │ 3.2884e-38  │ 0.0105463   │ 0.0         │ 8.31248e-5  │\n",
       "│ 8     │ 1.26992e-23 │ 0.0         │ 0.0         │ 0.0         │ 0.00143553  │\n",
       "│ 9     │ 0.0         │ 1.04568e-18 │ 0.0         │ 0.0         │ 0.000480414 │\n",
       "│ 10    │ 2.01151e-56 │ 0.0         │ 0.000207143 │ 6.07764e-6  │ 4.90857e-5  │\n",
       "│ 11    │ 0.0         │ 7.90874e-11 │ 0.0         │ 0.0         │ 0.0         │\n",
       "⋮\n",
       "│ 9989  │ 0.0         │ 0.0         │ 0.0         │ 0.0         │ 0.000224038 │\n",
       "│ 9990  │ 0.0         │ 0.0         │ 0.00213194  │ 0.0         │ 0.0         │\n",
       "│ 9991  │ 0.0         │ 0.0         │ 0.0         │ 0.00444589  │ 0.0         │\n",
       "│ 9992  │ 0.0         │ 8.25107e-7  │ 0.0115506   │ 0.0         │ 0.000115839 │\n",
       "│ 9993  │ 0.0         │ 0.00074964  │ 0.0         │ 0.0         │ 6.01106e-6  │\n",
       "│ 9994  │ 5.65055e-9  │ 4.75642e-9  │ 0.0         │ 0.0         │ 0.0         │\n",
       "│ 9995  │ 8.99012e-6  │ 0.0         │ 0.0         │ 0.0001174   │ 0.0         │\n",
       "│ 9996  │ 2.55289e-8  │ 0.00126895  │ 0.0         │ 0.00281836  │ 1.66443e-5  │\n",
       "│ 9997  │ 1.80173e-6  │ 0.000143611 │ 0.0         │ 0.0         │ 1.40207e-6  │\n",
       "│ 9998  │ 0.0         │ 0.00960776  │ 0.0         │ 0.0         │ 0.0         │\n",
       "│ 9999  │ 1.26411e-6  │ 0.00390526  │ 0.012355    │ 0.00147807  │ 0.0         │\n",
       "│ 10000 │ 3.47937e-6  │ 0.0         │ 0.104047    │ 0.0         │ 0.00532703  │\n",
       "\n",
       "│ Row   │ x59         │ x60         │\n",
       "├───────┼─────────────┼─────────────┤\n",
       "│ 1     │ 0.0         │ 0.0         │\n",
       "│ 2     │ 0.0         │ 3.90535e-20 │\n",
       "│ 3     │ 0.0         │ 0.00234415  │\n",
       "│ 4     │ 0.00377238  │ 0.0         │\n",
       "│ 5     │ 0.0         │ 0.000478401 │\n",
       "│ 6     │ 0.0         │ 7.37827e-7  │\n",
       "│ 7     │ 0.0         │ 6.3786e-28  │\n",
       "│ 8     │ 0.0         │ 0.0         │\n",
       "│ 9     │ 0.0         │ 3.42618e-40 │\n",
       "│ 10    │ 0.0         │ 1.1013e-51  │\n",
       "│ 11    │ 0.0         │ 0.0         │\n",
       "⋮\n",
       "│ 9989  │ 0.000293602 │ 0.0         │\n",
       "│ 9990  │ 0.0         │ 0.0         │\n",
       "│ 9991  │ 0.00247961  │ 0.0         │\n",
       "│ 9992  │ 0.0         │ 3.27177e-7  │\n",
       "│ 9993  │ 0.0         │ 0.0         │\n",
       "│ 9994  │ 0.000593708 │ 0.0         │\n",
       "│ 9995  │ 0.000104796 │ 6.23248e-24 │\n",
       "│ 9996  │ 0.0         │ 0.0         │\n",
       "│ 9997  │ 2.83248e-5  │ 0.0         │\n",
       "│ 9998  │ 0.0204765   │ 0.0209007   │\n",
       "│ 9999  │ 9.1477e-6   │ 0.00157582  │\n",
       "│ 10000 │ 0.00188715  │ 2.56747e-7  │"
      ]
     },
     "execution_count": 43,
     "metadata": {},
     "output_type": "execute_result"
    }
   ],
   "source": [
    "user_cluster = DataFrame(user_vectors)"
   ]
  },
  {
   "cell_type": "code",
   "execution_count": 62,
   "metadata": {
    "collapsed": false
   },
   "outputs": [],
   "source": [
    "class = [indmax(user_vectors[i,:]) for i in 1:10000];\n",
    "class_freq = zeros(60)\n",
    "for class_no in class\n",
    "    class_freq[class_no] = class_freq[class_no]+1\n",
    "end"
   ]
  },
  {
   "cell_type": "code",
   "execution_count": 74,
   "metadata": {
    "collapsed": false
   },
   "outputs": [
    {
     "data": {
      "text/plain": [
       "10-element Array{Int64,1}:\n",
       "  7\n",
       " 10\n",
       " 17\n",
       " 21\n",
       " 25\n",
       " 29\n",
       " 31\n",
       " 34\n",
       " 41\n",
       " 44"
      ]
     },
     "execution_count": 74,
     "metadata": {},
     "output_type": "execute_result"
    }
   ],
   "source": [
    "best_classes = [i for i in 1:60 if class_freq[i] > 250]"
   ]
  },
  {
   "cell_type": "code",
   "execution_count": 78,
   "metadata": {
    "collapsed": false
   },
   "outputs": [
    {
     "data": {
      "text/plain": [
       "10000-element Array{Int64,1}:\n",
       "  4\n",
       "  1\n",
       " 10\n",
       "  9\n",
       "  7\n",
       "  3\n",
       "  1\n",
       "  9\n",
       "  7\n",
       "  7\n",
       "  3\n",
       "  7\n",
       "  3\n",
       "  ⋮\n",
       "  7\n",
       "  7\n",
       "  5\n",
       "  7\n",
       "  9\n",
       "  7\n",
       "  5\n",
       "  5\n",
       "  8\n",
       "  2\n",
       "  6\n",
       "  2"
      ]
     },
     "execution_count": 78,
     "metadata": {},
     "output_type": "execute_result"
    }
   ],
   "source": [
    "new_class = [indmax(user_vectors[i, best_classes]) for i in 1:10000]"
   ]
  },
  {
   "cell_type": "code",
   "execution_count": 79,
   "metadata": {
    "collapsed": false
   },
   "outputs": [
    {
     "data": {
      "text/plain": [
       "10000-element Array{String,1}:\n",
       " \"4\" \n",
       " \"1\" \n",
       " \"10\"\n",
       " \"9\" \n",
       " \"7\" \n",
       " \"3\" \n",
       " \"1\" \n",
       " \"9\" \n",
       " \"7\" \n",
       " \"7\" \n",
       " \"3\" \n",
       " \"7\" \n",
       " \"3\" \n",
       " ⋮   \n",
       " \"7\" \n",
       " \"7\" \n",
       " \"5\" \n",
       " \"7\" \n",
       " \"9\" \n",
       " \"7\" \n",
       " \"5\" \n",
       " \"5\" \n",
       " \"8\" \n",
       " \"2\" \n",
       " \"6\" \n",
       " \"2\" "
      ]
     },
     "execution_count": 79,
     "metadata": {},
     "output_type": "execute_result"
    }
   ],
   "source": [
    "name_followers[:class] = string.(new_class)"
   ]
  },
  {
   "cell_type": "code",
   "execution_count": 80,
   "metadata": {
    "collapsed": false
   },
   "outputs": [],
   "source": [
    "\n",
    "writetable(\"/media/henripal/hd1/data/attributes.tsv\",name_followers[:,[:name, :class, :followers]])"
   ]
  },
  {
   "cell_type": "code",
   "execution_count": 53,
   "metadata": {
    "collapsed": false
   },
   "outputs": [],
   "source": [
    "\n",
    "writetable(\"/media/henripal/hd1/data/vectors.tsv\",user_cluster, header = false)"
   ]
  },
  {
   "cell_type": "code",
   "execution_count": 20,
   "metadata": {
    "collapsed": false
   },
   "outputs": [
    {
     "data": {
      "text/html": [
       "<table class=\"data-frame\"><thead><tr><th></th><th>x1</th><th>x2</th><th>x3</th><th>x4</th><th>x5</th><th>x6</th><th>x7</th><th>x8</th><th>x9</th><th>x10</th><th>x11</th><th>x12</th><th>x13</th><th>x14</th><th>x15</th><th>x16</th><th>x17</th><th>x18</th><th>x19</th><th>x20</th><th>x21</th><th>x22</th><th>x23</th><th>x24</th><th>x25</th><th>x26</th><th>x27</th><th>x28</th><th>x29</th><th>x30</th><th>x31</th><th>x32</th><th>x33</th><th>x34</th><th>x35</th><th>x36</th><th>x37</th><th>x38</th><th>x39</th><th>x40</th><th>x41</th><th>x42</th><th>x43</th><th>x44</th><th>x45</th><th>x46</th><th>x47</th><th>x48</th><th>x49</th><th>x50</th><th>x51</th><th>x52</th><th>x53</th><th>x54</th><th>x55</th><th>x56</th><th>x57</th><th>x58</th><th>x59</th><th>x60</th><th>name</th></tr></thead><tbody><tr><th>1</th><td>0.0</td><td>0.0</td><td>0.0</td><td>0.0</td><td>0.0051725596147227</td><td>0.026945830598873732</td><td>0.10775474686882859</td><td>0.0</td><td>0.0</td><td>0.0</td><td>0.0</td><td>0.0</td><td>0.0</td><td>0.0</td><td>0.0003681329605147508</td><td>0.05019964953095866</td><td>0.0</td><td>0.01634360690677292</td><td>0.2769832659687579</td><td>0.0</td><td>0.0</td><td>0.0</td><td>0.011138582784611212</td><td>0.0</td><td>0.0</td><td>0.0</td><td>0.0</td><td>0.050674768950433255</td><td>0.0</td><td>0.0</td><td>0.0</td><td>0.011685303315783595</td><td>5.982337113625717e-7</td><td>0.025341281084838997</td><td>0.0</td><td>0.1397876310794631</td><td>0.0</td><td>2.557728206998708e-50</td><td>0.022798613032828093</td><td>0.11137848732635668</td><td>0.033592642112617435</td><td>1.1281923594343566e-20</td><td>0.0</td><td>0.0</td><td>0.0</td><td>0.00031783142602080953</td><td>0.0</td><td>0.0</td><td>0.0</td><td>0.08351004447658451</td><td>0.009862793276377544</td><td>0.0015407854886804928</td><td>0.014428228467605742</td><td>0.0</td><td>0.0</td><td>0.01562588099842397</td><td>0.0</td><td>0.03947191471247384</td><td>0.09654327952085223</td><td>0.025225820001461275</td><td>Deborah87958167</td></tr><tr><th>2</th><td>0.049580753988165444</td><td>0.2508836444918074</td><td>0.0</td><td>0.0</td><td>0.0</td><td>0.0</td><td>0.04489051981720582</td><td>0.1469489793379341</td><td>0.006060481798182574</td><td>0.029514101635304844</td><td>0.0890455518754558</td><td>0.0</td><td>0.0</td><td>0.0</td><td>0.0002022396002893607</td><td>0.005661225864393524</td><td>0.0</td><td>0.0</td><td>0.0</td><td>0.0</td><td>0.0</td><td>0.058310273766597205</td><td>0.0</td><td>0.0</td><td>0.0</td><td>0.0</td><td>0.3711326910656078</td><td>0.0</td><td>0.18335415663300975</td><td>0.0</td><td>0.0</td><td>0.0</td><td>0.0033604598334223044</td><td>0.0</td><td>0.0</td><td>0.0</td><td>0.0</td><td>0.0</td><td>0.04542499610223528</td><td>0.07414130821506772</td><td>0.08966204938609933</td><td>0.0</td><td>0.11555116359807116</td><td>0.0</td><td>0.17541942420018627</td><td>0.0</td><td>0.0</td><td>0.0</td><td>0.0</td><td>0.2132898499804196</td><td>0.0</td><td>0.0031261188507839795</td><td>0.0</td><td>0.07288551281835083</td><td>0.0</td><td>0.08977849524134132</td><td>0.0</td><td>0.05134670979062862</td><td>0.08354029060885172</td><td>0.0</td><td>texasfarmgirl1836</td></tr><tr><th>3</th><td>0.0</td><td>8.713427609010385e-9</td><td>0.0</td><td>0.0</td><td>2.506603772409537e-16</td><td>0.0014415837633974843</td><td>0.009184575106136393</td><td>0.0014634597958376704</td><td>0.0</td><td>0.0</td><td>1.4087849542070368e-9</td><td>3.0556874831156914e-6</td><td>0.0</td><td>2.081966235264321e-18</td><td>0.0</td><td>0.020324572789786673</td><td>0.0</td><td>0.0</td><td>0.0</td><td>0.0</td><td>0.0</td><td>0.0</td><td>0.016042098750867012</td><td>0.0</td><td>0.0</td><td>5.010620238826393e-7</td><td>0.0</td><td>0.006732738181303161</td><td>0.0</td><td>0.004281777076742496</td><td>0.0483308829964388</td><td>0.0</td><td>1.7176459235562508e-11</td><td>0.0</td><td>0.0</td><td>0.0</td><td>0.007889798225674597</td><td>3.1674231391041387e-9</td><td>0.028718489356872427</td><td>0.0</td><td>0.0</td><td>0.0</td><td>0.0</td><td>0.0</td><td>0.0</td><td>0.0</td><td>0.0021219079093766796</td><td>4.806771499892348e-9</td><td>0.0</td><td>0.0034717900607107335</td><td>3.0484456781940202e-5</td><td>2.9008845144491245e-12</td><td>0.0</td><td>0.0</td><td>0.0</td><td>0.0</td><td>0.0017901387836809907</td><td>0.0</td><td>0.0</td><td>0.0</td><td>Squatch</td></tr><tr><th>4</th><td>0.0</td><td>0.0</td><td>0.0</td><td>0.0</td><td>6.757009503150856e-9</td><td>0.0</td><td>0.004290304298363777</td><td>0.0</td><td>0.0</td><td>0.0</td><td>0.0</td><td>0.0</td><td>0.0</td><td>0.0</td><td>0.0</td><td>5.349674366843527e-8</td><td>0.0</td><td>1.8740760403039192e-19</td><td>0.0</td><td>0.0</td><td>0.0</td><td>0.0</td><td>2.647414737804112e-16</td><td>0.0</td><td>0.0</td><td>0.0</td><td>0.0</td><td>7.659799678820569e-12</td><td>0.0</td><td>0.0</td><td>0.0</td><td>6.995064178052164e-13</td><td>0.0</td><td>4.167343897568493e-10</td><td>0.0</td><td>0.0</td><td>0.0</td><td>0.0</td><td>0.0</td><td>0.0</td><td>3.690302282820236e-9</td><td>6.2441708347947e-253</td><td>0.0</td><td>0.0</td><td>0.0</td><td>3.9245758136038415e-24</td><td>0.0</td><td>0.0</td><td>0.0</td><td>4.468493945327262e-6</td><td>0.0</td><td>3.943752366065573e-7</td><td>0.0</td><td>0.0</td><td>0.0</td><td>0.0</td><td>0.0</td><td>3.399631642317278e-9</td><td>0.0</td><td>0.00033363499990994886</td><td>Lu Who</td></tr><tr><th>5</th><td>0.0</td><td>0.0</td><td>2.978697870558589e-20</td><td>0.05610419050580491</td><td>0.0</td><td>0.0</td><td>0.1006611078941685</td><td>0.0</td><td>0.0</td><td>0.0</td><td>0.0017628746836431215</td><td>1.844669806182308e-20</td><td>0.002818507875767357</td><td>0.0</td><td>0.0</td><td>0.0</td><td>0.0291893271717699</td><td>0.0</td><td>0.2695722422915973</td><td>0.0</td><td>0.029762575540874536</td><td>0.07906190763660918</td><td>0.0</td><td>0.0</td><td>0.0</td><td>0.0</td><td>0.0</td><td>0.0</td><td>0.0</td><td>0.046634138804370874</td><td>0.0</td><td>0.0</td><td>0.0</td><td>0.0</td><td>0.0</td><td>0.16956119494466845</td><td>0.0</td><td>4.626771949675073e-103</td><td>0.0</td><td>0.0</td><td>0.0</td><td>8.911343599386976e-17</td><td>0.0</td><td>0.0</td><td>0.05665828725416513</td><td>0.0004112506664022114</td><td>0.0</td><td>0.02254564482163113</td><td>0.0</td><td>0.0542322502647718</td><td>0.004808077603267288</td><td>0.0011385726686938334</td><td>0.0</td><td>0.014768789225195375</td><td>0.0</td><td>0.0</td><td>0.0008794133262373876</td><td>0.044051796341177264</td><td>0.0862211039196512</td><td>0.0</td><td>SongsOfLaredo</td></tr><tr><th>6</th><td>0.009181913913791745</td><td>0.0</td><td>1.1601476735579242e-5</td><td>0.0</td><td>0.00035113379363617604</td><td>0.010457945596979469</td><td>0.01890423467102866</td><td>0.024182000824113852</td><td>0.0081186890821123</td><td>0.019336573934026782</td><td>0.0</td><td>0.0</td><td>0.0020369611070950775</td><td>0.0002501484514695846</td><td>0.0</td><td>0.0</td><td>0.007764641419741867</td><td>0.0</td><td>0.07971543948692807</td><td>0.014415242658270294</td><td>0.03100934410246285</td><td>0.0</td><td>0.025303611760274857</td><td>0.0</td><td>0.04141569848179266</td><td>0.01773688481428575</td><td>0.028663842332646797</td><td>0.0</td><td>0.023666765466495245</td><td>0.0</td><td>0.045465174523809285</td><td>0.017773289768186835</td><td>0.0003725663814940007</td><td>0.02036893439985751</td><td>0.0</td><td>0.0</td><td>0.01496255824068227</td><td>0.00030803357641239984</td><td>0.010958580847009208</td><td>0.017470724831291008</td><td>0.0</td><td>0.0</td><td>0.0204814971584374</td><td>0.0</td><td>0.0</td><td>0.0</td><td>0.005035069648163644</td><td>0.0</td><td>0.010079617761172522</td><td>0.02972699720470811</td><td>0.0</td><td>0.00015112658916434333</td><td>0.0</td><td>0.0020671534594210554</td><td>0.0</td><td>0.0</td><td>0.0</td><td>0.0051867768069129554</td><td>0.0</td><td>0.006842609054683921</td><td>Diva</td></tr><tr><th>7</th><td>0.0</td><td>0.0</td><td>2.3967158997252667e-60</td><td>0.0026379852716760218</td><td>0.0</td><td>0.001282763077187216</td><td>0.0</td><td>0.002326131250786013</td><td>0.000625355234237181</td><td>0.0009767573238737871</td><td>0.0</td><td>7.193653953955475e-22</td><td>0.0</td><td>5.78946163199559e-5</td><td>0.0001288921913390062</td><td>0.00245653371747196</td><td>0.0007506580977638626</td><td>0.0021812525491235993</td><td>0.0</td><td>0.0020837798871042156</td><td>0.0</td><td>0.0029422896365983776</td><td>0.0</td><td>0.000272685521605035</td><td>0.0007651872749692171</td><td>0.006682360157414971</td><td>0.006692463902183609</td><td>0.002548762373939285</td><td>0.0</td><td>0.0</td><td>0.0</td><td>0.0005859831123454848</td><td>0.0</td><td>0.0015597661737651227</td><td>0.001645000586493498</td><td>0.0</td><td>0.002025928866827085</td><td>8.776629921270553e-5</td><td>0.0006581320477483928</td><td>0.0</td><td>0.0</td><td>0.0</td><td>0.0</td><td>0.0</td><td>0.0018964989185212523</td><td>0.0</td><td>0.00038209984584630955</td><td>0.0014458860558547028</td><td>0.0006333530551765767</td><td>0.0</td><td>0.0018660162430173934</td><td>0.00019424565526117982</td><td>0.006695748302560984</td><td>0.0</td><td>0.0</td><td>0.0</td><td>0.0</td><td>0.002594251029092963</td><td>0.00802039883981044</td><td>0.0</td><td>Bishop Talbert Swan</td></tr><tr><th>8</th><td>0.0</td><td>0.04518022359918355</td><td>9.901165630897684e-10</td><td>0.0</td><td>0.002479099334911487</td><td>0.0</td><td>0.024890882787008427</td><td>0.04986101102844383</td><td>0.005343184235990782</td><td>0.0</td><td>0.011429581398605152</td><td>0.00020674685947477575</td><td>0.0103953275155155</td><td>0.0</td><td>0.0</td><td>0.0</td><td>0.011325671937118725</td><td>0.07149284019904631</td><td>0.024892527128397273</td><td>0.03353523124804041</td><td>0.0</td><td>0.08534197831653251</td><td>0.0</td><td>0.0</td><td>0.027820842745634688</td><td>0.0</td><td>0.0</td><td>0.0</td><td>0.05804196588066303</td><td>0.0</td><td>0.0</td><td>0.01998466460025582</td><td>0.004647780777987694</td><td>0.0</td><td>0.014294323094792446</td><td>0.05800013243184003</td><td>0.0</td><td>0.0</td><td>0.013591507880039917</td><td>0.0</td><td>0.024724107622598065</td><td>1.1869259060345287e-19</td><td>0.0</td><td>0.0</td><td>0.0</td><td>0.006262468748888978</td><td>0.0</td><td>0.05543410132789589</td><td>0.0</td><td>0.04887137090970813</td><td>0.0</td><td>0.0007788165647688682</td><td>0.0</td><td>0.0</td><td>0.0</td><td>0.050187806617375416</td><td>0.013096040042260051</td><td>0.01989925045367709</td><td>0.0</td><td>0.0</td><td>NadelParis</td></tr><tr><th>9</th><td>0.12376719906865302</td><td>0.0</td><td>0.0</td><td>0.19564145265852595</td><td>0.0</td><td>0.0</td><td>0.0</td><td>0.2165843169258248</td><td>0.014208239318267167</td><td>0.08910275054044048</td><td>0.0</td><td>0.0</td><td>0.04722566221460834</td><td>0.004080310092706528</td><td>0.0</td><td>0.09758453517481964</td><td>0.0</td><td>0.21843914061600594</td><td>0.08724514295553207</td><td>0.15560248176801728</td><td>0.0</td><td>0.0</td><td>0.17720710784201224</td><td>0.0041316371291309625</td><td>0.0</td><td>0.16161611378574364</td><td>0.0</td><td>0.0</td><td>0.201735419245724</td><td>0.0030575955987884934</td><td>0.0</td><td>0.06787911498543787</td><td>0.0</td><td>0.1649389280626942</td><td>0.0</td><td>0.0</td><td>0.0</td><td>0.004558901633675444</td><td>0.0</td><td>0.0</td><td>0.0</td><td>0.0013791879830501335</td><td>0.0</td><td>0.09934706895693526</td><td>0.0</td><td>0.0</td><td>0.0</td><td>0.0</td><td>0.11486295755815844</td><td>0.1998184284610503</td><td>0.0</td><td>0.003158214605868633</td><td>0.09320449989894602</td><td>0.0</td><td>0.0</td><td>0.0</td><td>0.06420821979915595</td><td>0.0964917155223417</td><td>0.0</td><td>0.06096894985040057</td><td>Buster Brown</td></tr><tr><th>10</th><td>0.0006302122970406467</td><td>0.0</td><td>0.0</td><td>0.002930957099592802</td><td>0.0</td><td>0.00010991332101195628</td><td>0.0</td><td>0.0</td><td>0.0</td><td>0.0055263328725501945</td><td>0.0</td><td>0.0</td><td>0.0</td><td>5.070940608576437e-111</td><td>0.0</td><td>0.0023343973799688704</td><td>0.004127633621725951</td><td>0.0006671644998917521</td><td>7.2232019446884e-8</td><td>5.772973437045301e-5</td><td>0.0018521188304016923</td><td>0.0</td><td>0.0</td><td>3.1330272313714247e-49</td><td>0.0</td><td>0.0</td><td>0.0001839835938070411</td><td>0.0</td><td>8.752101699406091e-5</td><td>0.0</td><td>0.07275899481941522</td><td>0.0</td><td>5.495776547174534e-227</td><td>0.0</td><td>0.00011684876508815942</td><td>0.0</td><td>0.0003589721220444513</td><td>0.0</td><td>8.277897290652263e-37</td><td>0.0</td><td>0.0</td><td>5.336674395654321e-23</td><td>9.995083574115849e-5</td><td>0.0</td><td>0.00012388637668221946</td><td>0.0</td><td>0.0</td><td>0.0</td><td>0.0</td><td>0.00016891524375577222</td><td>0.0</td><td>0.0</td><td>1.0818763300871864e-24</td><td>0.0</td><td>0.0</td><td>0.0</td><td>0.0</td><td>0.00014465847971916363</td><td>0.0</td><td>1.144927345117208e-23</td><td>AdolescentIdle</td></tr></tbody></table>"
      ],
      "text/plain": [
       "10×61 DataFrames.DataFrame\n",
       "│ Row │ x1          │ x2         │ x3          │ x4         │ x5          │\n",
       "├─────┼─────────────┼────────────┼─────────────┼────────────┼─────────────┤\n",
       "│ 1   │ 0.0         │ 0.0        │ 0.0         │ 0.0        │ 0.00517256  │\n",
       "│ 2   │ 0.0495808   │ 0.250884   │ 0.0         │ 0.0        │ 0.0         │\n",
       "│ 3   │ 0.0         │ 8.71343e-9 │ 0.0         │ 0.0        │ 2.5066e-16  │\n",
       "│ 4   │ 0.0         │ 0.0        │ 0.0         │ 0.0        │ 6.75701e-9  │\n",
       "│ 5   │ 0.0         │ 0.0        │ 2.9787e-20  │ 0.0561042  │ 0.0         │\n",
       "│ 6   │ 0.00918191  │ 0.0        │ 1.16015e-5  │ 0.0        │ 0.000351134 │\n",
       "│ 7   │ 0.0         │ 0.0        │ 2.39672e-60 │ 0.00263799 │ 0.0         │\n",
       "│ 8   │ 0.0         │ 0.0451802  │ 9.90117e-10 │ 0.0        │ 0.0024791   │\n",
       "│ 9   │ 0.123767    │ 0.0        │ 0.0         │ 0.195641   │ 0.0         │\n",
       "│ 10  │ 0.000630212 │ 0.0        │ 0.0         │ 0.00293096 │ 0.0         │\n",
       "\n",
       "│ Row │ x6          │ x7         │ x8         │ x9          │ x10         │\n",
       "├─────┼─────────────┼────────────┼────────────┼─────────────┼─────────────┤\n",
       "│ 1   │ 0.0269458   │ 0.107755   │ 0.0        │ 0.0         │ 0.0         │\n",
       "│ 2   │ 0.0         │ 0.0448905  │ 0.146949   │ 0.00606048  │ 0.0295141   │\n",
       "│ 3   │ 0.00144158  │ 0.00918458 │ 0.00146346 │ 0.0         │ 0.0         │\n",
       "│ 4   │ 0.0         │ 0.0042903  │ 0.0        │ 0.0         │ 0.0         │\n",
       "│ 5   │ 0.0         │ 0.100661   │ 0.0        │ 0.0         │ 0.0         │\n",
       "│ 6   │ 0.0104579   │ 0.0189042  │ 0.024182   │ 0.00811869  │ 0.0193366   │\n",
       "│ 7   │ 0.00128276  │ 0.0        │ 0.00232613 │ 0.000625355 │ 0.000976757 │\n",
       "│ 8   │ 0.0         │ 0.0248909  │ 0.049861   │ 0.00534318  │ 0.0         │\n",
       "│ 9   │ 0.0         │ 0.0        │ 0.216584   │ 0.0142082   │ 0.0891028   │\n",
       "│ 10  │ 0.000109913 │ 0.0        │ 0.0        │ 0.0         │ 0.00552633  │\n",
       "\n",
       "│ Row │ x11        │ x12         │ x13        │ x14          │ x15         │\n",
       "├─────┼────────────┼─────────────┼────────────┼──────────────┼─────────────┤\n",
       "│ 1   │ 0.0        │ 0.0         │ 0.0        │ 0.0          │ 0.000368133 │\n",
       "│ 2   │ 0.0890456  │ 0.0         │ 0.0        │ 0.0          │ 0.00020224  │\n",
       "│ 3   │ 1.40878e-9 │ 3.05569e-6  │ 0.0        │ 2.08197e-18  │ 0.0         │\n",
       "│ 4   │ 0.0        │ 0.0         │ 0.0        │ 0.0          │ 0.0         │\n",
       "│ 5   │ 0.00176287 │ 1.84467e-20 │ 0.00281851 │ 0.0          │ 0.0         │\n",
       "│ 6   │ 0.0        │ 0.0         │ 0.00203696 │ 0.000250148  │ 0.0         │\n",
       "│ 7   │ 0.0        │ 7.19365e-22 │ 0.0        │ 5.78946e-5   │ 0.000128892 │\n",
       "│ 8   │ 0.0114296  │ 0.000206747 │ 0.0103953  │ 0.0          │ 0.0         │\n",
       "│ 9   │ 0.0        │ 0.0         │ 0.0472257  │ 0.00408031   │ 0.0         │\n",
       "│ 10  │ 0.0        │ 0.0         │ 0.0        │ 5.07094e-111 │ 0.0         │\n",
       "\n",
       "│ Row │ x16        │ x17         │ x18         │ x19       │ x20        │\n",
       "├─────┼────────────┼─────────────┼─────────────┼───────────┼────────────┤\n",
       "│ 1   │ 0.0501996  │ 0.0         │ 0.0163436   │ 0.276983  │ 0.0        │\n",
       "│ 2   │ 0.00566123 │ 0.0         │ 0.0         │ 0.0       │ 0.0        │\n",
       "│ 3   │ 0.0203246  │ 0.0         │ 0.0         │ 0.0       │ 0.0        │\n",
       "│ 4   │ 5.34967e-8 │ 0.0         │ 1.87408e-19 │ 0.0       │ 0.0        │\n",
       "│ 5   │ 0.0        │ 0.0291893   │ 0.0         │ 0.269572  │ 0.0        │\n",
       "│ 6   │ 0.0        │ 0.00776464  │ 0.0         │ 0.0797154 │ 0.0144152  │\n",
       "│ 7   │ 0.00245653 │ 0.000750658 │ 0.00218125  │ 0.0       │ 0.00208378 │\n",
       "│ 8   │ 0.0        │ 0.0113257   │ 0.0714928   │ 0.0248925 │ 0.0335352  │\n",
       "│ 9   │ 0.0975845  │ 0.0         │ 0.218439    │ 0.0872451 │ 0.155602   │\n",
       "│ 10  │ 0.0023344  │ 0.00412763  │ 0.000667164 │ 7.2232e-8 │ 5.77297e-5 │\n",
       "\n",
       "│ Row │ x21        │ x22        │ x23         │ x24         │ x25         │\n",
       "├─────┼────────────┼────────────┼─────────────┼─────────────┼─────────────┤\n",
       "│ 1   │ 0.0        │ 0.0        │ 0.0111386   │ 0.0         │ 0.0         │\n",
       "│ 2   │ 0.0        │ 0.0583103  │ 0.0         │ 0.0         │ 0.0         │\n",
       "│ 3   │ 0.0        │ 0.0        │ 0.0160421   │ 0.0         │ 0.0         │\n",
       "│ 4   │ 0.0        │ 0.0        │ 2.64741e-16 │ 0.0         │ 0.0         │\n",
       "│ 5   │ 0.0297626  │ 0.0790619  │ 0.0         │ 0.0         │ 0.0         │\n",
       "│ 6   │ 0.0310093  │ 0.0        │ 0.0253036   │ 0.0         │ 0.0414157   │\n",
       "│ 7   │ 0.0        │ 0.00294229 │ 0.0         │ 0.000272686 │ 0.000765187 │\n",
       "│ 8   │ 0.0        │ 0.085342   │ 0.0         │ 0.0         │ 0.0278208   │\n",
       "│ 9   │ 0.0        │ 0.0        │ 0.177207    │ 0.00413164  │ 0.0         │\n",
       "│ 10  │ 0.00185212 │ 0.0        │ 0.0         │ 3.13303e-49 │ 0.0         │\n",
       "\n",
       "│ Row │ x26        │ x27         │ x28        │ x29       │ x30        │\n",
       "├─────┼────────────┼─────────────┼────────────┼───────────┼────────────┤\n",
       "│ 1   │ 0.0        │ 0.0         │ 0.0506748  │ 0.0       │ 0.0        │\n",
       "│ 2   │ 0.0        │ 0.371133    │ 0.0        │ 0.183354  │ 0.0        │\n",
       "│ 3   │ 5.01062e-7 │ 0.0         │ 0.00673274 │ 0.0       │ 0.00428178 │\n",
       "│ 4   │ 0.0        │ 0.0         │ 7.6598e-12 │ 0.0       │ 0.0        │\n",
       "│ 5   │ 0.0        │ 0.0         │ 0.0        │ 0.0       │ 0.0466341  │\n",
       "│ 6   │ 0.0177369  │ 0.0286638   │ 0.0        │ 0.0236668 │ 0.0        │\n",
       "│ 7   │ 0.00668236 │ 0.00669246  │ 0.00254876 │ 0.0       │ 0.0        │\n",
       "│ 8   │ 0.0        │ 0.0         │ 0.0        │ 0.058042  │ 0.0        │\n",
       "│ 9   │ 0.161616   │ 0.0         │ 0.0        │ 0.201735  │ 0.0030576  │\n",
       "│ 10  │ 0.0        │ 0.000183984 │ 0.0        │ 8.7521e-5 │ 0.0        │\n",
       "\n",
       "│ Row │ x31       │ x32         │ x33          │ x34         │ x35         │\n",
       "├─────┼───────────┼─────────────┼──────────────┼─────────────┼─────────────┤\n",
       "│ 1   │ 0.0       │ 0.0116853   │ 5.98234e-7   │ 0.0253413   │ 0.0         │\n",
       "│ 2   │ 0.0       │ 0.0         │ 0.00336046   │ 0.0         │ 0.0         │\n",
       "│ 3   │ 0.0483309 │ 0.0         │ 1.71765e-11  │ 0.0         │ 0.0         │\n",
       "│ 4   │ 0.0       │ 6.99506e-13 │ 0.0          │ 4.16734e-10 │ 0.0         │\n",
       "│ 5   │ 0.0       │ 0.0         │ 0.0          │ 0.0         │ 0.0         │\n",
       "│ 6   │ 0.0454652 │ 0.0177733   │ 0.000372566  │ 0.0203689   │ 0.0         │\n",
       "│ 7   │ 0.0       │ 0.000585983 │ 0.0          │ 0.00155977  │ 0.001645    │\n",
       "│ 8   │ 0.0       │ 0.0199847   │ 0.00464778   │ 0.0         │ 0.0142943   │\n",
       "│ 9   │ 0.0       │ 0.0678791   │ 0.0          │ 0.164939    │ 0.0         │\n",
       "│ 10  │ 0.072759  │ 0.0         │ 5.49578e-227 │ 0.0         │ 0.000116849 │\n",
       "\n",
       "│ Row │ x36       │ x37         │ x38          │ x39         │ x40       │\n",
       "├─────┼───────────┼─────────────┼──────────────┼─────────────┼───────────┤\n",
       "│ 1   │ 0.139788  │ 0.0         │ 2.55773e-50  │ 0.0227986   │ 0.111378  │\n",
       "│ 2   │ 0.0       │ 0.0         │ 0.0          │ 0.045425    │ 0.0741413 │\n",
       "│ 3   │ 0.0       │ 0.0078898   │ 3.16742e-9   │ 0.0287185   │ 0.0       │\n",
       "│ 4   │ 0.0       │ 0.0         │ 0.0          │ 0.0         │ 0.0       │\n",
       "│ 5   │ 0.169561  │ 0.0         │ 4.62677e-103 │ 0.0         │ 0.0       │\n",
       "│ 6   │ 0.0       │ 0.0149626   │ 0.000308034  │ 0.0109586   │ 0.0174707 │\n",
       "│ 7   │ 0.0       │ 0.00202593  │ 8.77663e-5   │ 0.000658132 │ 0.0       │\n",
       "│ 8   │ 0.0580001 │ 0.0         │ 0.0          │ 0.0135915   │ 0.0       │\n",
       "│ 9   │ 0.0       │ 0.0         │ 0.0045589    │ 0.0         │ 0.0       │\n",
       "│ 10  │ 0.0       │ 0.000358972 │ 0.0          │ 8.2779e-37  │ 0.0       │\n",
       "\n",
       "│ Row │ x41       │ x42          │ x43        │ x44       │ x45         │\n",
       "├─────┼───────────┼──────────────┼────────────┼───────────┼─────────────┤\n",
       "│ 1   │ 0.0335926 │ 1.12819e-20  │ 0.0        │ 0.0       │ 0.0         │\n",
       "│ 2   │ 0.089662  │ 0.0          │ 0.115551   │ 0.0       │ 0.175419    │\n",
       "│ 3   │ 0.0       │ 0.0          │ 0.0        │ 0.0       │ 0.0         │\n",
       "│ 4   │ 3.6903e-9 │ 6.24417e-253 │ 0.0        │ 0.0       │ 0.0         │\n",
       "│ 5   │ 0.0       │ 8.91134e-17  │ 0.0        │ 0.0       │ 0.0566583   │\n",
       "│ 6   │ 0.0       │ 0.0          │ 0.0204815  │ 0.0       │ 0.0         │\n",
       "│ 7   │ 0.0       │ 0.0          │ 0.0        │ 0.0       │ 0.0018965   │\n",
       "│ 8   │ 0.0247241 │ 1.18693e-19  │ 0.0        │ 0.0       │ 0.0         │\n",
       "│ 9   │ 0.0       │ 0.00137919   │ 0.0        │ 0.0993471 │ 0.0         │\n",
       "│ 10  │ 0.0       │ 5.33667e-23  │ 9.99508e-5 │ 0.0       │ 0.000123886 │\n",
       "\n",
       "│ Row │ x46         │ x47        │ x48        │ x49         │ x50         │\n",
       "├─────┼─────────────┼────────────┼────────────┼─────────────┼─────────────┤\n",
       "│ 1   │ 0.000317831 │ 0.0        │ 0.0        │ 0.0         │ 0.08351     │\n",
       "│ 2   │ 0.0         │ 0.0        │ 0.0        │ 0.0         │ 0.21329     │\n",
       "│ 3   │ 0.0         │ 0.00212191 │ 4.80677e-9 │ 0.0         │ 0.00347179  │\n",
       "│ 4   │ 3.92458e-24 │ 0.0        │ 0.0        │ 0.0         │ 4.46849e-6  │\n",
       "│ 5   │ 0.000411251 │ 0.0        │ 0.0225456  │ 0.0         │ 0.0542323   │\n",
       "│ 6   │ 0.0         │ 0.00503507 │ 0.0        │ 0.0100796   │ 0.029727    │\n",
       "│ 7   │ 0.0         │ 0.0003821  │ 0.00144589 │ 0.000633353 │ 0.0         │\n",
       "│ 8   │ 0.00626247  │ 0.0        │ 0.0554341  │ 0.0         │ 0.0488714   │\n",
       "│ 9   │ 0.0         │ 0.0        │ 0.0        │ 0.114863    │ 0.199818    │\n",
       "│ 10  │ 0.0         │ 0.0        │ 0.0        │ 0.0         │ 0.000168915 │\n",
       "\n",
       "│ Row │ x51        │ x52         │ x53         │ x54        │ x55 │ x56       │\n",
       "├─────┼────────────┼─────────────┼─────────────┼────────────┼─────┼───────────┤\n",
       "│ 1   │ 0.00986279 │ 0.00154079  │ 0.0144282   │ 0.0        │ 0.0 │ 0.0156259 │\n",
       "│ 2   │ 0.0        │ 0.00312612  │ 0.0         │ 0.0728855  │ 0.0 │ 0.0897785 │\n",
       "│ 3   │ 3.04845e-5 │ 2.90088e-12 │ 0.0         │ 0.0        │ 0.0 │ 0.0       │\n",
       "│ 4   │ 0.0        │ 3.94375e-7  │ 0.0         │ 0.0        │ 0.0 │ 0.0       │\n",
       "│ 5   │ 0.00480808 │ 0.00113857  │ 0.0         │ 0.0147688  │ 0.0 │ 0.0       │\n",
       "│ 6   │ 0.0        │ 0.000151127 │ 0.0         │ 0.00206715 │ 0.0 │ 0.0       │\n",
       "│ 7   │ 0.00186602 │ 0.000194246 │ 0.00669575  │ 0.0        │ 0.0 │ 0.0       │\n",
       "│ 8   │ 0.0        │ 0.000778817 │ 0.0         │ 0.0        │ 0.0 │ 0.0501878 │\n",
       "│ 9   │ 0.0        │ 0.00315821  │ 0.0932045   │ 0.0        │ 0.0 │ 0.0       │\n",
       "│ 10  │ 0.0        │ 0.0         │ 1.08188e-24 │ 0.0        │ 0.0 │ 0.0       │\n",
       "\n",
       "│ Row │ x57         │ x58         │ x59       │ x60         │\n",
       "├─────┼─────────────┼─────────────┼───────────┼─────────────┤\n",
       "│ 1   │ 0.0         │ 0.0394719   │ 0.0965433 │ 0.0252258   │\n",
       "│ 2   │ 0.0         │ 0.0513467   │ 0.0835403 │ 0.0         │\n",
       "│ 3   │ 0.00179014  │ 0.0         │ 0.0       │ 0.0         │\n",
       "│ 4   │ 0.0         │ 3.39963e-9  │ 0.0       │ 0.000333635 │\n",
       "│ 5   │ 0.000879413 │ 0.0440518   │ 0.0862211 │ 0.0         │\n",
       "│ 6   │ 0.0         │ 0.00518678  │ 0.0       │ 0.00684261  │\n",
       "│ 7   │ 0.0         │ 0.00259425  │ 0.0080204 │ 0.0         │\n",
       "│ 8   │ 0.013096    │ 0.0198993   │ 0.0       │ 0.0         │\n",
       "│ 9   │ 0.0642082   │ 0.0964917   │ 0.0       │ 0.0609689   │\n",
       "│ 10  │ 0.0         │ 0.000144658 │ 0.0       │ 1.14493e-23 │\n",
       "\n",
       "│ Row │ name                  │\n",
       "├─────┼───────────────────────┤\n",
       "│ 1   │ \"Deborah87958167\"     │\n",
       "│ 2   │ \"texasfarmgirl1836\"   │\n",
       "│ 3   │ \"Squatch\"             │\n",
       "│ 4   │ \"Lu Who\"              │\n",
       "│ 5   │ \"SongsOfLaredo\"       │\n",
       "│ 6   │ \"Diva\"                │\n",
       "│ 7   │ \"Bishop Talbert Swan\" │\n",
       "│ 8   │ \"NadelParis\"          │\n",
       "│ 9   │ \"Buster Brown\"        │\n",
       "│ 10  │ \"AdolescentIdle\"      │"
      ]
     },
     "execution_count": 20,
     "metadata": {},
     "output_type": "execute_result"
    }
   ],
   "source": [
    "df"
   ]
  },
  {
   "cell_type": "code",
   "execution_count": null,
   "metadata": {
    "collapsed": true
   },
   "outputs": [],
   "source": []
  }
 ],
 "metadata": {
  "anaconda-cloud": {},
  "kernelspec": {
   "display_name": "Julia 0.5.0",
   "language": "julia",
   "name": "julia-0.5"
  },
  "language_info": {
   "file_extension": ".jl",
   "mimetype": "application/julia",
   "name": "julia",
   "version": "0.5.0"
  }
 },
 "nbformat": 4,
 "nbformat_minor": 0
}
