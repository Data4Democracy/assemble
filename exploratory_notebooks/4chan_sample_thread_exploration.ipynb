{
 "cells": [
  {
   "cell_type": "markdown",
   "metadata": {},
   "source": [
    "## 4chan Sample Thread Exploration\n",
    "\n",
    "This notebook contains the cleaning and exploration of the chan_example csv which is hosted on the far-right s3 bucket.  It contains cleaning out the html links from the text of the messages with beautiful soup, grouping the messages into their threads, and an exploratory sentiment analysis.\n",
    "\n",
    "Further work could be to get the topic modelling for messages working and perhaps look at sentiment regarding different topics."
   ]
  },
  {
   "cell_type": "code",
   "execution_count": 15,
   "metadata": {
    "autoscroll": "json-false",
    "collapsed": false,
    "ein.tags": [
     "worksheet-0"
    ],
    "slideshow": {
     "slide_type": "-"
    }
   },
   "outputs": [],
   "source": [
    "import boto3\n",
    "from bs4 import BeautifulSoup\n",
    "import pandas as pd\n",
    "import numpy as np\n",
    "\n",
    "%matplotlib inline\n",
    "import matplotlib.pyplot as plt"
   ]
  },
  {
   "cell_type": "code",
   "execution_count": 16,
   "metadata": {
    "autoscroll": "json-false",
    "collapsed": false,
    "ein.tags": [
     "worksheet-0"
    ],
    "slideshow": {
     "slide_type": "-"
    }
   },
   "outputs": [
    {
     "data": {
      "text/plain": [
       "['default']"
      ]
     },
     "execution_count": 16,
     "metadata": {},
     "output_type": "execute_result"
    }
   ],
   "source": [
    "session = boto3.Session(profile_name='default')\n",
    "s3 = session.resource('s3')\n",
    "bucket = s3.Bucket(\"far-right\")\n",
    "session.available_profiles"
   ]
  },
  {
   "cell_type": "code",
   "execution_count": null,
   "metadata": {
    "autoscroll": "json-false",
    "collapsed": false,
    "ein.tags": [
     "worksheet-0"
    ],
    "slideshow": {
     "slide_type": "-"
    }
   },
   "outputs": [],
   "source": [
    "# print all objects in bucket\n",
    "for obj in bucket.objects.all():\n",
    "    if \"chan\" in obj.key:\n",
    "        #print(obj.key)\n",
    "        pass"
   ]
  },
  {
   "cell_type": "code",
   "execution_count": 18,
   "metadata": {
    "autoscroll": "json-false",
    "collapsed": false,
    "ein.tags": [
     "worksheet-0"
    ],
    "slideshow": {
     "slide_type": "-"
    }
   },
   "outputs": [],
   "source": [
    "bucket.download_file('fourchan/chan_example.csv', 'chan_example.csv')"
   ]
  },
  {
   "cell_type": "code",
   "execution_count": 19,
   "metadata": {
    "autoscroll": "json-false",
    "collapsed": false,
    "ein.tags": [
     "worksheet-0"
    ],
    "slideshow": {
     "slide_type": "-"
    }
   },
   "outputs": [],
   "source": [
    "chan = pd.read_csv(\"chan_example.csv\")\n",
    "# remove the newline tags.  They're not useful for our analysis and just clutter the text.\n",
    "chan.com = chan.com.astype(str).apply(lambda x: x.replace(\"<br>\", \" \"))"
   ]
  },
  {
   "cell_type": "code",
   "execution_count": 20,
   "metadata": {
    "autoscroll": "json-false",
    "collapsed": false,
    "ein.tags": [
     "worksheet-0"
    ],
    "slideshow": {
     "slide_type": "-"
    }
   },
   "outputs": [],
   "source": [
    "bucket.download_file('info-source/daily/20170228/fourchan/fourchan_1204.json', '2017-02-28-1204.json')\n",
    "chan2 = pd.read_json(\"2017-02-28-1204.json\")"
   ]
  },
  {
   "cell_type": "code",
   "execution_count": 21,
   "metadata": {
    "autoscroll": "json-false",
    "collapsed": false,
    "ein.tags": [
     "worksheet-0"
    ],
    "slideshow": {
     "slide_type": "-"
    }
   },
   "outputs": [
    {
     "name": "stdout",
     "output_type": "stream",
     "text": [
      "Simon is registered, certified and licensed for any action he deems necessary to \"achieve the objective\"\n",
      "114878658\n"
     ]
    }
   ],
   "source": [
    "soup = BeautifulSoup(chan.com[19], \"lxml\")\n",
    "quotes = soup.find(\"span\")\n",
    "for quote in quotes.contents:\n",
    "    print(quote.replace(\">>\", \"\"))\n",
    "parent = soup.find(\"a\")\n",
    "print(parent.contents[0].replace(\">>\", \"\"))"
   ]
  },
  {
   "cell_type": "code",
   "execution_count": 22,
   "metadata": {
    "autoscroll": "json-false",
    "collapsed": false,
    "ein.tags": [
     "worksheet-0"
    ],
    "slideshow": {
     "slide_type": "-"
    }
   },
   "outputs": [
    {
     "name": "stdout",
     "output_type": "stream",
     "text": [
      "<a href=\"#p114878658\" class=\"quotelink\">&gt;&gt;114878658</a> On the &quot;About&quot; page  <span class=\"quote\">&gt;&gt;Simon is registered, certified and licensed for any action he deems necessary to &quot;achieve the objective&quot;</span> The quoted text above hyperlinks to this video https://www.youtube.com/watch?v=y-Y<wbr>szp3SmxE  holy shit this guy\n"
     ]
    }
   ],
   "source": [
    "print(chan.com[19])"
   ]
  },
  {
   "cell_type": "code",
   "execution_count": 23,
   "metadata": {
    "autoscroll": "json-false",
    "collapsed": false,
    "ein.tags": [
     "worksheet-0"
    ],
    "slideshow": {
     "slide_type": "-"
    }
   },
   "outputs": [
    {
     "name": "stdout",
     "output_type": "stream",
     "text": [
      " The quoted text above hyperlinks to this video https://www.youtube.com/watch?v=y-Y<wbr>szp3SmxE  holy shit this guy\n"
     ]
    }
   ],
   "source": [
    "# If there's a quote and then the text, this would work. \n",
    "print(chan.com[19].split(\"</span>\")[-1])"
   ]
  },
  {
   "cell_type": "code",
   "execution_count": 24,
   "metadata": {
    "autoscroll": "json-false",
    "collapsed": false,
    "ein.tags": [
     "worksheet-0"
    ],
    "slideshow": {
     "slide_type": "-"
    }
   },
   "outputs": [],
   "source": [
    "def split_comment(comment):\n",
    "    \"\"\"Splits up a comment into parent, quotes, and text\"\"\"\n",
    "    \n",
    "    # I used lxml to \n",
    "    soup = BeautifulSoup(comment, \"lxml\")\n",
    "    quotes, quotelink, text = None, None, None\n",
    "    try:\n",
    "        quotes = soup.find(\"span\")\n",
    "        quotes = [quote.replace(\">>\", \"\") for quote in quotes.contents]\n",
    "    except:\n",
    "        pass\n",
    "    try:\n",
    "        quotelink = soup.find(\"a\").contents[0].replace(\">>\", \"\")\n",
    "    except: \n",
    "        pass\n",
    "    # no quote or parent\n",
    "    if quotes is None and quotelink is None:\n",
    "        text = comment\n",
    "    # Parent but no quote\n",
    "    if quotelink is not None and quotes is None:\n",
    "        text = comment.split(\"a>\")[-1]\n",
    "    # There is a quote\n",
    "    if quotes is not None:\n",
    "        text = comment.split(\"</span>\")[-1]\n",
    "    return {'quotes':quotes, 'quotelink': quotelink, 'text': text}"
   ]
  },
  {
   "cell_type": "code",
   "execution_count": 25,
   "metadata": {
    "autoscroll": "json-false",
    "collapsed": false,
    "ein.tags": [
     "worksheet-0"
    ],
    "slideshow": {
     "slide_type": "-"
    }
   },
   "outputs": [],
   "source": [
    "df = pd.DataFrame({'quotes':[], 'quotelink':[], 'text':[]})\n",
    "for comment in chan['com']:\n",
    "    df = df.append(split_comment(comment), ignore_index = True)\n",
    "    \n",
    "full = pd.merge(chan, df, left_index = True, right_index = True)"
   ]
  },
  {
   "cell_type": "code",
   "execution_count": 26,
   "metadata": {
    "collapsed": false
   },
   "outputs": [],
   "source": [
    "quotes = pd.Series()\n",
    "quotelinks = pd.Series()\n",
    "texts = pd.Series()\n",
    "for comment in chan['com']:\n",
    "    parse = split_comment(comment)\n",
    "    quotes.append(pd.Series(parse['quotes']))\n",
    "    quotelinks.append(pd.Series(parse['quotelink']))\n",
    "    texts.append(pd.Series(parse['text']))\n",
    "chan['quotes'] = quotes\n",
    "chan['quotelinks'] = quotelinks\n",
    "chan['text'] = texts"
   ]
  },
  {
   "cell_type": "markdown",
   "metadata": {
    "ein.tags": [
     "worksheet-0"
    ],
    "slideshow": {
     "slide_type": "-"
    }
   },
   "source": [
    "# Message Threads\n",
    "\n",
    "Forchan messages are all part of a message thread, which can be reassembled by following the parents for each post and chaining them back together. This code creates a thread ID and maps that thread ID to the corresponding messages.  \n",
    "\n",
    "I don't know currently whether or not messages are linear, or if they can be a tree structure.  This section of code simply tries to find which messages belong to which threads\n",
    "\n",
    "## Looks like a thread is all just grouped by the parent comment.  Doh\n",
    "\n",
    "Here i'll group the threads into a paragraph like structure and store it in a dictionary with the key being the parent chan_id."
   ]
  },
  {
   "cell_type": "code",
   "execution_count": 27,
   "metadata": {
    "autoscroll": "json-false",
    "collapsed": false,
    "ein.tags": [
     "worksheet-0"
    ],
    "slideshow": {
     "slide_type": "-"
    }
   },
   "outputs": [],
   "source": [
    "threads = full['parent'].unique()\n",
    "full_text = {}\n",
    "for thread in threads:\n",
    "    full_text[int(thread)] = \". \".join(full[full['parent'] == thread]['text'])"
   ]
  },
  {
   "cell_type": "markdown",
   "metadata": {
    "ein.tags": [
     "worksheet-0"
    ],
    "slideshow": {
     "slide_type": "-"
    }
   },
   "source": [
    "Now we can do some topic modeling on the different threads\n",
    "\n",
    "Following along with the topic modelling tweet exploration, we're going to tokenize our messages and then build a corpus from it.  We'll then use the gensim library to run our topic model over the tokenized messages"
   ]
  },
  {
   "cell_type": "code",
   "execution_count": 38,
   "metadata": {
    "autoscroll": "json-false",
    "collapsed": false,
    "ein.tags": [
     "worksheet-0"
    ],
    "slideshow": {
     "slide_type": "-"
    }
   },
   "outputs": [],
   "source": [
    "import gensim\n",
    "import pyLDAvis.gensim as gensimvis\n",
    "import pyLDAvis"
   ]
  },
  {
   "cell_type": "code",
   "execution_count": null,
   "metadata": {
    "autoscroll": "json-false",
    "collapsed": false,
    "ein.tags": [
     "worksheet-0"
    ],
    "slideshow": {
     "slide_type": "-"
    }
   },
   "outputs": [],
   "source": [
    "tokenized_messages = []\n",
    "for msg in nlp.pipe(full['text'], n_threads = 100, batch_size = 100):\n",
    "    ents = msg.ents\n",
    "    msg = [token.lemma_ for token in msg if token.is_alpha and not token.is_stop]\n",
    "    tokenized_messages.append(msg)\n",
    "\n",
    "# Build the corpus using gensim     \n",
    "dictionary = gensim.corpora.Dictionary(tokenized_messages)\n",
    "msg_corpus = [dictionary.doc2bow(x) for x in tokenized_messages]\n",
    "msg_dictionary = gensim.corpora.Dictionary([])\n",
    "          \n",
    "# gensim.corpora.MmCorpus.serialize(tweets_corpus_filepath, tweets_corpus)"
   ]
  },
  {
   "cell_type": "markdown",
   "metadata": {
    "autoscroll": "json-false",
    "collapsed": false,
    "ein.tags": [
     "worksheet-0"
    ],
    "slideshow": {
     "slide_type": "-"
    }
   },
   "source": [
    "\n",
    "## Creating an Emotion Sentiment Classifier\n",
    "\n",
    "Labeled dataset provided by @crowdflower hosted on data.world. Dataset contains 40,000 tweets which are labeled as one of 13 emotions. Here I looked at the top 5 emotions, since the bottom few had very tweets by comparison, so it would be hard to get a properly split dataset on for train/testing. Probably the one i'd want to include that wasn't included yet is anger, but neutral, worry, happinness, sadness, love are pretty good starting point for emotion classification regarding news tweets.\n",
    "https://data.world/crowdflower/sentiment-analysis-in-text"
   ]
  },
  {
   "cell_type": "code",
   "execution_count": 31,
   "metadata": {
    "collapsed": false
   },
   "outputs": [],
   "source": [
    "import nltk\n",
    "from nltk.classify import NaiveBayesClassifier\n",
    "from nltk.classify import accuracy\n",
    "from nltk import WordNetLemmatizer\n",
    "lemma = nltk.WordNetLemmatizer()\n",
    "df = pd.read_csv('https://query.data.world/s/8c7bwy8c55zx1t0c4yyrnjyax')"
   ]
  },
  {
   "cell_type": "code",
   "execution_count": 49,
   "metadata": {
    "collapsed": false
   },
   "outputs": [
    {
     "name": "stdout",
     "output_type": "stream",
     "text": [
      "['neutral', 'worry', 'happiness', 'sadness', 'love', 'surprise']\n",
      "0.6429850746268657\n"
     ]
    }
   ],
   "source": [
    "emotions = list(df.groupby(\"sentiment\").agg(\"count\").sort_values(by = \"content\", ascending = False).head(6).index)\n",
    "print(emotions)\n",
    "emotion_subset = df[df['sentiment'].isin(emotions)]\n",
    "\n",
    "def format_sentence(sent):\n",
    "    ex = [i.lower() for i in sent.split()]\n",
    "    lemmas = [lemma.lemmatize(i) for i in ex]\n",
    "    \n",
    "    return {word: True for word in nltk.word_tokenize(\" \".join(lemmas))}\n",
    "\n",
    "\n",
    "def create_train_vector(row):\n",
    "    \"\"\"\n",
    "    Formats a row when used in df.apply to create a train vector to be used by a \n",
    "    Naive Bayes Classifier from the nltk library.\n",
    "    \"\"\"\n",
    "    sentiment = row[1]\n",
    "    text = row[3]\n",
    "    return [format_sentence(text), sentiment]\n",
    "\n",
    "train = emotion_subset.apply(create_train_vector, axis = 1)\n",
    "# Split off 10% of our train vector to be for test.\n",
    "\n",
    "test = train[:int(0.1*len(train))]\n",
    "train = train[int(0.9)*len(train):]\n",
    "\n",
    "emotion_classifier = NaiveBayesClassifier.train(train)\n",
    "\n",
    "print(accuracy(emotion_classifier, test))"
   ]
  },
  {
   "cell_type": "markdown",
   "metadata": {},
   "source": [
    "64% test accuracy on the test is nothing to phone home about.  It's also likely to be a lot less accurate on our data from the 4chan messages, since those will be using much different *language* than the messages in our training set."
   ]
  },
  {
   "cell_type": "code",
   "execution_count": 55,
   "metadata": {
    "collapsed": false
   },
   "outputs": [
    {
     "name": "stdout",
     "output_type": "stream",
     "text": [
      "Most Informative Features\n",
      "                  loving = True             love : worry  =     36.5 : 1.0\n",
      "                     sad = True           sadnes : happin =     31.8 : 1.0\n",
      "                   mommy = True             love : sadnes =     30.9 : 1.0\n",
      "                  stupid = True           sadnes : love   =     26.5 : 1.0\n",
      "                    hurt = True           sadnes : happin =     24.3 : 1.0\n",
      "                    moms = True             love : neutra =     23.2 : 1.0\n",
      "                 mothers = True             love : sadnes =     22.9 : 1.0\n",
      "                   wrong = True            worry : happin =     22.8 : 1.0\n",
      "                     snl = True             love : worry  =     22.7 : 1.0\n",
      "                  mother = True             love : sadnes =     22.4 : 1.0\n"
     ]
    }
   ],
   "source": [
    "emotion_classifier.show_most_informative_features()"
   ]
  },
  {
   "cell_type": "code",
   "execution_count": 43,
   "metadata": {
    "collapsed": false
   },
   "outputs": [
    {
     "name": "stdout",
     "output_type": "stream",
     "text": [
      "worry :  He is way ahead of his time.\n",
      "worry :  Mark is germoney\n",
      "love :   Welcome to the nanny state\n",
      "worry :  Why not?\n",
      "worry :  Bump\n",
      "worry :   I hope someone murders him\n",
      "worry :  wait up\n",
      "sadness :  Zoloft is shit, I took it for a year and it dindu nothin\n",
      "surprise :  jews allowed too?\n",
      "worry :  Reminder: Treason is punishable by execution.\n"
     ]
    }
   ],
   "source": [
    "for comment in full['text'].head(10):\n",
    "    print(emotion_classifier.classify(format_sentence(comment)), \": \", comment)"
   ]
  },
  {
   "cell_type": "markdown",
   "metadata": {},
   "source": [
    "Looking at this sample of 10 posts, I'm not convinced in the accuracy of this classifier on the far-right data, but out of curiosity, what did it classifer the "
   ]
  },
  {
   "cell_type": "code",
   "execution_count": 51,
   "metadata": {
    "collapsed": false
   },
   "outputs": [],
   "source": [
    "full['emotion'] = full['text'].apply(lambda x: emotion_classifier.classify(format_sentence(x)))"
   ]
  },
  {
   "cell_type": "code",
   "execution_count": 52,
   "metadata": {
    "collapsed": false
   },
   "outputs": [
    {
     "data": {
      "text/html": [
       "<div>\n",
       "<table border=\"1\" class=\"dataframe\">\n",
       "  <thead>\n",
       "    <tr style=\"text-align: right;\">\n",
       "      <th></th>\n",
       "      <th>count</th>\n",
       "    </tr>\n",
       "    <tr>\n",
       "      <th>emotion</th>\n",
       "      <th></th>\n",
       "    </tr>\n",
       "  </thead>\n",
       "  <tbody>\n",
       "    <tr>\n",
       "      <th>happiness</th>\n",
       "      <td>760</td>\n",
       "    </tr>\n",
       "    <tr>\n",
       "      <th>love</th>\n",
       "      <td>392</td>\n",
       "    </tr>\n",
       "    <tr>\n",
       "      <th>neutral</th>\n",
       "      <td>1385</td>\n",
       "    </tr>\n",
       "    <tr>\n",
       "      <th>sadness</th>\n",
       "      <td>852</td>\n",
       "    </tr>\n",
       "    <tr>\n",
       "      <th>surprise</th>\n",
       "      <td>2983</td>\n",
       "    </tr>\n",
       "    <tr>\n",
       "      <th>worry</th>\n",
       "      <td>3628</td>\n",
       "    </tr>\n",
       "  </tbody>\n",
       "</table>\n",
       "</div>"
      ],
      "text/plain": [
       "           count\n",
       "emotion         \n",
       "happiness    760\n",
       "love         392\n",
       "neutral     1385\n",
       "sadness      852\n",
       "surprise    2983\n",
       "worry       3628"
      ]
     },
     "execution_count": 52,
     "metadata": {},
     "output_type": "execute_result"
    }
   ],
   "source": [
    "grouped_emotion_messages = full.groupby('emotion').count()[[2]]\n",
    "grouped_emotion_messages.columns = [\"count\"]\n",
    "grouped_emotion_messages"
   ]
  },
  {
   "cell_type": "code",
   "execution_count": 53,
   "metadata": {
    "collapsed": false
   },
   "outputs": [
    {
     "data": {
      "text/plain": [
       "<matplotlib.axes._subplots.AxesSubplot at 0x7f6ee5b0c710>"
      ]
     },
     "execution_count": 53,
     "metadata": {},
     "output_type": "execute_result"
    },
    {
     "data": {
      "image/png": "[encoded data removed]",
      "text/plain": [
       "<matplotlib.figure.Figure at 0x7f6ee882a6a0>"
      ]
     },
     "metadata": {},
     "output_type": "display_data"
    }
   ],
   "source": [
    "grouped_emotion_messages.plot.bar()"
   ]
  },
  {
   "cell_type": "markdown",
   "metadata": {},
   "source": [
    "## Considering the dataset is extremely out of sample in regards to training data, there's no way this emotion classifier is accurate.\n",
    "\n",
    "These results do seem semi logical though, based on some knowledge of the group.  Online trolls are well known for their anger and rudeness, which could seemingly be classified as surprise and worry on a more standard data set."
   ]
  }
 ],
 "metadata": {
  "anaconda-cloud": {},
  "kernelspec": {
   "display_name": "Python [default]",
   "language": "python",
   "name": "python3"
  },
  "language_info": {
   "codemirror_mode": {
    "name": "ipython",
    "version": 3
   },
   "file_extension": ".py",
   "mimetype": "text/x-python",
   "name": "python",
   "nbconvert_exporter": "python",
   "pygments_lexer": "ipython3",
   "version": "3.5.2"
  },
  "name": "4chan-thread-exploration.ipynb"
 },
 "nbformat": 4,
 "nbformat_minor": 1
}
