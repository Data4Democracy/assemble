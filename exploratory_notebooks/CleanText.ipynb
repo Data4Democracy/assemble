{
 "cells": [
  {
   "cell_type": "code",
   "execution_count": 1,
   "metadata": {
    "collapsed": false
   },
   "outputs": [],
   "source": [
    "# Here are the imports we'll use\n",
    "import pandas as pd\n",
    "import re\n",
    "import nltk\n",
    "from nltk.stem.snowball import SnowballStemmer"
   ]
  },
  {
   "cell_type": "code",
   "execution_count": 2,
   "metadata": {
    "collapsed": false
   },
   "outputs": [],
   "source": [
    "# Let's grab all the tweets from https://data.world/data4democracy/far-right/file/sample_tweets.json. Here is the URL:\n",
    "df = pd.read_json('https://query.data.world/s/bsbt4eb4g8sm4dsgi7w2ecbkt')"
   ]
  },
  {
   "cell_type": "code",
   "execution_count": 3,
   "metadata": {
    "collapsed": false
   },
   "outputs": [
    {
     "data": {
      "text/html": [
       "<div>\n",
       "<table border=\"1\" class=\"dataframe\">\n",
       "  <thead>\n",
       "    <tr style=\"text-align: right;\">\n",
       "      <th></th>\n",
       "      <th>created</th>\n",
       "      <th>description</th>\n",
       "      <th>followers</th>\n",
       "      <th>friends_count</th>\n",
       "      <th>hashtags</th>\n",
       "      <th>id_str</th>\n",
       "      <th>loc</th>\n",
       "      <th>message</th>\n",
       "      <th>name</th>\n",
       "      <th>original_id</th>\n",
       "      <th>original_name</th>\n",
       "      <th>retweet</th>\n",
       "      <th>retweet_count</th>\n",
       "      <th>text</th>\n",
       "      <th>topics</th>\n",
       "      <th>user_created</th>\n",
       "    </tr>\n",
       "  </thead>\n",
       "  <tbody>\n",
       "    <tr>\n",
       "      <th>0</th>\n",
       "      <td>2017-01-30 02:00:02</td>\n",
       "      <td>@mashable entertainment reporter. Proud native...</td>\n",
       "      <td>7912</td>\n",
       "      <td>6742</td>\n",
       "      <td>[]</td>\n",
       "      <td>825886254981976064</td>\n",
       "      <td>Los Angeles</td>\n",
       "      <td>Was curious what was leading Breitbart. In cas...</td>\n",
       "      <td>saba_h</td>\n",
       "      <td>NaN</td>\n",
       "      <td>None</td>\n",
       "      <td>N</td>\n",
       "      <td>0</td>\n",
       "      <td>Was curious what was leading Breitbart. In cas...</td>\n",
       "      <td>[cucks, breitbart, Oath Keeper, III%, MAGA, WA...</td>\n",
       "      <td>2010-08-22 04:16:16</td>\n",
       "    </tr>\n",
       "    <tr>\n",
       "      <th>1</th>\n",
       "      <td>2017-01-30 02:00:02</td>\n",
       "      <td>Novelist/freelance editor;  Producer and Host ...</td>\n",
       "      <td>2576</td>\n",
       "      <td>2808</td>\n",
       "      <td>[]</td>\n",
       "      <td>825886256806690816</td>\n",
       "      <td>Colorado</td>\n",
       "      <td>RT @RaheemKassam: College Lecturer Punched In ...</td>\n",
       "      <td>LichenCraig</td>\n",
       "      <td>1.251287e+08</td>\n",
       "      <td>Raheem Kassam</td>\n",
       "      <td>Y</td>\n",
       "      <td>0</td>\n",
       "      <td>RT @RaheemKassam: College Lecturer Punched In ...</td>\n",
       "      <td>[cucks, breitbart, Oath Keeper, III%, MAGA, WA...</td>\n",
       "      <td>2012-01-31 03:42:35</td>\n",
       "    </tr>\n",
       "    <tr>\n",
       "      <th>2</th>\n",
       "      <td>2017-01-30 02:00:02</td>\n",
       "      <td>NJ conservative.Christian.God Bless the U.S. D...</td>\n",
       "      <td>1731</td>\n",
       "      <td>2408</td>\n",
       "      <td>[\"CrybabiesCantLead\"]</td>\n",
       "      <td>825886258283085824</td>\n",
       "      <td>None</td>\n",
       "      <td>RT @Darren32895836: Head Clown @chuckschumer p...</td>\n",
       "      <td>RostaMan09</td>\n",
       "      <td>4.761065e+09</td>\n",
       "      <td>STOCK MONSTER</td>\n",
       "      <td>Y</td>\n",
       "      <td>0</td>\n",
       "      <td>RT @Darren32895836: Head Clown @chuckschumer p...</td>\n",
       "      <td>[cucks, breitbart, Oath Keeper, III%, MAGA, WA...</td>\n",
       "      <td>2009-07-28 01:27:11</td>\n",
       "    </tr>\n",
       "    <tr>\n",
       "      <th>3</th>\n",
       "      <td>2017-01-30 02:00:02</td>\n",
       "      <td>Mother/wife~ Constitutionalist ~ conservative ...</td>\n",
       "      <td>1231</td>\n",
       "      <td>1461</td>\n",
       "      <td>[]</td>\n",
       "      <td>825886258798936064</td>\n",
       "      <td>United States</td>\n",
       "      <td>RT @Timtravels007: On 12 September 2001, Ameri...</td>\n",
       "      <td>roadtosingapore</td>\n",
       "      <td>7.275292e+17</td>\n",
       "      <td>Deplorable Tim 🇺🇸</td>\n",
       "      <td>Y</td>\n",
       "      <td>0</td>\n",
       "      <td>RT @Timtravels007: On 12 September 2001, Ameri...</td>\n",
       "      <td>[cucks, breitbart, Oath Keeper, III%, MAGA, WA...</td>\n",
       "      <td>2011-01-27 03:06:46</td>\n",
       "    </tr>\n",
       "    <tr>\n",
       "      <th>4</th>\n",
       "      <td>2017-01-30 02:00:02</td>\n",
       "      <td>#MAGA. Owner of guns and partially blind so I ...</td>\n",
       "      <td>266</td>\n",
       "      <td>343</td>\n",
       "      <td>[\"AmericaFirst\", \"TrumpCabinet\", \"PresidentTru...</td>\n",
       "      <td>825886257746149376</td>\n",
       "      <td>State Of Confusion</td>\n",
       "      <td>RT @bfraser747: 🇺🇸🇺🇸 #AmericaFirst \\n\\nStop de...</td>\n",
       "      <td>pilikianocan</td>\n",
       "      <td>2.748912e+08</td>\n",
       "      <td>Brian Fraser</td>\n",
       "      <td>Y</td>\n",
       "      <td>0</td>\n",
       "      <td>RT @bfraser747: 🇺🇸🇺🇸 #AmericaFirst \\n\\nStop de...</td>\n",
       "      <td>[cucks, breitbart, Oath Keeper, III%, MAGA, WA...</td>\n",
       "      <td>2016-06-21 19:29:25</td>\n",
       "    </tr>\n",
       "  </tbody>\n",
       "</table>\n",
       "</div>"
      ],
      "text/plain": [
       "               created                                        description  \\\n",
       "0  2017-01-30 02:00:02  @mashable entertainment reporter. Proud native...   \n",
       "1  2017-01-30 02:00:02  Novelist/freelance editor;  Producer and Host ...   \n",
       "2  2017-01-30 02:00:02  NJ conservative.Christian.God Bless the U.S. D...   \n",
       "3  2017-01-30 02:00:02  Mother/wife~ Constitutionalist ~ conservative ...   \n",
       "4  2017-01-30 02:00:02  #MAGA. Owner of guns and partially blind so I ...   \n",
       "\n",
       "   followers  friends_count  \\\n",
       "0       7912           6742   \n",
       "1       2576           2808   \n",
       "2       1731           2408   \n",
       "3       1231           1461   \n",
       "4        266            343   \n",
       "\n",
       "                                            hashtags              id_str  \\\n",
       "0                                                 []  825886254981976064   \n",
       "1                                                 []  825886256806690816   \n",
       "2                              [\"CrybabiesCantLead\"]  825886258283085824   \n",
       "3                                                 []  825886258798936064   \n",
       "4  [\"AmericaFirst\", \"TrumpCabinet\", \"PresidentTru...  825886257746149376   \n",
       "\n",
       "                  loc                                            message  \\\n",
       "0         Los Angeles  Was curious what was leading Breitbart. In cas...   \n",
       "1            Colorado  RT @RaheemKassam: College Lecturer Punched In ...   \n",
       "2                None  RT @Darren32895836: Head Clown @chuckschumer p...   \n",
       "3       United States  RT @Timtravels007: On 12 September 2001, Ameri...   \n",
       "4  State Of Confusion  RT @bfraser747: 🇺🇸🇺🇸 #AmericaFirst \\n\\nStop de...   \n",
       "\n",
       "              name   original_id      original_name retweet  retweet_count  \\\n",
       "0           saba_h           NaN               None       N              0   \n",
       "1      LichenCraig  1.251287e+08      Raheem Kassam       Y              0   \n",
       "2       RostaMan09  4.761065e+09      STOCK MONSTER       Y              0   \n",
       "3  roadtosingapore  7.275292e+17  Deplorable Tim 🇺🇸       Y              0   \n",
       "4     pilikianocan  2.748912e+08       Brian Fraser       Y              0   \n",
       "\n",
       "                                                text  \\\n",
       "0  Was curious what was leading Breitbart. In cas...   \n",
       "1  RT @RaheemKassam: College Lecturer Punched In ...   \n",
       "2  RT @Darren32895836: Head Clown @chuckschumer p...   \n",
       "3  RT @Timtravels007: On 12 September 2001, Ameri...   \n",
       "4  RT @bfraser747: 🇺🇸🇺🇸 #AmericaFirst \\n\\nStop de...   \n",
       "\n",
       "                                              topics         user_created  \n",
       "0  [cucks, breitbart, Oath Keeper, III%, MAGA, WA...  2010-08-22 04:16:16  \n",
       "1  [cucks, breitbart, Oath Keeper, III%, MAGA, WA...  2012-01-31 03:42:35  \n",
       "2  [cucks, breitbart, Oath Keeper, III%, MAGA, WA...  2009-07-28 01:27:11  \n",
       "3  [cucks, breitbart, Oath Keeper, III%, MAGA, WA...  2011-01-27 03:06:46  \n",
       "4  [cucks, breitbart, Oath Keeper, III%, MAGA, WA...  2016-06-21 19:29:25  "
      ]
     },
     "execution_count": 3,
     "metadata": {},
     "output_type": "execute_result"
    }
   ],
   "source": [
    "# Let's take a look at it\n",
    "df.head()\n",
    "# Does anyone know the difference between message and text?"
   ]
  },
  {
   "cell_type": "code",
   "execution_count": 4,
   "metadata": {
    "collapsed": false
   },
   "outputs": [
    {
     "name": "stdout",
     "output_type": "stream",
     "text": [
      "Now we have all the tweets inside a <class 'pandas.core.frame.DataFrame'>\n",
      "There are a total of 5000 tweets in our dataset\n"
     ]
    }
   ],
   "source": [
    "print('Now we have all the tweets inside a {}'.format(type(df)))\n",
    "print('There are a total of {} tweets in our dataset'.format(len(df)))"
   ]
  },
  {
   "cell_type": "code",
   "execution_count": 5,
   "metadata": {
    "collapsed": false
   },
   "outputs": [
    {
     "name": "stdout",
     "output_type": "stream",
     "text": [
      "Here are the columns we have: \n",
      "   Index(['created', 'description', 'followers', 'friends_count', 'hashtags',\n",
      "       'id_str', 'loc', 'message', 'name', 'original_id', 'original_name',\n",
      "       'retweet', 'retweet_count', 'text', 'topics', 'user_created'],\n",
      "      dtype='object')\n"
     ]
    }
   ],
   "source": [
    "# Let's see what different columns we have\n",
    "print('Here are the columns we have: \\n   {}'.format(df.columns))"
   ]
  },
  {
   "cell_type": "markdown",
   "metadata": {
    "collapsed": true
   },
   "source": [
    "It looks like the topics section is the same for all tweets. These were the search terms used to collect the data"
   ]
  },
  {
   "cell_type": "code",
   "execution_count": 6,
   "metadata": {
    "collapsed": false
   },
   "outputs": [],
   "source": [
    "# Let's start by tokenizing all the words\n",
    "df['tokenized'] = df['text'].apply (lambda row: nltk.word_tokenize(row))"
   ]
  },
  {
   "cell_type": "code",
   "execution_count": 7,
   "metadata": {
    "collapsed": false
   },
   "outputs": [],
   "source": [
    "# Let's add part of speech tags. This function can take a bit of time if it's a large dataset\n",
    "df['tags']=df['tokenized'].apply(lambda row: nltk.pos_tag(row))"
   ]
  },
  {
   "cell_type": "code",
   "execution_count": 8,
   "metadata": {
    "collapsed": false
   },
   "outputs": [],
   "source": [
    "# Now let's remove stop words (e.g. and, to, an, etc.)\n",
    "# We'll build a little function for that\n",
    "def remove_stop_words(text):\n",
    "    filtered = [word for word in text if word not in nltk.corpus.stopwords.words('english')]\n",
    "    return filtered\n",
    "\n",
    "df['no_stop'] = df['tokenized'].apply(lambda row: remove_stop_words(row))"
   ]
  },
  {
   "cell_type": "code",
   "execution_count": 9,
   "metadata": {
    "collapsed": true
   },
   "outputs": [],
   "source": [
    "# Now we can stem the remaining words\n",
    "stemmer = SnowballStemmer(\"english\")\n",
    "df['stems'] = df['no_stop'].apply(lambda words: \n",
    "                                    [stemmer.stem(word) for word in words])"
   ]
  },
  {
   "cell_type": "code",
   "execution_count": 10,
   "metadata": {
    "collapsed": false
   },
   "outputs": [
    {
     "data": {
      "text/html": [
       "<div>\n",
       "<table border=\"1\" class=\"dataframe\">\n",
       "  <thead>\n",
       "    <tr style=\"text-align: right;\">\n",
       "      <th></th>\n",
       "      <th>created</th>\n",
       "      <th>description</th>\n",
       "      <th>followers</th>\n",
       "      <th>friends_count</th>\n",
       "      <th>hashtags</th>\n",
       "      <th>id_str</th>\n",
       "      <th>loc</th>\n",
       "      <th>message</th>\n",
       "      <th>name</th>\n",
       "      <th>original_id</th>\n",
       "      <th>original_name</th>\n",
       "      <th>retweet</th>\n",
       "      <th>retweet_count</th>\n",
       "      <th>text</th>\n",
       "      <th>topics</th>\n",
       "      <th>user_created</th>\n",
       "      <th>tokenized</th>\n",
       "      <th>tags</th>\n",
       "      <th>no_stop</th>\n",
       "      <th>stems</th>\n",
       "    </tr>\n",
       "  </thead>\n",
       "  <tbody>\n",
       "    <tr>\n",
       "      <th>0</th>\n",
       "      <td>2017-01-30 02:00:02</td>\n",
       "      <td>@mashable entertainment reporter. Proud native...</td>\n",
       "      <td>7912</td>\n",
       "      <td>6742</td>\n",
       "      <td>[]</td>\n",
       "      <td>825886254981976064</td>\n",
       "      <td>Los Angeles</td>\n",
       "      <td>Was curious what was leading Breitbart. In cas...</td>\n",
       "      <td>saba_h</td>\n",
       "      <td>NaN</td>\n",
       "      <td>None</td>\n",
       "      <td>N</td>\n",
       "      <td>0</td>\n",
       "      <td>Was curious what was leading Breitbart. In cas...</td>\n",
       "      <td>[cucks, breitbart, Oath Keeper, III%, MAGA, WA...</td>\n",
       "      <td>2010-08-22 04:16:16</td>\n",
       "      <td>[Was, curious, what, was, leading, Breitbart, ...</td>\n",
       "      <td>[(Was, NNP), (curious, JJ), (what, WP), (was, ...</td>\n",
       "      <td>[Was, curious, leading, Breitbart, ., In, case...</td>\n",
       "      <td>[was, curious, lead, breitbart, ., in, case, ,...</td>\n",
       "    </tr>\n",
       "    <tr>\n",
       "      <th>1</th>\n",
       "      <td>2017-01-30 02:00:02</td>\n",
       "      <td>Novelist/freelance editor;  Producer and Host ...</td>\n",
       "      <td>2576</td>\n",
       "      <td>2808</td>\n",
       "      <td>[]</td>\n",
       "      <td>825886256806690816</td>\n",
       "      <td>Colorado</td>\n",
       "      <td>RT @RaheemKassam: College Lecturer Punched In ...</td>\n",
       "      <td>LichenCraig</td>\n",
       "      <td>1.251287e+08</td>\n",
       "      <td>Raheem Kassam</td>\n",
       "      <td>Y</td>\n",
       "      <td>0</td>\n",
       "      <td>RT @RaheemKassam: College Lecturer Punched In ...</td>\n",
       "      <td>[cucks, breitbart, Oath Keeper, III%, MAGA, WA...</td>\n",
       "      <td>2012-01-31 03:42:35</td>\n",
       "      <td>[RT, @, RaheemKassam, :, College, Lecturer, Pu...</td>\n",
       "      <td>[(RT, NNP), (@, NNP), (RaheemKassam, NNP), (:,...</td>\n",
       "      <td>[RT, @, RaheemKassam, :, College, Lecturer, Pu...</td>\n",
       "      <td>[rt, @, raheemkassam, :, colleg, lectur, punch...</td>\n",
       "    </tr>\n",
       "    <tr>\n",
       "      <th>2</th>\n",
       "      <td>2017-01-30 02:00:02</td>\n",
       "      <td>NJ conservative.Christian.God Bless the U.S. D...</td>\n",
       "      <td>1731</td>\n",
       "      <td>2408</td>\n",
       "      <td>[\"CrybabiesCantLead\"]</td>\n",
       "      <td>825886258283085824</td>\n",
       "      <td>None</td>\n",
       "      <td>RT @Darren32895836: Head Clown @chuckschumer p...</td>\n",
       "      <td>RostaMan09</td>\n",
       "      <td>4.761065e+09</td>\n",
       "      <td>STOCK MONSTER</td>\n",
       "      <td>Y</td>\n",
       "      <td>0</td>\n",
       "      <td>RT @Darren32895836: Head Clown @chuckschumer p...</td>\n",
       "      <td>[cucks, breitbart, Oath Keeper, III%, MAGA, WA...</td>\n",
       "      <td>2009-07-28 01:27:11</td>\n",
       "      <td>[RT, @, Darren32895836, :, Head, Clown, @, chu...</td>\n",
       "      <td>[(RT, NNP), (@, NNP), (Darren32895836, NNP), (...</td>\n",
       "      <td>[RT, @, Darren32895836, :, Head, Clown, @, chu...</td>\n",
       "      <td>[rt, @, darren32895836, :, head, clown, @, chu...</td>\n",
       "    </tr>\n",
       "    <tr>\n",
       "      <th>3</th>\n",
       "      <td>2017-01-30 02:00:02</td>\n",
       "      <td>Mother/wife~ Constitutionalist ~ conservative ...</td>\n",
       "      <td>1231</td>\n",
       "      <td>1461</td>\n",
       "      <td>[]</td>\n",
       "      <td>825886258798936064</td>\n",
       "      <td>United States</td>\n",
       "      <td>RT @Timtravels007: On 12 September 2001, Ameri...</td>\n",
       "      <td>roadtosingapore</td>\n",
       "      <td>7.275292e+17</td>\n",
       "      <td>Deplorable Tim 🇺🇸</td>\n",
       "      <td>Y</td>\n",
       "      <td>0</td>\n",
       "      <td>RT @Timtravels007: On 12 September 2001, Ameri...</td>\n",
       "      <td>[cucks, breitbart, Oath Keeper, III%, MAGA, WA...</td>\n",
       "      <td>2011-01-27 03:06:46</td>\n",
       "      <td>[RT, @, Timtravels007, :, On, 12, September, 2...</td>\n",
       "      <td>[(RT, NNP), (@, NNP), (Timtravels007, NNP), (:...</td>\n",
       "      <td>[RT, @, Timtravels007, :, On, 12, September, 2...</td>\n",
       "      <td>[rt, @, timtravels007, :, on, 12, septemb, 200...</td>\n",
       "    </tr>\n",
       "    <tr>\n",
       "      <th>4</th>\n",
       "      <td>2017-01-30 02:00:02</td>\n",
       "      <td>#MAGA. Owner of guns and partially blind so I ...</td>\n",
       "      <td>266</td>\n",
       "      <td>343</td>\n",
       "      <td>[\"AmericaFirst\", \"TrumpCabinet\", \"PresidentTru...</td>\n",
       "      <td>825886257746149376</td>\n",
       "      <td>State Of Confusion</td>\n",
       "      <td>RT @bfraser747: 🇺🇸🇺🇸 #AmericaFirst \\n\\nStop de...</td>\n",
       "      <td>pilikianocan</td>\n",
       "      <td>2.748912e+08</td>\n",
       "      <td>Brian Fraser</td>\n",
       "      <td>Y</td>\n",
       "      <td>0</td>\n",
       "      <td>RT @bfraser747: 🇺🇸🇺🇸 #AmericaFirst \\n\\nStop de...</td>\n",
       "      <td>[cucks, breitbart, Oath Keeper, III%, MAGA, WA...</td>\n",
       "      <td>2016-06-21 19:29:25</td>\n",
       "      <td>[RT, @, bfraser747, :, 🇺🇸🇺🇸, #, AmericaFirst, ...</td>\n",
       "      <td>[(RT, NNP), (@, NNP), (bfraser747, NN), (:, :)...</td>\n",
       "      <td>[RT, @, bfraser747, :, 🇺🇸🇺🇸, #, AmericaFirst, ...</td>\n",
       "      <td>[rt, @, bfraser747, :, 🇺🇸🇺🇸, #, americafirst, ...</td>\n",
       "    </tr>\n",
       "  </tbody>\n",
       "</table>\n",
       "</div>"
      ],
      "text/plain": [
       "               created                                        description  \\\n",
       "0  2017-01-30 02:00:02  @mashable entertainment reporter. Proud native...   \n",
       "1  2017-01-30 02:00:02  Novelist/freelance editor;  Producer and Host ...   \n",
       "2  2017-01-30 02:00:02  NJ conservative.Christian.God Bless the U.S. D...   \n",
       "3  2017-01-30 02:00:02  Mother/wife~ Constitutionalist ~ conservative ...   \n",
       "4  2017-01-30 02:00:02  #MAGA. Owner of guns and partially blind so I ...   \n",
       "\n",
       "   followers  friends_count  \\\n",
       "0       7912           6742   \n",
       "1       2576           2808   \n",
       "2       1731           2408   \n",
       "3       1231           1461   \n",
       "4        266            343   \n",
       "\n",
       "                                            hashtags              id_str  \\\n",
       "0                                                 []  825886254981976064   \n",
       "1                                                 []  825886256806690816   \n",
       "2                              [\"CrybabiesCantLead\"]  825886258283085824   \n",
       "3                                                 []  825886258798936064   \n",
       "4  [\"AmericaFirst\", \"TrumpCabinet\", \"PresidentTru...  825886257746149376   \n",
       "\n",
       "                  loc                                            message  \\\n",
       "0         Los Angeles  Was curious what was leading Breitbart. In cas...   \n",
       "1            Colorado  RT @RaheemKassam: College Lecturer Punched In ...   \n",
       "2                None  RT @Darren32895836: Head Clown @chuckschumer p...   \n",
       "3       United States  RT @Timtravels007: On 12 September 2001, Ameri...   \n",
       "4  State Of Confusion  RT @bfraser747: 🇺🇸🇺🇸 #AmericaFirst \\n\\nStop de...   \n",
       "\n",
       "              name   original_id      original_name retweet  retweet_count  \\\n",
       "0           saba_h           NaN               None       N              0   \n",
       "1      LichenCraig  1.251287e+08      Raheem Kassam       Y              0   \n",
       "2       RostaMan09  4.761065e+09      STOCK MONSTER       Y              0   \n",
       "3  roadtosingapore  7.275292e+17  Deplorable Tim 🇺🇸       Y              0   \n",
       "4     pilikianocan  2.748912e+08       Brian Fraser       Y              0   \n",
       "\n",
       "                                                text  \\\n",
       "0  Was curious what was leading Breitbart. In cas...   \n",
       "1  RT @RaheemKassam: College Lecturer Punched In ...   \n",
       "2  RT @Darren32895836: Head Clown @chuckschumer p...   \n",
       "3  RT @Timtravels007: On 12 September 2001, Ameri...   \n",
       "4  RT @bfraser747: 🇺🇸🇺🇸 #AmericaFirst \\n\\nStop de...   \n",
       "\n",
       "                                              topics         user_created  \\\n",
       "0  [cucks, breitbart, Oath Keeper, III%, MAGA, WA...  2010-08-22 04:16:16   \n",
       "1  [cucks, breitbart, Oath Keeper, III%, MAGA, WA...  2012-01-31 03:42:35   \n",
       "2  [cucks, breitbart, Oath Keeper, III%, MAGA, WA...  2009-07-28 01:27:11   \n",
       "3  [cucks, breitbart, Oath Keeper, III%, MAGA, WA...  2011-01-27 03:06:46   \n",
       "4  [cucks, breitbart, Oath Keeper, III%, MAGA, WA...  2016-06-21 19:29:25   \n",
       "\n",
       "                                           tokenized  \\\n",
       "0  [Was, curious, what, was, leading, Breitbart, ...   \n",
       "1  [RT, @, RaheemKassam, :, College, Lecturer, Pu...   \n",
       "2  [RT, @, Darren32895836, :, Head, Clown, @, chu...   \n",
       "3  [RT, @, Timtravels007, :, On, 12, September, 2...   \n",
       "4  [RT, @, bfraser747, :, 🇺🇸🇺🇸, #, AmericaFirst, ...   \n",
       "\n",
       "                                                tags  \\\n",
       "0  [(Was, NNP), (curious, JJ), (what, WP), (was, ...   \n",
       "1  [(RT, NNP), (@, NNP), (RaheemKassam, NNP), (:,...   \n",
       "2  [(RT, NNP), (@, NNP), (Darren32895836, NNP), (...   \n",
       "3  [(RT, NNP), (@, NNP), (Timtravels007, NNP), (:...   \n",
       "4  [(RT, NNP), (@, NNP), (bfraser747, NN), (:, :)...   \n",
       "\n",
       "                                             no_stop  \\\n",
       "0  [Was, curious, leading, Breitbart, ., In, case...   \n",
       "1  [RT, @, RaheemKassam, :, College, Lecturer, Pu...   \n",
       "2  [RT, @, Darren32895836, :, Head, Clown, @, chu...   \n",
       "3  [RT, @, Timtravels007, :, On, 12, September, 2...   \n",
       "4  [RT, @, bfraser747, :, 🇺🇸🇺🇸, #, AmericaFirst, ...   \n",
       "\n",
       "                                               stems  \n",
       "0  [was, curious, lead, breitbart, ., in, case, ,...  \n",
       "1  [rt, @, raheemkassam, :, colleg, lectur, punch...  \n",
       "2  [rt, @, darren32895836, :, head, clown, @, chu...  \n",
       "3  [rt, @, timtravels007, :, on, 12, septemb, 200...  \n",
       "4  [rt, @, bfraser747, :, 🇺🇸🇺🇸, #, americafirst, ...  "
      ]
     },
     "execution_count": 10,
     "metadata": {},
     "output_type": "execute_result"
    }
   ],
   "source": [
    "# OK, let's take another look at the dataframe\n",
    "df.head()"
   ]
  },
  {
   "cell_type": "code",
   "execution_count": 11,
   "metadata": {
    "collapsed": false
   },
   "outputs": [
    {
     "name": "stdout",
     "output_type": "stream",
     "text": [
      "SnowballStemmer\t df\t nltk\t pd\t re\t remove_stop_words\t stemmer\t \n"
     ]
    }
   ],
   "source": [
    "# Let's see what variables we have so we know what to store for other datasets\n",
    "%who"
   ]
  },
  {
   "cell_type": "code",
   "execution_count": 12,
   "metadata": {
    "collapsed": false
   },
   "outputs": [
    {
     "name": "stdout",
     "output_type": "stream",
     "text": [
      "Stored 'df' (DataFrame)\n"
     ]
    }
   ],
   "source": [
    "# Since we add everything to the dataframe that's the only thing that appears to be worth storing\n",
    "%store df"
   ]
  },
  {
   "cell_type": "markdown",
   "metadata": {},
   "source": [
    "To access this dataframe from another notebook, simply run this notebook from your other notebook with this command:\n",
    "%run ./CleanText.ipynb\n",
    "\n",
    "Then, to load a variable use this command:\n",
    "%store -r df\n",
    "\n",
    "You can look at the Hashtag Analysis notebook for an example."
   ]
  }
 ],
 "metadata": {
  "kernelspec": {
   "display_name": "Python [conda root]",
   "language": "python",
   "name": "conda-root-py"
  },
  "language_info": {
   "codemirror_mode": {
    "name": "ipython",
    "version": 3
   },
   "file_extension": ".py",
   "mimetype": "text/x-python",
   "name": "python",
   "nbconvert_exporter": "python",
   "pygments_lexer": "ipython3",
   "version": "3.5.2"
  }
 },
 "nbformat": 4,
 "nbformat_minor": 2
}
