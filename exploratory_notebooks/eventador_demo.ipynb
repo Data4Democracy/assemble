{
 "cells": [
  {
   "cell_type": "code",
   "execution_count": 1,
   "metadata": {
    "collapsed": false
   },
   "outputs": [],
   "source": [
    "from kafka import KafkaConsumer\n",
    "import uuid\n",
    "import json"
   ]
  },
  {
   "cell_type": "code",
   "execution_count": 2,
   "metadata": {
    "collapsed": false
   },
   "outputs": [],
   "source": [
    "consumer = KafkaConsumer(bootstrap_servers='', \n",
    "                         value_deserializer=lambda s: json.loads(s, encoding='utf-8'), \n",
    "                         auto_offset_reset='smallest', \n",
    "                         group_id=uuid.uuid4()) "
   ]
  },
  {
   "cell_type": "code",
   "execution_count": 3,
   "metadata": {
    "collapsed": false
   },
   "outputs": [],
   "source": [
    "consumer.subscribe(['tweets'])\n"
   ]
  },
  {
   "cell_type": "code",
   "execution_count": 4,
   "metadata": {
    "collapsed": false
   },
   "outputs": [],
   "source": [
    "limit = 1000\n",
    "consumer.poll(max_records=limit)\n",
    "count = 0\n",
    "data = []\n",
    "for msg in consumer:\n",
    "    data.append(msg.value)\n",
    "    count += 1\n",
    "    if count >= limit:\n",
    "        break"
   ]
  },
  {
   "cell_type": "code",
   "execution_count": 5,
   "metadata": {
    "collapsed": false
   },
   "outputs": [
    {
     "data": {
      "text/plain": [
       "1000"
      ]
     },
     "execution_count": 5,
     "metadata": {},
     "output_type": "execute_result"
    }
   ],
   "source": [
    "len(data)"
   ]
  },
  {
   "cell_type": "code",
   "execution_count": 6,
   "metadata": {
    "collapsed": false
   },
   "outputs": [
    {
     "data": {
      "text/plain": [
       "{u'created': u'2017-02-04 02:18:54',\n",
       " u'description': u'Addicted to News, Music, Cooking, Gardens, Outdoors, Tennis, Hunting, Politics, Living and Laughing with Family & Friends...',\n",
       " u'followers': 527,\n",
       " u'friends_count': 119,\n",
       " u'hashtags': u'[]',\n",
       " u'id_str': u'827702943428272128',\n",
       " u'loc': u'USA',\n",
       " u'message': u'RT @Nowsolarwa: Steve Bannon hires two racist Breitbart writers for White House policy positions https://t.co/iwwKeQH5Tu via @PalmerReport',\n",
       " u'name': u'DrWAVeSportCd1',\n",
       " u'original_id': 2707322102,\n",
       " u'original_name': u'Now!Solar',\n",
       " u'retweet': u'Y',\n",
       " u'retweet_count': 0,\n",
       " u'text': u'RT @Nowsolarwa: Steve Bannon hires two racist Breitbart writers for White House policy positions https://t.co/iwwKeQH5Tu via @PalmerReport',\n",
       " u'topics': [u'cucks', u'breitbart'],\n",
       " u'user_created': u'2013-08-04 21:07:08'}"
      ]
     },
     "execution_count": 6,
     "metadata": {},
     "output_type": "execute_result"
    }
   ],
   "source": [
    "data[0]"
   ]
  },
  {
   "cell_type": "code",
   "execution_count": 15,
   "metadata": {
    "collapsed": true
   },
   "outputs": [],
   "source": [
    "import ast, itertools \n",
    "from dateutil import parser"
   ]
  },
  {
   "cell_type": "code",
   "execution_count": 28,
   "metadata": {
    "collapsed": false
   },
   "outputs": [],
   "source": [
    "hashtags = []\n",
    "for tweet in data:\n",
    "    hashtag = tweet.get('hashtags')\n",
    "    created = tweet.get('created')\n",
    "    if hashtag is not None and hashtag != u'[]':\n",
    "        hashtags.append((ast.literal_eval(hashtag), parser.parse(created)))\n",
    "\n",
    "hashtag_date = [(item.lower(), date) for sublist, date in hashtags for item in sublist]"
   ]
  },
  {
   "cell_type": "code",
   "execution_count": 10,
   "metadata": {
    "collapsed": true
   },
   "outputs": [],
   "source": [
    "consumer.close()"
   ]
  }
 ],
 "metadata": {
  "kernelspec": {
   "display_name": "Python 2",
   "language": "python",
   "name": "python2"
  },
  "language_info": {
   "codemirror_mode": {
    "name": "ipython",
    "version": 2
   },
   "file_extension": ".py",
   "mimetype": "text/x-python",
   "name": "python",
   "nbconvert_exporter": "python",
   "pygments_lexer": "ipython2",
   "version": "2.7.13"
  }
 },
 "nbformat": 4,
 "nbformat_minor": 2
}
