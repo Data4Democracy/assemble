{
 "cells": [
  {
   "cell_type": "code",
   "execution_count": 83,
   "metadata": {
    "collapsed": true
   },
   "outputs": [],
   "source": [
    "import sys\n",
    "import json\n",
    "import time\n",
    "import string\n",
    "\n",
    "from tweepy import API\n",
    "from tweepy import OAuthHandler\n",
    "\n",
    "from tweepy import Cursor\n",
    "\n",
    "from tweepy import Stream\n",
    "from tweepy.streaming import StreamListener"
   ]
  },
  {
   "cell_type": "markdown",
   "metadata": {},
   "source": [
    "# Accessing Twitter Data\n",
    "* Authentication\n",
    " * Performed using  `Open Authorization (OAuth)` which involves communication between the user, the consumer (app) and the resource provider (Twitter in this case). \n",
    "* Data Collection\n",
    "* Data Cleaning\n",
    "\n",
    "\n",
    "## API\n",
    "* REST (Representational State Transfer) APIs \n",
    " * Allow us to read already existing Tweets. Keep in mind that there are limits on har far back in time we can search.\n",
    " * Useful for looking at a certain user.\n",
    "* Streaming APIs\n",
    " * Allow us to retrieve all the tweets that have been published since we opened an HTTP connection.\n",
    " * useful for listening to a live event.\n",
    " \n",
    "`Tweepy` is a Python client used to implement different types of calls to the desired API."
   ]
  },
  {
   "cell_type": "markdown",
   "metadata": {},
   "source": [
    "# Your twitter API keys and tokens  \n",
    "\n",
    "In order to access Twitter data we need to go to the [Application Management Page](https://apps.twitter.com/) to register your APP.\n",
    "\n",
    "Your [Keys and Access Tokens](https://dev.twitter.com/oauth/overview) will be available once your app is registered.\n",
    "\n",
    "For more information look [here](https://dev.twitter.com/)."
   ]
  },
  {
   "cell_type": "code",
   "execution_count": 84,
   "metadata": {
    "collapsed": true
   },
   "outputs": [],
   "source": [
    "from config import *\n",
    "\n",
    "# contents of config.py\n",
    "\n",
    "# consumer_key    = 'XXXXXXXXXXXXXXXXXXXXX'\n",
    "# consumer_secret = 'XXXXXXXXXXXXXXXXXXXXX' \n",
    "# access_token    = 'XXXXXXXXXXXXXXXXXXXXX'\n",
    "# access_secret   = 'XXXXXXXXXXXXXXXXXXXXX'"
   ]
  },
  {
   "cell_type": "code",
   "execution_count": 85,
   "metadata": {
    "collapsed": false
   },
   "outputs": [],
   "source": [
    "# Authentication\n",
    "def get_twitter_auth():\n",
    "    \"\"\"Setup Twitter Authentication.\n",
    "    \n",
    "    Return: tweepy.OAuthHandler object\n",
    "    \"\"\"\n",
    "    auth = OAuthHandler(consumer_key, consumer_secret)\n",
    "    auth.set_access_token(access_token, access_secret)\n",
    "    return auth\n",
    "    \n",
    "def get_twitter_client():\n",
    "    \"\"\"Setup Twitter API Client.\n",
    "    \n",
    "    Return: tweepy.API object\n",
    "    \"\"\"\n",
    "    auth = get_twitter_auth()\n",
    "    client = API(auth)\n",
    "    return client\n",
    "\n",
    "client = get_twitter_client()"
   ]
  },
  {
   "cell_type": "markdown",
   "metadata": {},
   "source": [
    "# REST API"
   ]
  },
  {
   "cell_type": "markdown",
   "metadata": {},
   "source": [
    "## Going through Timelines"
   ]
  },
  {
   "cell_type": "code",
   "execution_count": 86,
   "metadata": {
    "collapsed": false,
    "scrolled": true
   },
   "outputs": [
    {
     "name": "stdout",
     "output_type": "stream",
     "text": [
      "1.)   RT @TimOfLegend: If you could make a human centipede using only 3-headed dogs, it could be a fun way to teach fractals to kids.\n",
      "\n",
      "2.)   Trump, Putin, &amp; the hidden history of how Russia interfered in the US Presidential election: https://t.co/BxfjkMDLev #RussiaHacking #Estonia\n",
      "\n",
      "3.)   I might have to try something like this in my DSP class.\n",
      "\n",
      "https://t.co/9c3dwVzVe0\n",
      "\n",
      "4.)   When it comes to #Healthcare, #BigData is a Big Deal: https://t.co/yDg6tdtvwQ #Analytics #HealthIT #DataScience… https://t.co/SdBVKE96Cn\n",
      "\n",
      "5.)   TV dilemma? #NFCChampionship or #MythBustersSearch testing a classic w/explosives. We've got encores, https://t.co/EmwEYkpkfn &amp; your DVR.\n",
      "\n"
     ]
    }
   ],
   "source": [
    "time.sleep(900) # sleep for 15 mins.\n",
    "\n",
    "for i, status in enumerate(Cursor(client.home_timeline).items(5)): \n",
    "    print('{0}.)   {1}\\n'.format(i+1, status.text))"
   ]
  },
  {
   "cell_type": "markdown",
   "metadata": {},
   "source": [
    "## Getting Tweets"
   ]
  },
  {
   "cell_type": "code",
   "execution_count": 90,
   "metadata": {
    "collapsed": false
   },
   "outputs": [],
   "source": [
    "\"\"\"If you get: TweepError: Twitter error response: status code = 429\n",
    "Then you have exceeded your\n",
    "\"\"\"\n",
    "with open('home_timeline.jsonl','w') as f:\n",
    "    for page in Cursor(client.home_timeline, count=200).pages(4): # limit of 800 for you\n",
    "        for status in page:\n",
    "            f.write(json.dumps(status._json)+'\\n')\n",
    "            \n",
    "#with open('home_timeline.txt','w') as f:\n",
    "#    for page in Cursor(client.home_timeline, count=200).pages(4): # limit of 3200 for other user\n",
    "#        for status in page:\n",
    "#            f.write(json.dumps(status.text) +'\\n')"
   ]
  },
  {
   "cell_type": "code",
   "execution_count": 95,
   "metadata": {
    "collapsed": false
   },
   "outputs": [],
   "source": [
    "user = 'kdnuggets'\n",
    "fname = 'usr_timeline_{}.jsonl'.format(user)\n",
    "with open(fname, 'w') as f:\n",
    "    for page in Cursor(client.user_timeline, screen_name=user, count=200).pages(16): # limit of 3200 for other user\n",
    "        for status in page:\n",
    "            f.write(json.dumps(status._json)+'\\n')"
   ]
  },
  {
   "cell_type": "markdown",
   "metadata": {},
   "source": [
    "# Streaming API"
   ]
  },
  {
   "cell_type": "markdown",
   "metadata": {},
   "source": [
    "* `MyListener` is an extension of `tweepy.StreamListener`. \n",
    "\n",
    "* This basic implementation overides the two methods `on_data()` and `on_error()`.\n",
    "\n",
    "* Notice that the return type of the class methods is a Boolean - `True` continues streaming, `False` stops the streaming."
   ]
  },
  {
   "cell_type": "code",
   "execution_count": 111,
   "metadata": {
    "collapsed": false
   },
   "outputs": [],
   "source": [
    "#time.sleep(900) # sleep for 15 mins.\n",
    "\n",
    "class MyListener(StreamListener):\n",
    "    \"\"\"Streaming Twitter Data.\"\"\"\n",
    "    \n",
    "    def __init__(self, fname):\n",
    "        safe_fname = self.format_filename(fname)\n",
    "        self.outfile = 'stream_{}.jsonl'.format(safe_fname)\n",
    "    \n",
    "    @staticmethod\n",
    "    def format_filename(fname):\n",
    "        \"\"\"Convert fname into safe string for file name.\n",
    "        \n",
    "        Return: string\n",
    "        \"\"\"\n",
    "        return ''.join(MyListener.convert_valid(one_char) for one_char in fname)\n",
    "    \n",
    "    @staticmethod\n",
    "    def convert_valid(one_char):\n",
    "        \"\"\"Convert invalid characters into '_'\n",
    "        \n",
    "        Return: string\n",
    "        \"\"\"\n",
    "        valid_chars = '-_.{0}{1}'.format(string.ascii_letters, string.digits)\n",
    "        if one_char in valid_chars:\n",
    "            return one_char\n",
    "        else:\n",
    "            return '_'\n",
    "        \n",
    "    def on_data(self, data):\n",
    "        try:\n",
    "            with open(self.outfile, 'a') as f:\n",
    "                f.write(data)\n",
    "                return True\n",
    "        except BaseException as e:\n",
    "            sys.stderr.write('Error on_data: {}'.format(e))\n",
    "            time.sleep(5)\n",
    "        return True\n",
    "    \n",
    "    def on_error(self, status):\n",
    "        if status==420:\n",
    "            sys.stderr.write('Rate limit exceeded\\n'.format(status))\n",
    "            return False\n",
    "        else:\n",
    "            sys.stderr.write('Error\\n'.format(status))\n",
    "            return True\n",
    "                "
   ]
  },
  {
   "cell_type": "code",
   "execution_count": 124,
   "metadata": {
    "collapsed": false
   },
   "outputs": [],
   "source": [
    "query = ['#Python', '#DataScience']\n",
    "query_name = ''.join(query)\n",
    "\n",
    "auth = get_twitter_auth()\n",
    "twitter_stream = Stream(auth, MyListener(query_name))\n",
    "\n",
    "twitter_stream.filter(track=query, async=True)"
   ]
  },
  {
   "cell_type": "markdown",
   "metadata": {},
   "source": [
    "# Visualization"
   ]
  },
  {
   "cell_type": "code",
   "execution_count": 135,
   "metadata": {
    "collapsed": true
   },
   "outputs": [],
   "source": [
    "import numpy as np\n",
    "import pandas as pd\n",
    "import matplotlib.pyplot as plt\n",
    "import matplotlib.dates as mdates"
   ]
  },
  {
   "cell_type": "code",
   "execution_count": 136,
   "metadata": {
    "collapsed": false
   },
   "outputs": [],
   "source": [
    "fname = 'stream__Python_DataScience.jsonl'\n",
    "with open(fname, 'r') as f:\n",
    "    all_dates = []\n",
    "    for line in f:\n",
    "        tweet = json.loads(line)\n",
    "        all_dates.append(tweet.get('created_at'))\n",
    "        \n",
    "    idx = pd.DatetimeIndex(all_dates)\n",
    "    ones = np.ones(len(all_dates))\n",
    "    my_series = pd.Series(ones, index=idx)\n",
    "    per_minute = my_series.resample('1Min').sum().fillna(0)"
   ]
  },
  {
   "cell_type": "code",
   "execution_count": 145,
   "metadata": {
    "collapsed": false
   },
   "outputs": [
    {
     "data": {
      "image/png": "[encoded data removed]",
      "text/plain": [
       "<matplotlib.figure.Figure at 0x7fca28026400>"
      ]
     },
     "metadata": {},
     "output_type": "display_data"
    }
   ],
   "source": [
    "fig, ax = plt.subplots()\n",
    "\n",
    "ax.plot(per_minute.index, per_minute)\n",
    "\n",
    "plt.grid(True)\n",
    "plt.title('Tweets Frequencies')\n",
    "plt.ylabel('Frequency')\n",
    "\n",
    "hours = mdates.MinuteLocator(interval=2)\n",
    "date_formatter = mdates.DateFormatter('%H:%M')\n",
    "\n",
    "ax.xaxis.set_major_locator(hours)\n",
    "ax.xaxis.set_major_formatter(date_formatter)\n",
    "max_freq = per_minute.max()\n",
    "ax.set_ylim(0, max_freq)\n",
    "\n",
    "plt.show();"
   ]
  },
  {
   "cell_type": "markdown",
   "metadata": {},
   "source": [
    "# Anatomy of a Tweet\n",
    "\n",
    "This will come in handy when doing more analysis."
   ]
  },
  {
   "cell_type": "code",
   "execution_count": 87,
   "metadata": {
    "collapsed": false
   },
   "outputs": [
    {
     "name": "stdout",
     "output_type": "stream",
     "text": [
      "{\n",
      "    \"retweet_count\": 9,\n",
      "    \"id\": 820451940912037888,\n",
      "    \"in_reply_to_user_id\": null,\n",
      "    \"in_reply_to_screen_name\": null,\n",
      "    \"user\": {\n",
      "        \"profile_image_url_https\": \"https://pbs.twimg.com/profile_images/702521133732597760/8b-V29CP_normal.jpg\",\n",
      "        \"id\": 15840592,\n",
      "        \"profile_image_url\": \"http://pbs.twimg.com/profile_images/702521133732597760/8b-V29CP_normal.jpg\",\n",
      "        \"description\": \"Wearing 1000 Hats/Minute. Yak Barber. Building None and NOWHERE. Earlier on: Demoscene (Neuro / Farbrausch). Married to @sylvia_ritter and @duangle.   133547455\",\n",
      "        \"favourites_count\": 72955,\n",
      "        \"follow_request_sent\": false,\n",
      "        \"profile_sidebar_border_color\": \"000000\",\n",
      "        \"followers_count\": 4614,\n",
      "        \"geo_enabled\": false,\n",
      "        \"utc_offset\": 3600,\n",
      "        \"default_profile_image\": false,\n",
      "        \"profile_sidebar_fill_color\": \"FFFFFF\",\n",
      "        \"profile_text_color\": \"000000\",\n",
      "        \"notifications\": false,\n",
      "        \"profile_background_tile\": false,\n",
      "        \"profile_link_color\": \"230085\",\n",
      "        \"listed_count\": 350,\n",
      "        \"id_str\": \"15840592\",\n",
      "        \"time_zone\": \"Bern\",\n",
      "        \"profile_use_background_image\": false,\n",
      "        \"protected\": false,\n",
      "        \"translator_type\": \"regular\",\n",
      "        \"profile_background_image_url_https\": \"https://pbs.twimg.com/profile_background_images/378800000167314015/k9sKo4l6.jpeg\",\n",
      "        \"is_translator\": false,\n",
      "        \"lang\": \"en\",\n",
      "        \"verified\": false,\n",
      "        \"profile_background_image_url\": \"http://pbs.twimg.com/profile_background_images/378800000167314015/k9sKo4l6.jpeg\",\n",
      "        \"name\": \"Leonard Ritter\",\n",
      "        \"entities\": {\n",
      "            \"url\": {\n",
      "                \"urls\": [\n",
      "                    {\n",
      "                        \"url\": \"http://t.co/7IYHdgSuFx\",\n",
      "                        \"indices\": [\n",
      "                            0,\n",
      "                            22\n",
      "                        ],\n",
      "                        \"expanded_url\": \"http://www.duangle.com/nowhere\",\n",
      "                        \"display_url\": \"duangle.com/nowhere\"\n",
      "                    }\n",
      "                ]\n",
      "            },\n",
      "            \"description\": {\n",
      "                \"urls\": []\n",
      "            }\n",
      "        },\n",
      "        \"profile_background_color\": \"000000\",\n",
      "        \"default_profile\": false,\n",
      "        \"screen_name\": \"paniq\",\n",
      "        \"following\": true,\n",
      "        \"contributors_enabled\": false,\n",
      "        \"profile_banner_url\": \"https://pbs.twimg.com/profile_banners/15840592/1472275943\",\n",
      "        \"created_at\": \"Wed Aug 13 18:50:10 +0000 2008\",\n",
      "        \"has_extended_profile\": true,\n",
      "        \"url\": \"http://t.co/7IYHdgSuFx\",\n",
      "        \"statuses_count\": 161385,\n",
      "        \"friends_count\": 1383,\n",
      "        \"location\": \"Germany\",\n",
      "        \"is_translation_enabled\": false\n",
      "    },\n",
      "    \"truncated\": false,\n",
      "    \"contributors\": null,\n",
      "    \"is_quote_status\": false,\n",
      "    \"favorite_count\": 0,\n",
      "    \"id_str\": \"820451940912037888\",\n",
      "    \"source\": \"<a href=\\\"http://twitter.com\\\" rel=\\\"nofollow\\\">Twitter Web Client</a>\",\n",
      "    \"favorited\": false,\n",
      "    \"lang\": \"en\",\n",
      "    \"place\": null,\n",
      "    \"retweeted\": false,\n",
      "    \"entities\": {\n",
      "        \"hashtags\": [],\n",
      "        \"symbols\": [],\n",
      "        \"urls\": [],\n",
      "        \"user_mentions\": [\n",
      "            {\n",
      "                \"id_str\": \"24585498\",\n",
      "                \"id\": 24585498,\n",
      "                \"name\": \"TimOfLegend\",\n",
      "                \"indices\": [\n",
      "                    3,\n",
      "                    15\n",
      "                ],\n",
      "                \"screen_name\": \"TimOfLegend\"\n",
      "            }\n",
      "        ]\n",
      "    },\n",
      "    \"in_reply_to_status_id_str\": null,\n",
      "    \"retweeted_status\": {\n",
      "        \"retweet_count\": 9,\n",
      "        \"id\": 820450997759709186,\n",
      "        \"in_reply_to_user_id\": null,\n",
      "        \"favorited\": false,\n",
      "        \"user\": {\n",
      "            \"profile_image_url_https\": \"https://pbs.twimg.com/profile_images/781246620469866496/Wp5sz1sJ_normal.jpg\",\n",
      "            \"id\": 24585498,\n",
      "            \"profile_image_url\": \"http://pbs.twimg.com/profile_images/781246620469866496/Wp5sz1sJ_normal.jpg\",\n",
      "            \"description\": \"FAQ: https://t.co/SUIdk7PIXl Official DF twitter: @doublefine Bugs & tech issues: https://t.co/A4Po9RbGml. Press requests: pr@doublefine.com\",\n",
      "            \"favourites_count\": 16522,\n",
      "            \"follow_request_sent\": false,\n",
      "            \"profile_sidebar_border_color\": \"C0DEED\",\n",
      "            \"followers_count\": 1103105,\n",
      "            \"geo_enabled\": true,\n",
      "            \"utc_offset\": -28800,\n",
      "            \"default_profile_image\": false,\n",
      "            \"profile_sidebar_fill_color\": \"DDEEF6\",\n",
      "            \"profile_text_color\": \"333333\",\n",
      "            \"notifications\": false,\n",
      "            \"profile_background_tile\": true,\n",
      "            \"profile_link_color\": \"4A913C\",\n",
      "            \"listed_count\": 4380,\n",
      "            \"id_str\": \"24585498\",\n",
      "            \"time_zone\": \"Pacific Time (US & Canada)\",\n",
      "            \"profile_use_background_image\": true,\n",
      "            \"protected\": false,\n",
      "            \"translator_type\": \"none\",\n",
      "            \"profile_background_image_url_https\": \"https://pbs.twimg.com/profile_background_images/119245359/you_and_i.jpg\",\n",
      "            \"is_translator\": false,\n",
      "            \"lang\": \"en\",\n",
      "            \"verified\": true,\n",
      "            \"profile_background_image_url\": \"http://pbs.twimg.com/profile_background_images/119245359/you_and_i.jpg\",\n",
      "            \"name\": \"TimOfLegend\",\n",
      "            \"entities\": {\n",
      "                \"url\": {\n",
      "                    \"urls\": [\n",
      "                        {\n",
      "                            \"url\": \"https://t.co/vGtEOtAC4C\",\n",
      "                            \"indices\": [\n",
      "                                0,\n",
      "                                23\n",
      "                            ],\n",
      "                            \"expanded_url\": \"http://www.doublefine.com\",\n",
      "                            \"display_url\": \"doublefine.com\"\n",
      "                        }\n",
      "                    ]\n",
      "                },\n",
      "                \"description\": {\n",
      "                    \"urls\": [\n",
      "                        {\n",
      "                            \"url\": \"https://t.co/SUIdk7PIXl\",\n",
      "                            \"indices\": [\n",
      "                                5,\n",
      "                                28\n",
      "                            ],\n",
      "                            \"expanded_url\": \"http://www.doublefine.com/about\",\n",
      "                            \"display_url\": \"doublefine.com/about\"\n",
      "                        },\n",
      "                        {\n",
      "                            \"url\": \"https://t.co/A4Po9RbGml\",\n",
      "                            \"indices\": [\n",
      "                                82,\n",
      "                                105\n",
      "                            ],\n",
      "                            \"expanded_url\": \"http://support.doublefine.com\",\n",
      "                            \"display_url\": \"support.doublefine.com\"\n",
      "                        }\n",
      "                    ]\n",
      "                }\n",
      "            },\n",
      "            \"profile_background_color\": \"C0DEED\",\n",
      "            \"default_profile\": false,\n",
      "            \"screen_name\": \"TimOfLegend\",\n",
      "            \"following\": false,\n",
      "            \"contributors_enabled\": false,\n",
      "            \"profile_banner_url\": \"https://pbs.twimg.com/profile_banners/24585498/1421107929\",\n",
      "            \"created_at\": \"Sun Mar 15 21:03:29 +0000 2009\",\n",
      "            \"has_extended_profile\": false,\n",
      "            \"url\": \"https://t.co/vGtEOtAC4C\",\n",
      "            \"statuses_count\": 25404,\n",
      "            \"friends_count\": 812,\n",
      "            \"location\": \"San Francisco, CA\",\n",
      "            \"is_translation_enabled\": false\n",
      "        },\n",
      "        \"truncated\": false,\n",
      "        \"contributors\": null,\n",
      "        \"favorite_count\": 30,\n",
      "        \"id_str\": \"820450997759709186\",\n",
      "        \"source\": \"<a href=\\\"http://twitter.com/download/iphone\\\" rel=\\\"nofollow\\\">Twitter for iPhone</a>\",\n",
      "        \"in_reply_to_screen_name\": null,\n",
      "        \"lang\": \"en\",\n",
      "        \"place\": null,\n",
      "        \"retweeted\": false,\n",
      "        \"entities\": {\n",
      "            \"hashtags\": [],\n",
      "            \"symbols\": [],\n",
      "            \"urls\": [],\n",
      "            \"user_mentions\": []\n",
      "        },\n",
      "        \"in_reply_to_status_id_str\": null,\n",
      "        \"is_quote_status\": false,\n",
      "        \"text\": \"If you could make a human centipede using only 3-headed dogs, it could be a fun way to teach fractals to kids.\",\n",
      "        \"in_reply_to_user_id_str\": null,\n",
      "        \"in_reply_to_status_id\": null,\n",
      "        \"coordinates\": null,\n",
      "        \"created_at\": \"Sun Jan 15 02:02:15 +0000 2017\",\n",
      "        \"geo\": null\n",
      "    },\n",
      "    \"text\": \"RT @TimOfLegend: If you could make a human centipede using only 3-headed dogs, it could be a fun way to teach fractals to kids.\",\n",
      "    \"in_reply_to_user_id_str\": null,\n",
      "    \"in_reply_to_status_id\": null,\n",
      "    \"coordinates\": null,\n",
      "    \"created_at\": \"Sun Jan 15 02:06:00 +0000 2017\",\n",
      "    \"geo\": null\n",
      "}\n"
     ]
    }
   ],
   "source": [
    "for status in Cursor(client.home_timeline).items(1):\n",
    "    print(json.dumps(status._json, indent=4))"
   ]
  }
 ],
 "metadata": {
  "anaconda-cloud": {},
  "kernelspec": {
   "display_name": "Python [default]",
   "language": "python",
   "name": "python3"
  },
  "language_info": {
   "codemirror_mode": {
    "name": "ipython",
    "version": 3
   },
   "file_extension": ".py",
   "mimetype": "text/x-python",
   "name": "python",
   "nbconvert_exporter": "python",
   "pygments_lexer": "ipython3",
   "version": "3.5.2"
  }
 },
 "nbformat": 4,
 "nbformat_minor": 1
}
