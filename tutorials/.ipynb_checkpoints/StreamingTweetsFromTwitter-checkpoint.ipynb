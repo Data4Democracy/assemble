{
 "cells": [
  {
   "cell_type": "markdown",
   "metadata": {},
   "source": [
    "# Requires \n",
    "[dataset](https://dataset.readthedocs.io/en/latest/)  \n",
    "[tweepy](http://tweepy.readthedocs.io/en/v3.5.0/)  \n",
    "\n",
    "`pip install tweepy`  \n",
    "`pip install dataset`"
   ]
  },
  {
   "cell_type": "code",
   "execution_count": null,
   "metadata": {
    "collapsed": true
   },
   "outputs": [],
   "source": [
    "import tweepy\n",
    "import dataset\n",
    "import json"
   ]
  },
  {
   "cell_type": "markdown",
   "metadata": {},
   "source": [
    "# Fill in your twitter API keys and tokens  \n",
    "If you need to get access to the API signup [here](https://dev.twitter.com/)"
   ]
  },
  {
   "cell_type": "code",
   "execution_count": null,
   "metadata": {
    "collapsed": true
   },
   "outputs": [],
   "source": [
    "CONSUMER_KEY = \"<Placeholder>\"\n",
    "CONSUMER_SECRET = \"<Placeholder>\"\n",
    "ACCESS_TOKEN = \"<Placeholder>\"\n",
    "ACCESS_TOKEN_SECRET = \"<Placeholder>\""
   ]
  },
  {
   "cell_type": "markdown",
   "metadata": {},
   "source": [
    "# Create a [StreamListener](http://docs.tweepy.org/en/v3.5.0/streaming_how_to.html)"
   ]
  },
  {
   "cell_type": "code",
   "execution_count": null,
   "metadata": {
    "collapsed": false
   },
   "outputs": [],
   "source": [
    "class StreamListener(tweepy.StreamListener):\n",
    "    def __init__(self, api=None):\n",
    "        super(StreamListener, self).__init__()\n",
    "        self.num_tweets = 0\n",
    "        \n",
    "    def on_status(self, status):\n",
    "        '''This function is called each time a new tweet is sent to subscribed stream'''\n",
    "        \n",
    "        # stop once limit is hit\n",
    "        if self.num_tweets >= LIMIT:\n",
    "            print('\\n \\n Stored {} tweets {}'.format(LIMIT, db))\n",
    "            return False\n",
    "        \n",
    "        # skip retweets\n",
    "        if hasattr(status, 'retweeted_status'):\n",
    "            return\n",
    "        \n",
    "        \n",
    "        else:\n",
    "            # count tweet \n",
    "            self.num_tweets += 1\n",
    "            if PRINT_TO_NOTEBOOK == 'Y':\n",
    "                print(status.text)\n",
    "            \n",
    "            # check for hashtags and save as list\n",
    "            if hasattr(status, 'entities'):\n",
    "                hashtags = []\n",
    "                for tag in status.entities['hashtags']:\n",
    "                    hashtags.append(tag['text'])\n",
    "                hashtags = json.dumps(hashtags)\n",
    "\n",
    "            # build dictionary of elements you want to save\n",
    "            # Just some of many available  fields\n",
    "            # https://dev.twitter.com/overview/api/tweets\n",
    "            # https://dev.twitter.com/overview/api/users\n",
    "            \n",
    "            tweet_dict = {\n",
    "                'description': status.user.description,\n",
    "                'loc': status.user.location,\n",
    "                'text': status.text,\n",
    "                'name': status.user.screen_name,\n",
    "                'user_created': status.user.created_at,\n",
    "                'followers': status.user.followers_count,\n",
    "                'id_str': status.id_str,\n",
    "                'retweet_count': status.retweet_count,\n",
    "                'friends_count': status.user.friends_count,\n",
    "                'hashtags': hashtags\n",
    "            }\n",
    "            \n",
    "            store_tweet(tweet_dict)\n",
    "        \n",
    "    def on_error(self, status_code):\n",
    "        '''Twitter is rate limiting, exit'''\n",
    "\n",
    "        if status_code == 420:\n",
    "            print('Twitter rate limit error_code {}, exiting...'.format(status_code))\n",
    "            return False"
   ]
  },
  {
   "cell_type": "code",
   "execution_count": null,
   "metadata": {
    "collapsed": true
   },
   "outputs": [],
   "source": [
    "# Save tweet to sqlite db\n",
    "def store_tweet(tweet_dict):\n",
    "    # set table\n",
    "    table = db['tweets']\n",
    "    table.insert(tweet_dict)"
   ]
  },
  {
   "cell_type": "markdown",
   "metadata": {},
   "source": [
    "### Configuration:\n",
    "`TOPICS` = topics you want to follow/stream  \n",
    "`LIMIT` = STOP after X number of tweets collected  \n",
    "`DATABASE_NAME` = name of SQLITE database  \n",
    "`PRINT_TO_NOTEBOOK` = If `Y` prints tweet text to notbook (turn off for large # of tweets)"
   ]
  },
  {
   "cell_type": "code",
   "execution_count": null,
   "metadata": {
    "collapsed": false
   },
   "outputs": [],
   "source": [
    "TOPICS = [\"baseball\", \"football\"]\n",
    "LIMIT = 10\n",
    "DATABASE_NAME = 'tweet_stream'\n",
    "PRINT_TO_NOTEBOOK = 'Y'\n"
   ]
  },
  {
   "cell_type": "markdown",
   "metadata": {},
   "source": [
    "# Setup connection & database"
   ]
  },
  {
   "cell_type": "code",
   "execution_count": null,
   "metadata": {
    "collapsed": false
   },
   "outputs": [],
   "source": [
    "auth = tweepy.OAuthHandler(CONSUMER_KEY, CONSUMER_SECRET)\n",
    "auth.set_access_token(ACCESS_TOKEN, ACCESS_TOKEN_SECRET)\n",
    "api = tweepy.API(auth)\n",
    "\n",
    "stream_listener = StreamListener()\n",
    "stream = tweepy.Stream(auth=api.auth, listener=stream_listener)\n",
    "db = dataset.connect('sqlite:///{}.sqlite'.format(DATABASE_NAME))"
   ]
  },
  {
   "cell_type": "markdown",
   "metadata": {},
   "source": [
    "# Try it:"
   ]
  },
  {
   "cell_type": "code",
   "execution_count": null,
   "metadata": {
    "collapsed": false
   },
   "outputs": [],
   "source": [
    "# Starts the stream\n",
    "stream.filter(track=TOPICS)"
   ]
  }
 ],
 "metadata": {
  "anaconda-cloud": {},
  "kernelspec": {
   "display_name": "Python [conda root]",
   "language": "python",
   "name": "conda-root-py"
  },
  "language_info": {
   "codemirror_mode": {
    "name": "ipython",
    "version": 3
   },
   "file_extension": ".py",
   "mimetype": "text/x-python",
   "name": "python",
   "nbconvert_exporter": "python",
   "pygments_lexer": "ipython3",
   "version": "3.5.2"
  }
 },
 "nbformat": 4,
 "nbformat_minor": 1
}
